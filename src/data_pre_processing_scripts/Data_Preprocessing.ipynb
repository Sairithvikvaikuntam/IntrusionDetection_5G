{
 "cells": [
  {
   "cell_type": "code",
   "execution_count": 1,
   "metadata": {},
   "outputs": [],
   "source": [
    "import pandas as pd\n",
    "from sklearn.preprocessing import MinMaxScaler,LabelEncoder\n",
    "from sklearn.feature_selection import SelectKBest\n",
    "from sklearn.feature_selection import chi2"
   ]
  },
  {
   "cell_type": "code",
   "execution_count": 2,
   "metadata": {},
   "outputs": [],
   "source": [
    "df = pd.read_csv('../../data_processed/Encoded.csv')\n",
    "del df[df.columns[0]]"
   ]
  },
  {
   "cell_type": "code",
   "execution_count": 3,
   "metadata": {},
   "outputs": [
    {
     "data": {
      "text/plain": [
       "Index(['Seq', 'Dur', 'RunTime', 'Mean', 'Sum', 'Min', 'Max', 'sTos', 'dTos',\n",
       "       'sTtl', 'dTtl', 'sHops', 'dHops', 'TotPkts', 'SrcPkts', 'DstPkts',\n",
       "       'TotBytes', 'SrcBytes', 'DstBytes', 'Offset', 'sMeanPktSz',\n",
       "       'dMeanPktSz', 'Load', 'SrcLoad', 'DstLoad', 'Loss', 'SrcLoss',\n",
       "       'DstLoss', 'pLoss', 'SrcGap', 'DstGap', 'Rate', 'SrcRate', 'DstRate',\n",
       "       'SrcWin', 'DstWin', 'sVid', 'dVid', 'SrcTCPBase', 'DstTCPBase',\n",
       "       'TcpRtt', 'SynAck', 'AckDat', 'Label', 'Attack Type', 'Attack Tool',\n",
       "       ' *        ', ' *    V   ', ' *    f   ', ' e        ', ' e    f   ',\n",
       "       ' e &      ', ' e *      ', ' e d      ', ' e g      ', ' e i      ',\n",
       "       ' e r      ', ' e s      ', ' eU       ', 'e        ', 'arp', 'icmp',\n",
       "       'ipv6-icmp', 'llc', 'lldp', 'sctp', 'tcp', 'udp', 'ACC', 'CON', 'ECO',\n",
       "       'FIN', 'INT', 'NRS', 'REQ', 'RSP', 'RST', 'TST', 'URP', 'Shutdown',\n",
       "       'Start', 'Status', '39', '4', '52', '54', 'af11', 'af12', 'af41', 'cs0',\n",
       "       'cs4', 'cs6', 'cs7', 'ef', 'nan'],\n",
       "      dtype='object')"
      ]
     },
     "execution_count": 3,
     "metadata": {},
     "output_type": "execute_result"
    }
   ],
   "source": [
    "df.columns"
   ]
  },
  {
   "cell_type": "code",
   "execution_count": 4,
   "metadata": {},
   "outputs": [],
   "source": [
    "df.drop(columns=['RunTime', 'Mean', 'Sum', 'Min', 'Max', 'Attack Tool', ' *        ', ' *    V   ', ' *    f   ', ' e        ', ' e    f   ',\n",
    "       ' e &      ', ' e *      ', ' e d      ', ' e g      ', ' e i      ',\n",
    "       ' e r      ', ' e s      ', ' eU       ', 'e        ',], inplace=True)"
   ]
  },
  {
   "cell_type": "code",
   "execution_count": 5,
   "metadata": {},
   "outputs": [
    {
     "name": "stdout",
     "output_type": "stream",
     "text": [
      "              Seq       Dur      sTos      dTos      sTtl      dTtl     sHops   \n",
      "0        0.000000  0.000000  0.000000       NaN  0.100457       NaN  0.214286  \\\n",
      "1        0.000007  0.000000  0.000000       NaN  0.100457       NaN  0.214286   \n",
      "2        0.000015  0.250897  0.000000  0.000000  0.369863  0.123853  0.392857   \n",
      "3        0.000022  0.250898  0.000000  0.000000  0.369863  0.123853  0.392857   \n",
      "4        0.000029  0.250969  0.000000  0.000000  0.369863  0.123853  0.392857   \n",
      "...           ...       ...       ...       ...       ...       ...       ...   \n",
      "1215885  0.000000  0.000000  0.830357  1.000000  0.986301  1.000000  0.142857   \n",
      "1215886  0.000015  0.011827  0.830357  0.215054  1.000000  0.977064  0.035714   \n",
      "1215887  0.005561  0.005016  0.000000  0.000000  0.127854  0.353211  0.000000   \n",
      "1215888  0.000015  0.065653  0.830357  0.215054  1.000000  0.977064  0.035714   \n",
      "1215889  0.000000  0.023935  0.830357  1.000000  0.986301  1.000000  0.142857   \n",
      "\n",
      "         dHops   TotPkts   SrcPkts  ...   54  af11  af12  af41  cs0  cs4  cs6   \n",
      "0          NaN  0.000000  0.001014  ...  0.0   0.0   0.0   0.0  1.0  0.0  0.0  \\\n",
      "1          NaN  0.000000  0.001014  ...  0.0   0.0   0.0   0.0  1.0  0.0  0.0   \n",
      "2         0.00  0.053303  0.198783  ...  0.0   0.0   0.0   0.0  1.0  0.0  0.0   \n",
      "3         0.00  0.045796  0.165314  ...  0.0   0.0   0.0   0.0  1.0  0.0  0.0   \n",
      "4         0.00  0.055556  0.206897  ...  0.0   0.0   0.0   0.0  1.0  0.0  0.0   \n",
      "...        ...       ...       ...  ...  ...   ...   ...   ...  ...  ...  ...   \n",
      "1215885   0.02  0.000250  0.001014  ...  0.0   0.0   0.0   0.0  0.0  0.0  0.0   \n",
      "1215886   0.12  0.001251  0.003043  ...  0.0   0.0   0.0   0.0  0.0  0.0  0.0   \n",
      "1215887   0.28  0.000501  0.002028  ...  0.0   0.0   0.0   0.0  1.0  0.0  0.0   \n",
      "1215888   0.12  0.001251  0.003043  ...  0.0   0.0   0.0   0.0  0.0  0.0  0.0   \n",
      "1215889   0.02  0.000751  0.002028  ...  0.0   0.0   0.0   0.0  0.0  0.0  0.0   \n",
      "\n",
      "         cs7   ef  nan  \n",
      "0        0.0  0.0  0.0  \n",
      "1        0.0  0.0  0.0  \n",
      "2        0.0  0.0  0.0  \n",
      "3        0.0  0.0  0.0  \n",
      "4        0.0  0.0  0.0  \n",
      "...      ...  ...  ...  \n",
      "1215885  0.0  1.0  0.0  \n",
      "1215886  0.0  1.0  0.0  \n",
      "1215887  0.0  0.0  0.0  \n",
      "1215888  0.0  1.0  0.0  \n",
      "1215889  0.0  1.0  0.0  \n",
      "\n",
      "[1215890 rows x 75 columns]\n"
     ]
    }
   ],
   "source": [
    "# Scale the data using Min-Max scaling\n",
    "scaler = MinMaxScaler()\n",
    "idx = df.columns.get_loc('Label')\n",
    "df.iloc[:, :idx] = scaler.fit_transform(df.iloc[:, :idx])\n",
    "print(df)"
   ]
  },
  {
   "cell_type": "code",
   "execution_count": 6,
   "metadata": {},
   "outputs": [],
   "source": [
    "df = df[[c for c in df if c not in ['Label', 'Attack Type']] + ['Label', 'Attack Type']]"
   ]
  },
  {
   "cell_type": "code",
   "execution_count": 7,
   "metadata": {},
   "outputs": [],
   "source": [
    "label_encoder = LabelEncoder()\n",
    "df['Label'] = label_encoder.fit_transform(df['Label'])\n",
    "df['Attack Type'] = label_encoder.fit_transform(df['Attack Type'])"
   ]
  },
  {
   "cell_type": "code",
   "execution_count": 8,
   "metadata": {},
   "outputs": [
    {
     "name": "stdout",
     "output_type": "stream",
     "text": [
      "              Seq       Dur      sTos      dTos      sTtl      dTtl     sHops   \n",
      "0        0.000000  0.000000  0.000000  0.014181  0.100457  0.129925  0.214286  \\\n",
      "1        0.000007  0.000000  0.000000  0.014181  0.100457  0.129925  0.214286   \n",
      "2        0.000015  0.250897  0.000000  0.000000  0.369863  0.123853  0.392857   \n",
      "3        0.000022  0.250898  0.000000  0.000000  0.369863  0.123853  0.392857   \n",
      "4        0.000029  0.250969  0.000000  0.000000  0.369863  0.123853  0.392857   \n",
      "...           ...       ...       ...       ...       ...       ...       ...   \n",
      "1215885  0.000000  0.000000  0.830357  1.000000  0.986301  1.000000  0.142857   \n",
      "1215886  0.000015  0.011827  0.830357  0.215054  1.000000  0.977064  0.035714   \n",
      "1215887  0.005561  0.005016  0.000000  0.000000  0.127854  0.353211  0.000000   \n",
      "1215888  0.000015  0.065653  0.830357  0.215054  1.000000  0.977064  0.035714   \n",
      "1215889  0.000000  0.023935  0.830357  1.000000  0.986301  1.000000  0.142857   \n",
      "\n",
      "            dHops   TotPkts   SrcPkts  ...  af12  af41  cs0  cs4  cs6  cs7   \n",
      "0        0.100484  0.000000  0.001014  ...   0.0   0.0  1.0  0.0  0.0  0.0  \\\n",
      "1        0.100484  0.000000  0.001014  ...   0.0   0.0  1.0  0.0  0.0  0.0   \n",
      "2        0.000000  0.053303  0.198783  ...   0.0   0.0  1.0  0.0  0.0  0.0   \n",
      "3        0.000000  0.045796  0.165314  ...   0.0   0.0  1.0  0.0  0.0  0.0   \n",
      "4        0.000000  0.055556  0.206897  ...   0.0   0.0  1.0  0.0  0.0  0.0   \n",
      "...           ...       ...       ...  ...   ...   ...  ...  ...  ...  ...   \n",
      "1215885  0.020000  0.000250  0.001014  ...   0.0   0.0  0.0  0.0  0.0  0.0   \n",
      "1215886  0.120000  0.001251  0.003043  ...   0.0   0.0  0.0  0.0  0.0  0.0   \n",
      "1215887  0.280000  0.000501  0.002028  ...   0.0   0.0  1.0  0.0  0.0  0.0   \n",
      "1215888  0.120000  0.001251  0.003043  ...   0.0   0.0  0.0  0.0  0.0  0.0   \n",
      "1215889  0.020000  0.000751  0.002028  ...   0.0   0.0  0.0  0.0  0.0  0.0   \n",
      "\n",
      "          ef  nan  Label  Attack Type  \n",
      "0        0.0  0.0      0            0  \n",
      "1        0.0  0.0      0            0  \n",
      "2        0.0  0.0      0            0  \n",
      "3        0.0  0.0      0            0  \n",
      "4        0.0  0.0      0            0  \n",
      "...      ...  ...    ...          ...  \n",
      "1215885  1.0  0.0      0            0  \n",
      "1215886  1.0  0.0      0            0  \n",
      "1215887  0.0  0.0      0            0  \n",
      "1215888  1.0  0.0      0            0  \n",
      "1215889  1.0  0.0      0            0  \n",
      "\n",
      "[1215890 rows x 75 columns]\n"
     ]
    }
   ],
   "source": [
    "df.fillna(df.mean(), inplace = True)\n",
    "print(df)"
   ]
  },
  {
   "cell_type": "code",
   "execution_count": 9,
   "metadata": {},
   "outputs": [],
   "source": [
    "df.to_csv('../../data_processed/Data_Processed_Bin_Cla_SRV.csv', index=False)"
   ]
  }
 ],
 "metadata": {
  "kernelspec": {
   "display_name": "Python 3",
   "language": "python",
   "name": "python3"
  },
  "language_info": {
   "codemirror_mode": {
    "name": "ipython",
    "version": 3
   },
   "file_extension": ".py",
   "mimetype": "text/x-python",
   "name": "python",
   "nbconvert_exporter": "python",
   "pygments_lexer": "ipython3",
   "version": "3.11.5"
  }
 },
 "nbformat": 4,
 "nbformat_minor": 2
}
