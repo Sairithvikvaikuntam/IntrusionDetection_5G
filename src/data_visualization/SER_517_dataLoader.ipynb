{
  "nbformat": 4,
  "nbformat_minor": 0,
  "metadata": {
    "colab": {
      "provenance": []
    },
    "kernelspec": {
      "name": "python3",
      "display_name": "Python 3"
    },
    "language_info": {
      "name": "python"
    }
  },
  "cells": [
    {
      "cell_type": "code",
      "execution_count": 1,
      "metadata": {
        "id": "cQ-OPlHPIdFa"
      },
      "outputs": [],
      "source": [
        "import pandas as pd\n",
        "\n",
        "from scipy.stats import f_oneway\n",
        "from sklearn.preprocessing import StandardScaler\n",
        "\n",
        "# from sklearn.impute import KNNImputer\n",
        "import seaborn as sns\n",
        "import matplotlib.pyplot as plt"
      ]
    },
    {
      "cell_type": "code",
      "source": [
        "#mount google drive\n",
        "\n",
        "from google.colab import drive\n",
        "\n",
        "drive.mount('/content/drive')\n"
      ],
      "metadata": {
        "colab": {
          "base_uri": "https://localhost:8080/"
        },
        "id": "yLlSL7NHIkxf",
        "outputId": "6d833409-b471-4d42-adf2-d742cac77e43"
      },
      "execution_count": 2,
      "outputs": [
        {
          "output_type": "stream",
          "name": "stdout",
          "text": [
            "Mounted at /content/drive\n"
          ]
        }
      ]
    },
    {
      "cell_type": "code",
      "source": [
        "path = \"/content/drive/MyDrive/\"\n",
        "\n",
        "combinedDf = pd.read_csv(path + 'Combined.csv')"
      ],
      "metadata": {
        "colab": {
          "base_uri": "https://localhost:8080/"
        },
        "id": "ONvePHmPIkur",
        "outputId": "391f7218-c413-465e-c995-3366708d6252"
      },
      "execution_count": 3,
      "outputs": [
        {
          "output_type": "stream",
          "name": "stderr",
          "text": [
            "<ipython-input-3-17aea7ac84aa>:3: DtypeWarning: Columns (12) have mixed types. Specify dtype option on import or set low_memory=False.\n",
            "  combinedDf = pd.read_csv(path + 'Combined.csv')\n"
          ]
        }
      ]
    },
    {
      "cell_type": "code",
      "source": [
        "# Info of the data\n",
        "combinedDf.info()"
      ],
      "metadata": {
        "colab": {
          "base_uri": "https://localhost:8080/"
        },
        "id": "RQ51JRIcIkru",
        "outputId": "6bb3982d-99de-41ac-fa1f-ac791855b0dc"
      },
      "execution_count": 4,
      "outputs": [
        {
          "output_type": "stream",
          "name": "stdout",
          "text": [
            "<class 'pandas.core.frame.DataFrame'>\n",
            "RangeIndex: 1215890 entries, 0 to 1215889\n",
            "Data columns (total 52 columns):\n",
            " #   Column       Non-Null Count    Dtype  \n",
            "---  ------       --------------    -----  \n",
            " 0   Unnamed: 0   1215890 non-null  int64  \n",
            " 1   Seq          1215890 non-null  int64  \n",
            " 2   Dur          1215890 non-null  float64\n",
            " 3   RunTime      1215890 non-null  float64\n",
            " 4   Mean         1215890 non-null  float64\n",
            " 5   Sum          1215890 non-null  float64\n",
            " 6   Min          1215890 non-null  float64\n",
            " 7   Max          1215890 non-null  float64\n",
            " 8   Proto        1215890 non-null  object \n",
            " 9   sTos         1215676 non-null  float64\n",
            " 10  dTos         272823 non-null   float64\n",
            " 11  sDSb         1215676 non-null  object \n",
            " 12  dDSb         272823 non-null   object \n",
            " 13  sTtl         1215676 non-null  float64\n",
            " 14  dTtl         272823 non-null   float64\n",
            " 15  sHops        1215676 non-null  float64\n",
            " 16  dHops        272823 non-null   float64\n",
            " 17  Cause        1215890 non-null  object \n",
            " 18  TotPkts      1215890 non-null  int64  \n",
            " 19  SrcPkts      1215890 non-null  int64  \n",
            " 20  DstPkts      1215890 non-null  int64  \n",
            " 21  TotBytes     1215890 non-null  int64  \n",
            " 22  SrcBytes     1215890 non-null  int64  \n",
            " 23  DstBytes     1215890 non-null  int64  \n",
            " 24  Offset       1215890 non-null  int64  \n",
            " 25  sMeanPktSz   1215890 non-null  float64\n",
            " 26  dMeanPktSz   1215890 non-null  float64\n",
            " 27  Load         1215890 non-null  float64\n",
            " 28  SrcLoad      1215890 non-null  float64\n",
            " 29  DstLoad      1215890 non-null  float64\n",
            " 30  Loss         1215890 non-null  int64  \n",
            " 31  SrcLoss      1215890 non-null  int64  \n",
            " 32  DstLoss      1215890 non-null  int64  \n",
            " 33  pLoss        1215890 non-null  float64\n",
            " 34  SrcGap       278671 non-null   float64\n",
            " 35  DstGap       278671 non-null   float64\n",
            " 36  Rate         1215890 non-null  float64\n",
            " 37  SrcRate      1215890 non-null  float64\n",
            " 38  DstRate      1215890 non-null  float64\n",
            " 39  State        1215890 non-null  object \n",
            " 40  SrcWin       242420 non-null   float64\n",
            " 41  DstWin       177078 non-null   float64\n",
            " 42  sVid         114571 non-null   float64\n",
            " 43  dVid         2009 non-null     float64\n",
            " 44  SrcTCPBase   278671 non-null   float64\n",
            " 45  DstTCPBase   230047 non-null   float64\n",
            " 46  TcpRtt       1215890 non-null  float64\n",
            " 47  SynAck       1215890 non-null  float64\n",
            " 48  AckDat       1215890 non-null  float64\n",
            " 49  Label        1215890 non-null  object \n",
            " 50  Attack Type  1215890 non-null  object \n",
            " 51  Attack Tool  1215890 non-null  object \n",
            "dtypes: float64(32), int64(12), object(8)\n",
            "memory usage: 482.4+ MB\n"
          ]
        }
      ]
    },
    {
      "cell_type": "code",
      "source": [
        "# Number of rows\n",
        "combinedDf.shape[0]\n",
        "\n",
        "\n",
        "object_columns =  combinedDf.select_dtypes(include=[object]).columns\n",
        "float_columns = combinedDf.select_dtypes(include=[float]).columns\n",
        "int_columns = combinedDf.select_dtypes(include=[int]).columns"
      ],
      "metadata": {
        "id": "FjrOAh41Ikoh"
      },
      "execution_count": 5,
      "outputs": []
    },
    {
      "cell_type": "code",
      "source": [
        "columns_null = []\n",
        "columns = combinedDf.columns\n",
        "for column in columns:\n",
        "    c = combinedDf[column].isnull().sum()\n",
        "    if c != 0:\n",
        "        print(column, 'has {} null values'.format(c))\n",
        "        columns_null.append(column)"
      ],
      "metadata": {
        "colab": {
          "base_uri": "https://localhost:8080/"
        },
        "id": "ehVkvYUeIklQ",
        "outputId": "520237a9-9dd7-49b5-9f0e-c7c54c9ae43d"
      },
      "execution_count": 6,
      "outputs": [
        {
          "output_type": "stream",
          "name": "stdout",
          "text": [
            "sTos has 214 null values\n",
            "dTos has 943067 null values\n",
            "sDSb has 214 null values\n",
            "dDSb has 943067 null values\n",
            "sTtl has 214 null values\n",
            "dTtl has 943067 null values\n",
            "sHops has 214 null values\n",
            "dHops has 943067 null values\n",
            "SrcGap has 937219 null values\n",
            "DstGap has 937219 null values\n",
            "SrcWin has 973470 null values\n",
            "DstWin has 1038812 null values\n",
            "sVid has 1101319 null values\n",
            "dVid has 1213881 null values\n",
            "SrcTCPBase has 937219 null values\n",
            "DstTCPBase has 985843 null values\n"
          ]
        }
      ]
    },
    {
      "cell_type": "code",
      "source": [
        "columnsWithMoreSingularValues = []\n",
        "\n",
        "# Iterate through each column in the DataFrame\n",
        "for column in combinedDf.columns:\n",
        "    # Calculate the percentage of occurrences of the most frequent value\n",
        "    dominant_value_percentage = combinedDf[column].value_counts(normalize=True).max() * 100\n",
        "\n",
        "    # Check if the percentage exceeds 80%\n",
        "    if dominant_value_percentage > 80:\n",
        "        columnsWithMoreSingularValues.append(column)\n",
        "        print(f\"Column '{column}' has a dominant value occupying more than 80%.\")"
      ],
      "metadata": {
        "colab": {
          "base_uri": "https://localhost:8080/"
        },
        "id": "YlVAvApeIkiW",
        "outputId": "e4077928-c9fd-46a4-e2cb-621c5d036608"
      },
      "execution_count": 7,
      "outputs": [
        {
          "output_type": "stream",
          "name": "stdout",
          "text": [
            "Column 'sTos' has a dominant value occupying more than 80%.\n",
            "Column 'dTos' has a dominant value occupying more than 80%.\n",
            "Column 'sDSb' has a dominant value occupying more than 80%.\n",
            "Column 'dDSb' has a dominant value occupying more than 80%.\n",
            "Column 'sTtl' has a dominant value occupying more than 80%.\n",
            "Column 'dTtl' has a dominant value occupying more than 80%.\n",
            "Column 'sHops' has a dominant value occupying more than 80%.\n",
            "Column 'dHops' has a dominant value occupying more than 80%.\n",
            "Column 'DstLoad' has a dominant value occupying more than 80%.\n",
            "Column 'Loss' has a dominant value occupying more than 80%.\n",
            "Column 'SrcLoss' has a dominant value occupying more than 80%.\n",
            "Column 'DstLoss' has a dominant value occupying more than 80%.\n",
            "Column 'pLoss' has a dominant value occupying more than 80%.\n",
            "Column 'SrcGap' has a dominant value occupying more than 80%.\n",
            "Column 'DstGap' has a dominant value occupying more than 80%.\n",
            "Column 'DstRate' has a dominant value occupying more than 80%.\n",
            "Column 'sVid' has a dominant value occupying more than 80%.\n",
            "Column 'dVid' has a dominant value occupying more than 80%.\n",
            "Column 'TcpRtt' has a dominant value occupying more than 80%.\n",
            "Column 'SynAck' has a dominant value occupying more than 80%.\n",
            "Column 'AckDat' has a dominant value occupying more than 80%.\n"
          ]
        }
      ]
    },
    {
      "cell_type": "code",
      "source": [
        "\n",
        "\n",
        "\n",
        "selected_features = []\n",
        "\n",
        "for column in combinedDf.columns:\n",
        "    if combinedDf[column].dtype in ['int64', 'float64']:\n",
        "      # Perform one-way ANOVA\n",
        "      f_statistic, p_value = f_oneway(*[group[column] for name, group in combinedDf.groupby('Label')])\n",
        "\n",
        "      if p_value < 0.05:\n",
        "          selected_features.append(column)\n",
        "\n",
        "# Print selected features\n",
        "print(\"Selected Features:\")\n",
        "print(selected_features)"
      ],
      "metadata": {
        "colab": {
          "base_uri": "https://localhost:8080/"
        },
        "id": "7ahtqjbmIkfC",
        "outputId": "de804179-ba2f-4746-ad8a-714b857cd859"
      },
      "execution_count": 8,
      "outputs": [
        {
          "output_type": "stream",
          "name": "stdout",
          "text": [
            "Selected Features:\n",
            "['Unnamed: 0', 'Seq', 'Dur', 'RunTime', 'Mean', 'Sum', 'Min', 'Max', 'TotPkts', 'SrcPkts', 'DstPkts', 'TotBytes', 'SrcBytes', 'DstBytes', 'Offset', 'sMeanPktSz', 'dMeanPktSz', 'Load', 'SrcLoad', 'DstLoad', 'Loss', 'SrcLoss', 'DstLoss', 'pLoss', 'Rate', 'SrcRate', 'DstRate', 'TcpRtt', 'SynAck', 'AckDat']\n"
          ]
        }
      ]
    },
    {
      "cell_type": "code",
      "source": [
        "remaining_features = [featureName for featureName in selected_features if featureName not in columnsWithMoreSingularValues]\n",
        "\n",
        "# Initialize StandardScaler\n",
        "scaler = StandardScaler()\n",
        "\n",
        "# Fit and transform the selected columns\n",
        "combinedDf[remaining_features] = scaler.fit_transform(combinedDf[remaining_features])"
      ],
      "metadata": {
        "id": "dZ3rTEHdIkcI"
      },
      "execution_count": 9,
      "outputs": []
    },
    {
      "cell_type": "code",
      "source": [
        "remaining_features.append('Label')\n",
        "remaining_features.append('Attack Type')\n",
        "remaining_features.append('Attack Tool')\n",
        "print(remaining_features)\n",
        "print(len(remaining_features))"
      ],
      "metadata": {
        "colab": {
          "base_uri": "https://localhost:8080/"
        },
        "id": "-DEKkhp3IkZV",
        "outputId": "66f001d8-9e69-4a54-cf51-0fb6a653229c"
      },
      "execution_count": 10,
      "outputs": [
        {
          "output_type": "stream",
          "name": "stdout",
          "text": [
            "['Unnamed: 0', 'Seq', 'Dur', 'RunTime', 'Mean', 'Sum', 'Min', 'Max', 'TotPkts', 'SrcPkts', 'DstPkts', 'TotBytes', 'SrcBytes', 'DstBytes', 'Offset', 'sMeanPktSz', 'dMeanPktSz', 'Load', 'SrcLoad', 'Rate', 'SrcRate', 'Label', 'Attack Type', 'Attack Tool']\n",
            "24\n"
          ]
        }
      ]
    },
    {
      "cell_type": "code",
      "source": [
        "# These columns are selected based on the ANOVA F scores and the null values and Removing columns which has dominant singular values and the understanding of the features computed for binary and multi level classification\n",
        "\n",
        "combinedDf = combinedDf[remaining_features]\n"
      ],
      "metadata": {
        "id": "P20k3XSpIkWZ"
      },
      "execution_count": 11,
      "outputs": []
    },
    {
      "cell_type": "code",
      "source": [
        "columns_null = []\n",
        "columns = combinedDf.columns\n",
        "for column in columns:\n",
        "    c = combinedDf[column].isnull().sum()\n",
        "    if c != 0:\n",
        "        print(column, 'has {} null values'.format(c))\n",
        "        columns_null.append(column)"
      ],
      "metadata": {
        "id": "6RkuJjetIkTs"
      },
      "execution_count": 12,
      "outputs": []
    },
    {
      "cell_type": "code",
      "source": [
        "file_path_drive = '/content/drive/My Drive/updated_Combined.csv'\n",
        "\n",
        "# Write DataFrame to a CSV file\n",
        "combinedDf.to_csv(file_path_drive, index=False)"
      ],
      "metadata": {
        "id": "318KjsOcIkQs"
      },
      "execution_count": 13,
      "outputs": []
    },
    {
      "cell_type": "code",
      "source": [
        "# Step 1: Summary Statistics\n",
        "summary_stats = combinedDf.describe()\n",
        "print(summary_stats)\n",
        "\n"
      ],
      "metadata": {
        "colab": {
          "base_uri": "https://localhost:8080/"
        },
        "id": "YJPSxBMpIkNi",
        "outputId": "76a81da0-1347-44fe-e65d-64db135e7835"
      },
      "execution_count": 14,
      "outputs": [
        {
          "output_type": "stream",
          "name": "stdout",
          "text": [
            "         Unnamed: 0           Seq           Dur       RunTime          Mean  \\\n",
            "count  1.215890e+06  1.215890e+06  1.215890e+06  1.215890e+06  1.215890e+06   \n",
            "mean   3.590435e-17 -3.590435e-17 -2.619896e-16 -2.619896e-16 -2.619896e-16   \n",
            "std    1.000000e+00  1.000000e+00  1.000000e+00  1.000000e+00  1.000000e+00   \n",
            "min   -1.622560e+00 -1.068049e+00 -8.069802e-01 -8.069802e-01 -8.069802e-01   \n",
            "25%   -8.418846e-01 -8.334835e-01 -8.069802e-01 -8.069802e-01 -8.069802e-01   \n",
            "50%   -6.120916e-02 -3.473562e-01 -8.069802e-01 -8.069802e-01 -8.069802e-01   \n",
            "75%    7.194663e-01  6.081930e-01  7.187150e-01  7.187150e-01  7.187150e-01   \n",
            "max    2.118427e+00  2.564510e+00  1.097136e+01  1.097136e+01  1.097136e+01   \n",
            "\n",
            "                Sum           Min           Max       TotPkts       SrcPkts  \\\n",
            "count  1.215890e+06  1.215890e+06  1.215890e+06  1.215890e+06  1.215890e+06   \n",
            "mean  -2.619896e-16 -2.619896e-16 -2.619896e-16  1.683017e-17  2.374923e-17   \n",
            "std    1.000000e+00  1.000000e+00  1.000000e+00  1.000000e+00  1.000000e+00   \n",
            "min   -8.069802e-01 -8.069802e-01 -8.069802e-01 -1.669998e-01 -2.009985e-01   \n",
            "25%   -8.069802e-01 -8.069802e-01 -8.069802e-01 -1.669998e-01 -1.466867e-01   \n",
            "50%   -8.069802e-01 -8.069802e-01 -8.069802e-01 -1.267099e-01 -1.466867e-01   \n",
            "75%    7.187150e-01  7.187150e-01  7.187150e-01 -1.267099e-01 -9.237481e-02   \n",
            "max    1.097136e+01  1.097136e+01  1.097136e+01  1.608316e+02  5.335049e+01   \n",
            "\n",
            "       ...      TotBytes      SrcBytes      DstBytes        Offset  \\\n",
            "count  ...  1.215890e+06  1.215890e+06  1.215890e+06  1.215890e+06   \n",
            "mean   ...  2.281423e-17 -4.488044e-18 -1.605878e-17  3.515635e-17   \n",
            "std    ...  1.000000e+00  1.000000e+00  1.000000e+00  1.000000e+00   \n",
            "min    ... -1.194358e-01 -1.035194e-01 -6.638223e-02 -1.156885e+00   \n",
            "25%    ... -1.194358e-01 -1.018027e-01 -6.638223e-02 -8.715821e-01   \n",
            "50%    ... -1.180443e-01 -1.004947e-01 -6.638223e-02 -2.318981e-01   \n",
            "75%    ... -1.180443e-01 -1.000860e-01 -6.638223e-02  6.302844e-01   \n",
            "max    ...  1.541488e+02  5.480903e+01  2.711145e+02  2.552463e+00   \n",
            "\n",
            "         sMeanPktSz    dMeanPktSz          Load       SrcLoad          Rate  \\\n",
            "count  1.215890e+06  1.215890e+06  1.215890e+06  1.215890e+06  1.215890e+06   \n",
            "mean  -2.363703e-16  8.826487e-17 -1.589516e-18 -9.817597e-19  5.633431e-18   \n",
            "std    1.000000e+00  1.000000e+00  1.000000e+00  1.000000e+00  1.000000e+00   \n",
            "min   -5.080955e-01 -2.877640e-01 -8.289879e-03 -1.065692e-02 -1.093689e-02   \n",
            "25%   -2.197658e-01 -2.877640e-01 -8.289879e-03 -1.065692e-02 -1.093689e-02   \n",
            "50%   -2.197658e-01 -2.877640e-01 -8.289879e-03 -1.065692e-02 -1.093689e-02   \n",
            "75%   -4.814096e-02 -2.877640e-01 -8.289660e-03 -1.064694e-02 -1.093234e-02   \n",
            "max    9.562850e+00  6.584076e+00  4.423225e+02  4.641286e+02  3.278153e+02   \n",
            "\n",
            "            SrcRate  \n",
            "count  1.215890e+06  \n",
            "mean   3.997164e-18  \n",
            "std    1.000000e+00  \n",
            "min   -1.063993e-02  \n",
            "25%   -1.063993e-02  \n",
            "50%   -1.063993e-02  \n",
            "75%   -1.062257e-02  \n",
            "max    2.235075e+02  \n",
            "\n",
            "[8 rows x 21 columns]\n"
          ]
        }
      ]
    },
    {
      "cell_type": "code",
      "source": [
        "# Step 2: Data Visualization\n",
        "# Histograms and Density Plots for numerical features\n",
        "numerical_features = combinedDf.select_dtypes(include=['int64','float64']).columns\n",
        "for feature in numerical_features:\n",
        "    plt.figure(figsize=(8, 6))\n",
        "    sns.histplot(combinedDf[feature], kde=True, color='crimson')\n",
        "    plt.title(f'Histogram of {feature}')\n",
        "    plt.xlabel(feature)\n",
        "    plt.ylabel('Frequency')\n",
        "    plt.show()\n",
        "\n",
        "# Box Plots for numerical features\n",
        "for feature in numerical_features:\n",
        "    plt.figure(figsize=(8, 6))\n",
        "    sns.boxplot(y=combinedDf[feature], color='lightblue')\n",
        "    plt.title(f'Box Plot of {feature}')\n",
        "    plt.ylabel(feature)\n",
        "    plt.show()\n"
      ],
      "metadata": {
        "id": "vCc0zpSkI9Gg"
      },
      "execution_count": null,
      "outputs": []
    },
    {
      "cell_type": "code",
      "source": [
        "# Bar Plots for categorical features\n",
        "categorical_features = combinedDf.select_dtypes(include=['object']).columns\n",
        "for feature in categorical_features:\n",
        "    plt.figure(figsize=(8, 6))\n",
        "    sns.countplot(data=combinedDf, x=feature, palette='Set2')\n",
        "    plt.title(f'Bar Plot of {feature}')\n",
        "    plt.xlabel(feature)\n",
        "    plt.ylabel('Count')\n",
        "    plt.xticks(rotation=45)\n",
        "    plt.show()\n",
        "\n",
        "# Pairwise Scatter Plots for numerical features\n",
        "sns.pairplot(combinedDf[numerical_features])\n",
        "plt.show()\n",
        "\n",
        "# Correlation Heatmap\n",
        "plt.figure(figsize=(10, 8))\n",
        "sns.heatmap(combinedDf.corr(), annot=True, cmap='coolwarm')\n",
        "plt.title('Correlation Heatmap')\n",
        "plt.show()\n"
      ],
      "metadata": {
        "id": "ntbWnO4BKT2s"
      },
      "execution_count": null,
      "outputs": []
    }
  ]
}