{
  "nbformat": 4,
  "nbformat_minor": 0,
  "metadata": {
    "colab": {
      "provenance": []
    },
    "kernelspec": {
      "name": "python3",
      "display_name": "Python 3"
    },
    "language_info": {
      "name": "python"
    }
  },
  "cells": [
    {
      "cell_type": "code",
      "execution_count": 1,
      "metadata": {
        "id": "rH1KM-M1ScQN"
      },
      "outputs": [],
      "source": [
        "import pandas as pd\n",
        "from scipy.stats import f_oneway\n",
        "from sklearn.preprocessing import StandardScaler\n",
        "import seaborn as sns\n",
        "import matplotlib.pyplot as plt"
      ]
    },
    {
      "cell_type": "code",
      "source": [
        "#mount google drive\n",
        "\n",
        "from google.colab import drive\n",
        "\n",
        "drive.mount('/content/drive')\n",
        "\n",
        "path = \"/content/drive/MyDrive/\"\n",
        "\n",
        "combinedDf = pd.read_csv(path + 'Combined.csv')\n"
      ],
      "metadata": {
        "colab": {
          "base_uri": "https://localhost:8080/"
        },
        "id": "Nx3qUVBQSejd",
        "outputId": "1e8dfa48-99df-42d6-ff98-b225ab4e9d12"
      },
      "execution_count": 4,
      "outputs": [
        {
          "output_type": "stream",
          "name": "stdout",
          "text": [
            "Mounted at /content/drive\n"
          ]
        },
        {
          "output_type": "stream",
          "name": "stderr",
          "text": [
            "<ipython-input-4-c809d43d8aca>:9: DtypeWarning: Columns (12) have mixed types. Specify dtype option on import or set low_memory=False.\n",
            "  combinedDf = pd.read_csv(path + 'Combined.csv')\n"
          ]
        }
      ]
    },
    {
      "cell_type": "code",
      "source": [
        "# Information about data types and missing values\n",
        "print(combinedDf.info())\n",
        "\n",
        "# Summary statistics for numerical features\n",
        "numerical_features = combinedDf.select_dtypes(include=['int64', 'float64']).columns\n",
        "print(combinedDf[numerical_features].describe())\n",
        "\n",
        "# Distributions of continuous features\n",
        "for feature in numerical_features:\n",
        "    plt.figure(figsize=(8, 6))\n",
        "    sns.histplot(combinedDf[feature], kde=True)\n",
        "    plt.title(f'Distribution of {feature}')\n",
        "    plt.show()\n",
        "\n",
        "# Value counts for categorical features\n",
        "categorical_features = combinedDf.select_dtypes(include=['object']).columns\n",
        "for feature in categorical_features:\n",
        "    print(combinedDf[feature].value_counts())\n"
      ],
      "metadata": {
        "id": "ZyIPkzqiSgJJ"
      },
      "execution_count": null,
      "outputs": []
    },
    {
      "cell_type": "code",
      "source": [
        "# Remove columns with high cardinality\n",
        "high_cardinality_threshold = 100000\n",
        "high_cardinality_columns = combinedDf.nunique()[combinedDf.nunique() > high_cardinality_threshold].index\n",
        "#combinedDf = combinedDf.drop(high_cardinality_columns, axis=1)\n",
        "print(high_cardinality_columns)\n",
        "\n",
        "# Select features based on ANOVA F-scores and singular value dominance\n",
        "selected_features = []\n",
        "for column in combinedDf.columns:\n",
        "    if combinedDf[column].dtype in ['int64', 'float64']:\n",
        "        f_statistic, p_value = f_oneway(*[group[column] for name, group in combinedDf.groupby('Label')])\n",
        "        if p_value < 0.05:\n",
        "            dominant_value_percentage = combinedDf[column].value_counts(normalize=True).max() * 100\n",
        "            if dominant_value_percentage <= 80:\n",
        "                selected_features.append(column)\n",
        "\n",
        "remaining_features = [featureName for featureName in selected_features if featureName not in ['Label', 'Attack Type', 'Attack Tool']]\n",
        "combinedDf = combinedDf[remaining_features + ['Label', 'Attack Type', 'Attack Tool']]\n"
      ],
      "metadata": {
        "id": "qhCG2mEaShz4"
      },
      "execution_count": 7,
      "outputs": []
    },
    {
      "cell_type": "code",
      "source": [
        "# Handle missing values (implement appropriate strategy here)\n",
        "\n",
        "# Scale numerical features\n",
        "scaler = StandardScaler()\n",
        "combinedDf[remaining_features] = scaler.fit_transform(combinedDf[remaining_features])\n"
      ],
      "metadata": {
        "id": "F3QYI_gjSj50"
      },
      "execution_count": 8,
      "outputs": []
    },
    {
      "cell_type": "code",
      "source": [
        "# Correlation heatmap\n",
        "plt.figure(figsize=(10, 8))\n",
        "sns.heatmap(combinedDf.corr(), annot=True, cmap='coolwarm')\n",
        "plt.title('Correlation Heatmap')\n",
        "plt.show()\n",
        "\n",
        "# Pairwise scatter plots for numerical features\n",
        "#sns.pairplot(combinedDf[numerical_features])\n",
        "#plt.show()\n",
        "\n",
        "# Distributions of numerical features (after scaling)\n",
        "for feature in numerical_features:\n",
        "    plt.figure(figsize=(8, 6))\n",
        "    sns.histplot(combinedDf[feature], kde=True)\n",
        "    plt.title(f'Distribution of {feature} (Scaled)')\n",
        "    plt.show()\n",
        "\n",
        "# Bar plots for categorical features\n",
        "for feature in categorical_features:\n",
        "    plt.figure(figsize=(8, 6))\n",
        "    sns.countplot(data=combinedDf, x=feature, palette='Set2')\n",
        "    plt.title(f'Bar Plot of {feature}')\n",
        "    plt.xticks(rotation=45)\n",
        "    plt.show()\n"
      ],
      "metadata": {
        "id": "TaJj6pvhSlrd"
      },
      "execution_count": null,
      "outputs": []
    },
    {
      "cell_type": "code",
      "source": [],
      "metadata": {
        "id": "PXwq9tS7Sn3H"
      },
      "execution_count": null,
      "outputs": []
    }
  ]
}