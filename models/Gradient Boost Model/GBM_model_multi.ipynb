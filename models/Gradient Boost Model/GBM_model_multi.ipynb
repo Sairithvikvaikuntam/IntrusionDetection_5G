{
  "nbformat": 4,
  "nbformat_minor": 0,
  "metadata": {
    "colab": {
      "provenance": []
    },
    "kernelspec": {
      "name": "python3",
      "display_name": "Python 3"
    },
    "language_info": {
      "name": "python"
    }
  },
  "cells": [
    {
      "cell_type": "code",
      "execution_count": 1,
      "metadata": {
        "id": "LE9XDaCj7oAz"
      },
      "outputs": [],
      "source": [
        "import pandas as pd\n",
        "from sklearn.ensemble import GradientBoostingClassifier\n",
        "from sklearn.model_selection import train_test_split\n",
        "from sklearn.preprocessing import StandardScaler\n",
        "from sklearn.metrics import accuracy_score, precision_score, recall_score, f1_score, classification_report\n",
        "import time\n",
        "import joblib"
      ]
    },
    {
      "cell_type": "code",
      "source": [
        "#mount google drive\n",
        "\n",
        "from google.colab import drive\n",
        "\n",
        "drive.mount('/content/drive')\n",
        "\n",
        "path = \"/content/drive/MyDrive/\"\n"
      ],
      "metadata": {
        "colab": {
          "base_uri": "https://localhost:8080/"
        },
        "id": "1Bd9kRWM8EoA",
        "outputId": "c13901b4-1d3b-4405-a129-33f135a38745"
      },
      "execution_count": 2,
      "outputs": [
        {
          "output_type": "stream",
          "name": "stdout",
          "text": [
            "Mounted at /content/drive\n"
          ]
        }
      ]
    },
    {
      "cell_type": "code",
      "source": [
        "combinedDf = pd.read_csv(path + 'updated_Combined.csv')\n",
        "\n",
        "combinedDf.info()\n"
      ],
      "metadata": {
        "colab": {
          "base_uri": "https://localhost:8080/"
        },
        "id": "JdTXkYHp8Flr",
        "outputId": "482a69ba-ce43-4325-f346-d30835a3bfff"
      },
      "execution_count": 3,
      "outputs": [
        {
          "output_type": "stream",
          "name": "stdout",
          "text": [
            "<class 'pandas.core.frame.DataFrame'>\n",
            "RangeIndex: 1215890 entries, 0 to 1215889\n",
            "Data columns (total 24 columns):\n",
            " #   Column       Non-Null Count    Dtype  \n",
            "---  ------       --------------    -----  \n",
            " 0   Unnamed: 0   1215890 non-null  float64\n",
            " 1   Seq          1215890 non-null  float64\n",
            " 2   Dur          1215890 non-null  float64\n",
            " 3   RunTime      1215890 non-null  float64\n",
            " 4   Mean         1215890 non-null  float64\n",
            " 5   Sum          1215890 non-null  float64\n",
            " 6   Min          1215890 non-null  float64\n",
            " 7   Max          1215890 non-null  float64\n",
            " 8   TotPkts      1215890 non-null  float64\n",
            " 9   SrcPkts      1215890 non-null  float64\n",
            " 10  DstPkts      1215890 non-null  float64\n",
            " 11  TotBytes     1215890 non-null  float64\n",
            " 12  SrcBytes     1215890 non-null  float64\n",
            " 13  DstBytes     1215890 non-null  float64\n",
            " 14  Offset       1215890 non-null  float64\n",
            " 15  sMeanPktSz   1215890 non-null  float64\n",
            " 16  dMeanPktSz   1215890 non-null  float64\n",
            " 17  Load         1215890 non-null  float64\n",
            " 18  SrcLoad      1215890 non-null  float64\n",
            " 19  Rate         1215890 non-null  float64\n",
            " 20  SrcRate      1215890 non-null  float64\n",
            " 21  Label        1215890 non-null  object \n",
            " 22  Attack Type  1215890 non-null  object \n",
            " 23  Attack Tool  1215890 non-null  object \n",
            "dtypes: float64(21), object(3)\n",
            "memory usage: 222.6+ MB\n"
          ]
        }
      ]
    },
    {
      "cell_type": "code",
      "source": [
        "\n",
        "# Define features and target variable\n",
        "features = ['Seq', 'Dur', 'RunTime', 'Mean', 'Sum', 'Min', 'Max',\n",
        "            'TotPkts', 'SrcPkts', 'DstPkts', 'TotBytes', 'SrcBytes',\n",
        "            'DstBytes', 'Offset', 'sMeanPktSz', 'dMeanPktSz',\n",
        "            'Load', 'SrcLoad', 'Rate', 'SrcRate']\n",
        "target = 'Attack Type'"
      ],
      "metadata": {
        "id": "ptY5SbRR8Fu5"
      },
      "execution_count": 4,
      "outputs": []
    },
    {
      "cell_type": "code",
      "source": [
        "# Split the data into training and testing sets\n",
        "X_train, X_test, y_train, y_test = train_test_split(combinedDf[features], combinedDf[target], test_size=0.2, random_state=42)"
      ],
      "metadata": {
        "id": "HrJqulfj8FzC"
      },
      "execution_count": 5,
      "outputs": []
    },
    {
      "cell_type": "code",
      "source": [
        "# Initialize and train the GBM classifier\n",
        "gbm_model = GradientBoostingClassifier(n_estimators=100, learning_rate=0.1, random_state=42)\n",
        "gbm_model.fit(X_train, y_train)\n",
        "\n",
        "joblib.dump(gbm_model, path + 'models/gbm_multi.pkl')"
      ],
      "metadata": {
        "colab": {
          "base_uri": "https://localhost:8080/"
        },
        "id": "tn3VsjRZ8gwv",
        "outputId": "005cc2b4-70de-4ec1-9bfc-14e6a59ada09"
      },
      "execution_count": 6,
      "outputs": [
        {
          "output_type": "execute_result",
          "data": {
            "text/plain": [
              "['/content/drive/MyDrive/models/gbm_multi.pkl']"
            ]
          },
          "metadata": {},
          "execution_count": 6
        }
      ]
    },
    {
      "cell_type": "code",
      "source": [
        "# Predict on the test set\n",
        "y_pred = gbm_model.predict(X_test)"
      ],
      "metadata": {
        "id": "qsWnZeIv9Ddw"
      },
      "execution_count": 7,
      "outputs": []
    },
    {
      "cell_type": "code",
      "source": [
        "# Evaluate model performance\n",
        "accuracy = accuracy_score(y_test, y_pred)\n",
        "# precision_benign = precision_score(y_test, y_pred, pos_label='Benign')\n",
        "# recall_benign = recall_score(y_test, y_pred, pos_label='Benign')\n",
        "# f1_benign = f1_score(y_test, y_pred, pos_label='Benign')\n",
        "# precision_malicious = precision_score(y_test, y_pred, pos_label='Malicious')\n",
        "# recall_malicious = recall_score(y_test, y_pred, pos_label='Malicious')\n",
        "# f1_malicious = f1_score(y_test, y_pred, pos_label='Malicious')\n",
        "\n",
        "# Print evaluation metrics\n",
        "print(\"Accuracy:\", accuracy)\n",
        "# print(\"precision_benign:\", precision_benign)\n",
        "# print(\"recall_benign:\", recall_benign)\n",
        "# print(\"f1_benign:\", f1_benign)\n",
        "# print(\"precision_malicious:\", precision_benign)\n",
        "# print(\"recall_malicious:\", recall_benign)\n",
        "# print(\"f1_malicious:\", f1_malicious)"
      ],
      "metadata": {
        "colab": {
          "base_uri": "https://localhost:8080/"
        },
        "id": "1K6-H8S19DaW",
        "outputId": "6ca4a235-33dd-4162-96b7-88f15d7e1292"
      },
      "execution_count": 8,
      "outputs": [
        {
          "output_type": "stream",
          "name": "stdout",
          "text": [
            "Accuracy: 0.9956204919852947\n"
          ]
        }
      ]
    },
    {
      "cell_type": "code",
      "source": [
        "classification_rep = classification_report(y_test, y_pred,digits = 8)\n",
        "print(\"Classification Report:\\n\", classification_rep)\n"
      ],
      "metadata": {
        "id": "Jp1rymnH9DXG",
        "colab": {
          "base_uri": "https://localhost:8080/"
        },
        "outputId": "666663b7-1ef7-40a7-b3a6-af1753f177ce"
      },
      "execution_count": 9,
      "outputs": [
        {
          "output_type": "stream",
          "name": "stdout",
          "text": [
            "Classification Report:\n",
            "                 precision    recall  f1-score   support\n",
            "\n",
            "        Benign  0.99667299 0.99758858 0.99713057     95794\n",
            "     HTTPFlood  0.98719298 0.99900579 0.99306426     28163\n",
            "     ICMPFlood  1.00000000 0.10924370 0.19696970       238\n",
            "      SYNFlood  0.99739719 0.99843669 0.99791667      1919\n",
            "       SYNScan  0.99743458 0.99845917 0.99794661      3894\n",
            "   SlowrateDoS  0.99586487 0.97972833 0.98773070     14503\n",
            "TCPConnectScan  0.97206025 0.98717000 0.97955686      4053\n",
            "      UDPFlood  0.99929908 0.99807484 0.99868659     91421\n",
            "       UDPScan  0.96071209 0.98026934 0.97039219      3193\n",
            "\n",
            "      accuracy                      0.99562049    243178\n",
            "     macro avg  0.98962601 0.89421960 0.90215490    243178\n",
            "  weighted avg  0.99565293 0.99562049 0.99527618    243178\n",
            "\n"
          ]
        }
      ]
    },
    {
      "cell_type": "code",
      "source": [],
      "metadata": {
        "id": "wUVMnVmI9DTt"
      },
      "execution_count": null,
      "outputs": []
    }
  ]
}