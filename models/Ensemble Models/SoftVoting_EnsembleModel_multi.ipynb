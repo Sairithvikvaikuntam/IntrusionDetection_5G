{
  "cells": [
    {
      "cell_type": "code",
      "execution_count": 1,
      "metadata": {
        "id": "2fWriqaZ0zD4"
      },
      "outputs": [],
      "source": [
        "import pandas as pd\n",
        "import joblib\n",
        "from sklearn.model_selection import train_test_split\n",
        "from sklearn.linear_model import LogisticRegression\n",
        "from sklearn.ensemble import VotingClassifier, RandomForestClassifier\n",
        "from sklearn.metrics import accuracy_score, precision_score, recall_score, f1_score, classification_report\n",
        "from sklearn.preprocessing import LabelEncoder\n"
      ]
    },
    {
      "cell_type": "code",
      "execution_count": 2,
      "metadata": {
        "colab": {
          "base_uri": "https://localhost:8080/"
        },
        "id": "6Cc_LW2w1Ezd",
        "outputId": "6705ed64-2bd6-4622-d86e-89d8a83c8b60"
      },
      "outputs": [
        {
          "output_type": "stream",
          "name": "stdout",
          "text": [
            "Mounted at /content/drive\n"
          ]
        }
      ],
      "source": [
"path = \"../../data_processed/\""
      ]
    },
    {
      "cell_type": "code",
      "execution_count": 3,
      "metadata": {
        "colab": {
          "base_uri": "https://localhost:8080/"
        },
        "id": "Qn_5xjqd1FLj",
        "outputId": "eb1935ba-37c8-4ab3-d500-48b7ad671a81"
      },
      "outputs": [
        {
          "output_type": "stream",
          "name": "stdout",
          "text": [
            "<class 'pandas.core.frame.DataFrame'>\n",
            "RangeIndex: 1215890 entries, 0 to 1215889\n",
            "Data columns (total 24 columns):\n",
            " #   Column       Non-Null Count    Dtype  \n",
            "---  ------       --------------    -----  \n",
            " 0   Unnamed: 0   1215890 non-null  float64\n",
            " 1   Seq          1215890 non-null  float64\n",
            " 2   Dur          1215890 non-null  float64\n",
            " 3   RunTime      1215890 non-null  float64\n",
            " 4   Mean         1215890 non-null  float64\n",
            " 5   Sum          1215890 non-null  float64\n",
            " 6   Min          1215890 non-null  float64\n",
            " 7   Max          1215890 non-null  float64\n",
            " 8   TotPkts      1215890 non-null  float64\n",
            " 9   SrcPkts      1215890 non-null  float64\n",
            " 10  DstPkts      1215890 non-null  float64\n",
            " 11  TotBytes     1215890 non-null  float64\n",
            " 12  SrcBytes     1215890 non-null  float64\n",
            " 13  DstBytes     1215890 non-null  float64\n",
            " 14  Offset       1215890 non-null  float64\n",
            " 15  sMeanPktSz   1215890 non-null  float64\n",
            " 16  dMeanPktSz   1215890 non-null  float64\n",
            " 17  Load         1215890 non-null  float64\n",
            " 18  SrcLoad      1215890 non-null  float64\n",
            " 19  Rate         1215890 non-null  float64\n",
            " 20  SrcRate      1215890 non-null  float64\n",
            " 21  Label        1215890 non-null  object \n",
            " 22  Attack Type  1215890 non-null  object \n",
            " 23  Attack Tool  1215890 non-null  object \n",
            "dtypes: float64(21), object(3)\n",
            "memory usage: 222.6+ MB\n"
          ]
        }
      ],
      "source": [
        "combinedDf = pd.read_csv(path + 'updated_Combined.csv')\n",
        "\n",
        "combinedDf.info()"
      ]
    },
    {
      "cell_type": "code",
      "execution_count": 4,
      "metadata": {
        "id": "UNeRidOS1Gii"
      },
      "outputs": [],
      "source": [
        "features = ['Seq', 'Dur', 'RunTime', 'Mean', 'Sum', 'Min', 'Max',\n",
        "            'TotPkts', 'SrcPkts', 'DstPkts', 'TotBytes', 'SrcBytes',\n",
        "            'DstBytes', 'Offset', 'sMeanPktSz', 'dMeanPktSz',\n",
        "            'Load', 'SrcLoad', 'Rate', 'SrcRate']\n",
        "target = 'Attack Type'"
      ]
    },
    {
      "cell_type": "code",
      "execution_count": 8,
      "metadata": {
        "id": "jHy8s38c1QNS"
      },
      "outputs": [],
      "source": [
        "# Load the trained models from files\n",
        "\n",
        "models_path = path+'models/'\n",
        "\n",
        "dt_model_multi = joblib.load(models_path + 'dt_model_multi.pkl')\n",
        "logistic_model_multi = joblib.load(models_path + 'logistic_model_multi.pkl')\n",
        "mlp_model_multi = joblib.load(models_path + 'mlp_model_multi.pkl')\n",
        "rf_model_multi = joblib.load(models_path + 'rf_model_multi.pkl')\n",
        "knn_model_multi = joblib.load(models_path + 'knn_model_multi.pkl')\n",
        "gbm_model_multi = joblib.load(models_path + 'gbm_multi.pkl')\n"
      ]
    },
    {
      "cell_type": "code",
      "execution_count": 9,
      "metadata": {
        "id": "Cgm9PvmM1S4D"
      },
      "outputs": [],
      "source": [
        "# Split the data into training and testing sets\n",
        "X_train, X_test, y_train, y_test = train_test_split(combinedDf[features], combinedDf[target], test_size=0.2, random_state=42)"
      ]
    },
    {
      "cell_type": "code",
      "execution_count": 10,
      "metadata": {
        "id": "fP9pxWuo1_Jg"
      },
      "outputs": [],
      "source": [
        "# Define the ensemble model for max voting\n",
        "ensemble_model_multi = VotingClassifier(estimators=[\n",
        "    ('Decision_tree', dt_model_multi),\n",
        "    ('logistic_regression', logistic_model_multi),\n",
        "    ('MultiLayerPerceptron', mlp_model_multi),\n",
        "    ('RandomForestClassifier', rf_model_multi),\n",
        "    ('KNN classifier', knn_model_multi),\n",
        "    ('GBM model', gbm_model_multi)\n",
        "], voting='soft')"
      ]
    },
    {
      "cell_type": "code",
      "execution_count": 11,
      "metadata": {
        "colab": {
          "base_uri": "https://localhost:8080/"
        },
        "id": "FZ20mjhr2CNq",
        "outputId": "7cb9d73b-5384-4c8c-df98-5558f6df484b"
      },
      "outputs": [
        {
          "output_type": "stream",
          "name": "stderr",
          "text": [
            "/usr/local/lib/python3.10/dist-packages/sklearn/linear_model/_logistic.py:458: ConvergenceWarning: lbfgs failed to converge (status=1):\n",
            "STOP: TOTAL NO. of ITERATIONS REACHED LIMIT.\n",
            "\n",
            "Increase the number of iterations (max_iter) or scale the data as shown in:\n",
            "    https://scikit-learn.org/stable/modules/preprocessing.html\n",
            "Please also refer to the documentation for alternative solver options:\n",
            "    https://scikit-learn.org/stable/modules/linear_model.html#logistic-regression\n",
            "  n_iter_i = _check_optimize_result(\n"
          ]
        }
      ],
      "source": [
        "ensemble_model_multi.fit(X_train, y_train)\n",
        "\n",
        "attack_type_pred = ensemble_model_multi.predict(X_test)"
      ]
    },
    {
      "cell_type": "code",
      "execution_count": 12,
      "metadata": {
        "colab": {
          "base_uri": "https://localhost:8080/"
        },
        "id": "8qaNRZ-U2EX3",
        "outputId": "a1e95cc9-4085-45a9-f0e3-9d7cd6c4a8d4"
      },
      "outputs": [
        {
          "output_type": "stream",
          "name": "stdout",
          "text": [
            "Classification Report:\n",
            "                 precision    recall  f1-score   support\n",
            "\n",
            "        Benign  0.99926904 0.99896653 0.99911777     95794\n",
            "     HTTPFlood  0.99875869 0.99992898 0.99934349     28163\n",
            "     ICMPFlood  0.99581590 1.00000000 0.99790356       238\n",
            "      SYNFlood  1.00000000 1.00000000 1.00000000      1919\n",
            "       SYNScan  0.99922958 0.99922958 0.99922958      3894\n",
            "   SlowrateDoS  0.99882888 0.99972419 0.99927634     14503\n",
            "TCPConnectScan  0.99312377 0.99777942 0.99544615      4053\n",
            "      UDPFlood  0.99970458 0.99940933 0.99955693     91421\n",
            "       UDPScan  0.99842915 0.99530222 0.99686324      3193\n",
            "\n",
            "      accuracy                      0.99923513    243178\n",
            "     macro avg  0.99812884 0.99892670 0.99852634    243178\n",
            "  weighted avg  0.99923573 0.99923513 0.99923523    243178\n",
            "\n"
          ]
        }
      ],
      "source": [
        "classification_rep = classification_report(y_test, attack_type_pred,digits = 8)\n",
        "print(\"Classification Report:\\n\", classification_rep)\n"
      ]
    },
    {
      "cell_type": "code",
      "execution_count": 13,
      "metadata": {
        "id": "0yOz3_042Gdw",
        "colab": {
          "base_uri": "https://localhost:8080/"
        },
        "outputId": "9580a723-c833-4e28-9032-0bd94df48988"
      },
      "outputs": [
        {
          "output_type": "execute_result",
          "data": {
            "text/plain": [
              "['/content/drive/MyDrive/models/softvoting_multi.pkl']"
            ]
          },
          "metadata": {},
          "execution_count": 13
        }
      ],
      "source": [
        "import joblib\n",
        "\n",
        "joblib.dump(gbm_model, path + 'models/softvoting_multi.pkl')"
      ]
    },
    {
      "cell_type": "code",
      "execution_count": null,
      "metadata": {
        "id": "CPaHhBwK2IOu"
      },
      "outputs": [],
      "source": []
    }
  ],
  "metadata": {
    "colab": {
      "provenance": []
    },
    "kernelspec": {
      "display_name": "Python 3",
      "name": "python3"
    },
    "language_info": {
      "name": "python"
    }
  },
  "nbformat": 4,
  "nbformat_minor": 0
}