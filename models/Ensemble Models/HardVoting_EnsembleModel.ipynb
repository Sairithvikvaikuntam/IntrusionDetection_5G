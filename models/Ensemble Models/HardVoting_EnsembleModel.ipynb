{
  "nbformat": 4,
  "nbformat_minor": 0,
  "metadata": {
    "colab": {
      "provenance": []
    },
    "kernelspec": {
      "name": "python3",
      "display_name": "Python 3"
    },
    "language_info": {
      "name": "python"
    }
  },
  "cells": [
    {
      "cell_type": "code",
      "execution_count": 1,
      "metadata": {
        "id": "0zhbbxB0POiJ"
      },
      "outputs": [],
      "source": [
        "import pandas as pd\n",
        "import joblib\n",
        "from sklearn.model_selection import train_test_split\n",
        "from sklearn.linear_model import LogisticRegression\n",
        "from sklearn.ensemble import VotingClassifier, RandomForestClassifier\n",
        "from sklearn.metrics import accuracy_score, precision_score, recall_score, f1_score, classification_report\n",
        "from sklearn.preprocessing import LabelEncoder\n"
      ]
    },
    {
      "cell_type": "code",
      "source": [
        "#mount google drive\n",
        "\n",
        "from google.colab import drive\n",
        "\n",
        "drive.mount('/content/drive')\n",
        "\n",
        "path = \"/content/drive/MyDrive/\"\n"
      ],
      "metadata": {
        "colab": {
          "base_uri": "https://localhost:8080/"
        },
        "id": "l54H_eVePQq6",
        "outputId": "9da793fe-60d0-438e-b234-9bc6ae3a898f"
      },
      "execution_count": 2,
      "outputs": [
        {
          "output_type": "stream",
          "name": "stdout",
          "text": [
            "Mounted at /content/drive\n"
          ]
        }
      ]
    },
    {
      "cell_type": "code",
      "source": [
        "combinedDf = pd.read_csv(path + 'updated_Combined.csv')\n",
        "\n",
        "combinedDf.info()"
      ],
      "metadata": {
        "colab": {
          "base_uri": "https://localhost:8080/"
        },
        "id": "taLyy3VWPQoY",
        "outputId": "b714684f-a25b-4d9c-b8f9-6887a6b543a7"
      },
      "execution_count": 3,
      "outputs": [
        {
          "output_type": "stream",
          "name": "stdout",
          "text": [
            "<class 'pandas.core.frame.DataFrame'>\n",
            "RangeIndex: 1215890 entries, 0 to 1215889\n",
            "Data columns (total 24 columns):\n",
            " #   Column       Non-Null Count    Dtype  \n",
            "---  ------       --------------    -----  \n",
            " 0   Unnamed: 0   1215890 non-null  float64\n",
            " 1   Seq          1215890 non-null  float64\n",
            " 2   Dur          1215890 non-null  float64\n",
            " 3   RunTime      1215890 non-null  float64\n",
            " 4   Mean         1215890 non-null  float64\n",
            " 5   Sum          1215890 non-null  float64\n",
            " 6   Min          1215890 non-null  float64\n",
            " 7   Max          1215890 non-null  float64\n",
            " 8   TotPkts      1215890 non-null  float64\n",
            " 9   SrcPkts      1215890 non-null  float64\n",
            " 10  DstPkts      1215890 non-null  float64\n",
            " 11  TotBytes     1215890 non-null  float64\n",
            " 12  SrcBytes     1215890 non-null  float64\n",
            " 13  DstBytes     1215890 non-null  float64\n",
            " 14  Offset       1215890 non-null  float64\n",
            " 15  sMeanPktSz   1215890 non-null  float64\n",
            " 16  dMeanPktSz   1215890 non-null  float64\n",
            " 17  Load         1215890 non-null  float64\n",
            " 18  SrcLoad      1215890 non-null  float64\n",
            " 19  Rate         1215890 non-null  float64\n",
            " 20  SrcRate      1215890 non-null  float64\n",
            " 21  Label        1215890 non-null  object \n",
            " 22  Attack Type  1215890 non-null  object \n",
            " 23  Attack Tool  1215890 non-null  object \n",
            "dtypes: float64(21), object(3)\n",
            "memory usage: 222.6+ MB\n"
          ]
        }
      ]
    },
    {
      "cell_type": "code",
      "source": [
        "features = ['Seq', 'Dur', 'RunTime', 'Mean', 'Sum', 'Min', 'Max',\n",
        "            'TotPkts', 'SrcPkts', 'DstPkts', 'TotBytes', 'SrcBytes',\n",
        "            'DstBytes', 'Offset', 'sMeanPktSz', 'dMeanPktSz',\n",
        "            'Load', 'SrcLoad', 'Rate', 'SrcRate']\n",
        "target = 'Label'"
      ],
      "metadata": {
        "id": "VBS9B4lsPQl6"
      },
      "execution_count": 4,
      "outputs": []
    },
    {
      "cell_type": "code",
      "source": [
        "# Load the trained models from files\n",
        "\n",
        "models_path = path+'Models/'\n",
        "\n",
        "dt_model = joblib.load(models_path + 'dt_model.pkl')\n",
        "logistic_model = joblib.load(models_path + 'logistic_model.pkl')\n",
        "mlp_model = joblib.load(models_path + 'mlp_model.pkl')\n",
        "rf_model = joblib.load(models_path + 'rf_model.pkl')\n",
        "knn_model = joblib.load(models_path + 'knn_model.pkl')\n",
        "gbm_model = joblib.load(models_path + 'gbm.pkl')\n"
      ],
      "metadata": {
        "id": "nHz94G8pPQjV"
      },
      "execution_count": 5,
      "outputs": []
    },
    {
      "cell_type": "code",
      "source": [],
      "metadata": {
        "id": "o7qurF5IPQgs"
      },
      "execution_count": null,
      "outputs": []
    },
    {
      "cell_type": "code",
      "source": [],
      "metadata": {
        "id": "6xWMISNJPQeC"
      },
      "execution_count": null,
      "outputs": []
    },
    {
      "cell_type": "code",
      "source": [],
      "metadata": {
        "id": "taYFbMQ9PQbf"
      },
      "execution_count": null,
      "outputs": []
    },
    {
      "cell_type": "code",
      "source": [],
      "metadata": {
        "id": "FLHOy1_6PQXF"
      },
      "execution_count": null,
      "outputs": []
    },
    {
      "cell_type": "code",
      "source": [],
      "metadata": {
        "id": "2C6XHpSrPQN2"
      },
      "execution_count": null,
      "outputs": []
    },
    {
      "cell_type": "code",
      "source": [],
      "metadata": {
        "id": "h8nFV7aPPQEg"
      },
      "execution_count": null,
      "outputs": []
    }
  ]
}