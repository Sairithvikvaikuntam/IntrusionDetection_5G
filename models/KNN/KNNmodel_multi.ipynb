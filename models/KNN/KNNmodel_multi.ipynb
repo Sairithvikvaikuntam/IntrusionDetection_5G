{
  "nbformat": 4,
  "nbformat_minor": 0,
  "metadata": {
    "colab": {
      "provenance": []
    },
    "kernelspec": {
      "name": "python3",
      "display_name": "Python 3"
    },
    "language_info": {
      "name": "python"
    }
  },
  "cells": [
    {
      "cell_type": "code",
      "execution_count": null,
      "metadata": {
        "id": "bYbTTmjY4hkE"
      },
      "outputs": [],
      "source": [
        "import pandas as pd\n",
        "from sklearn.model_selection import train_test_split\n",
        "from sklearn.neighbors import KNeighborsClassifier\n",
        "from sklearn.metrics import accuracy_score, precision_score, recall_score, f1_score, classification_report\n",
        "import joblib"
      ]
    },
    {
      "cell_type": "code",
      "source": [
        "#mount google drive\n",
        "\n",
        "from google.colab import drive\n",
        "\n",
        "drive.mount('/content/drive')\n",
        "\n",
        "path = \"/content/drive/MyDrive/\"\n"
      ],
      "metadata": {
        "colab": {
          "base_uri": "https://localhost:8080/"
        },
        "id": "xIHI4l1d4sSK",
        "outputId": "b309241e-3c8a-47d4-a965-40e91605b1d9"
      },
      "execution_count": null,
      "outputs": [
        {
          "output_type": "stream",
          "name": "stdout",
          "text": [
            "Mounted at /content/drive\n"
          ]
        }
      ]
    },
    {
      "cell_type": "code",
      "source": [
        "combinedDf = pd.read_csv(path + 'updated_Combined.csv')\n",
        "\n",
        "combinedDf.info()"
      ],
      "metadata": {
        "colab": {
          "base_uri": "https://localhost:8080/"
        },
        "id": "ZhlowT0G4sWV",
        "outputId": "a7657ec8-94b0-42f7-de06-f1d260d7f1c5"
      },
      "execution_count": null,
      "outputs": [
        {
          "output_type": "stream",
          "name": "stdout",
          "text": [
            "<class 'pandas.core.frame.DataFrame'>\n",
            "RangeIndex: 1215890 entries, 0 to 1215889\n",
            "Data columns (total 24 columns):\n",
            " #   Column       Non-Null Count    Dtype  \n",
            "---  ------       --------------    -----  \n",
            " 0   Unnamed: 0   1215890 non-null  float64\n",
            " 1   Seq          1215890 non-null  float64\n",
            " 2   Dur          1215890 non-null  float64\n",
            " 3   RunTime      1215890 non-null  float64\n",
            " 4   Mean         1215890 non-null  float64\n",
            " 5   Sum          1215890 non-null  float64\n",
            " 6   Min          1215890 non-null  float64\n",
            " 7   Max          1215890 non-null  float64\n",
            " 8   TotPkts      1215890 non-null  float64\n",
            " 9   SrcPkts      1215890 non-null  float64\n",
            " 10  DstPkts      1215890 non-null  float64\n",
            " 11  TotBytes     1215890 non-null  float64\n",
            " 12  SrcBytes     1215890 non-null  float64\n",
            " 13  DstBytes     1215890 non-null  float64\n",
            " 14  Offset       1215890 non-null  float64\n",
            " 15  sMeanPktSz   1215890 non-null  float64\n",
            " 16  dMeanPktSz   1215890 non-null  float64\n",
            " 17  Load         1215890 non-null  float64\n",
            " 18  SrcLoad      1215890 non-null  float64\n",
            " 19  Rate         1215890 non-null  float64\n",
            " 20  SrcRate      1215890 non-null  float64\n",
            " 21  Label        1215890 non-null  object \n",
            " 22  Attack Type  1215890 non-null  object \n",
            " 23  Attack Tool  1215890 non-null  object \n",
            "dtypes: float64(21), object(3)\n",
            "memory usage: 222.6+ MB\n"
          ]
        }
      ]
    },
    {
      "cell_type": "code",
      "source": [
        "features = ['Seq', 'Dur', 'RunTime', 'Mean', 'Sum', 'Min', 'Max',\n",
        "            'TotPkts', 'SrcPkts', 'DstPkts', 'TotBytes', 'SrcBytes',\n",
        "            'DstBytes', 'Offset', 'sMeanPktSz', 'dMeanPktSz',\n",
        "            'Load', 'SrcLoad', 'Rate', 'SrcRate']\n",
        "target = 'Attack Type'"
      ],
      "metadata": {
        "id": "YPNh6JSc4sk9"
      },
      "execution_count": null,
      "outputs": []
    },
    {
      "cell_type": "code",
      "source": [
        "# Split the data into training and testing sets\n",
        "X_train, X_test, y_train, y_test = train_test_split(combinedDf[features], combinedDf[target], test_size=0.2, random_state=42)"
      ],
      "metadata": {
        "id": "CzCoCT-54soI"
      },
      "execution_count": null,
      "outputs": []
    },
    {
      "cell_type": "code",
      "source": [
        "# Initialize and train the KNN model\n",
        "knn_model = KNeighborsClassifier(n_neighbors=5)  # You can adjust the number of neighbors as needed\n",
        "knn_model.fit(X_train, y_train)\n",
        "joblib.dump(knn_model, path + 'models/knn_model_multi.pkl')\n",
        "\n",
        "# Predict on the test set\n",
        "y_pred = knn_model.predict(X_test)"
      ],
      "metadata": {
        "id": "4-J1OSGv63F-"
      },
      "execution_count": null,
      "outputs": []
    },
    {
      "cell_type": "code",
      "source": [
        "# Evaluate model performance\n",
        "accuracy = accuracy_score(y_test, y_pred)\n",
        "# precision_benign = precision_score(y_test, y_pred, pos_label='Benign')\n",
        "# recall_benign = recall_score(y_test, y_pred, pos_label='Benign')\n",
        "# f1_benign = f1_score(y_test, y_pred, pos_label='Benign')\n",
        "# precision_malicious = precision_score(y_test, y_pred, pos_label='Malicious')\n",
        "# recall_malicious = recall_score(y_test, y_pred, pos_label='Malicious')\n",
        "# f1_malicious = f1_score(y_test, y_pred, pos_label='Malicious')\n",
        "\n",
        "# Print evaluation metrics\n",
        "print(\"Accuracy:\", accuracy)\n",
        "# print(\"precision_benign:\", precision_benign)\n",
        "# print(\"recall_benign:\", recall_benign)\n",
        "# print(\"f1_benign:\", f1_benign)\n",
        "# print(\"precision_malicious:\", precision_benign)\n",
        "# print(\"recall_malicious:\", recall_benign)\n",
        "# print(\"f1_malicious:\", f1_malicious)\n"
      ],
      "metadata": {
        "colab": {
          "base_uri": "https://localhost:8080/"
        },
        "id": "Dzy6pge_7V6V",
        "outputId": "41dabc3f-b962-44f0-da48-47c648518e9a"
      },
      "execution_count": null,
      "outputs": [
        {
          "output_type": "stream",
          "name": "stdout",
          "text": [
            "Accuracy: 0.9987087647731292\n"
          ]
        }
      ]
    },
    {
      "cell_type": "code",
      "source": [
        "classification_rep = classification_report(y_test, y_pred,digits = 8)\n",
        "print(\"Classification Report:\\n\", classification_rep)\n"
      ],
      "metadata": {
        "id": "AOEZzEj_7e6c",
        "colab": {
          "base_uri": "https://localhost:8080/"
        },
        "outputId": "2250494c-3589-483b-feca-307c5d9a5fe5"
      },
      "execution_count": null,
      "outputs": [
        {
          "output_type": "stream",
          "name": "stdout",
          "text": [
            "Classification Report:\n",
            "                 precision    recall  f1-score   support\n",
            "\n",
            "        Benign  0.99921596 0.99779736 0.99850615     95794\n",
            "     HTTPFlood  0.99691948 0.99971594 0.99831575     28163\n",
            "     ICMPFlood  0.99581590 1.00000000 0.99790356       238\n",
            "      SYNFlood  0.99791667 0.99843669 0.99817661      1919\n",
            "       SYNScan  0.99641118 0.99820236 0.99730597      3894\n",
            "   SlowrateDoS  0.99587855 0.99965524 0.99776333     14503\n",
            "TCPConnectScan  0.99433776 0.99654577 0.99544054      4053\n",
            "      UDPFlood  0.99952963 0.99948589 0.99950776     91421\n",
            "       UDPScan  0.99779943 0.99404948 0.99592093      3193\n",
            "\n",
            "      accuracy                      0.99870876    243178\n",
            "     macro avg  0.99709162 0.99820986 0.99764896    243178\n",
            "  weighted avg  0.99871048 0.99870876 0.99870890    243178\n",
            "\n"
          ]
        }
      ]
    },
    {
      "cell_type": "code",
      "source": [],
      "metadata": {
        "id": "O-Vch7nfmcsK"
      },
      "execution_count": null,
      "outputs": []
    }
  ]
}