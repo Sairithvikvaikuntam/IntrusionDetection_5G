{
  "cells": [
    {
      "cell_type": "code",
      "execution_count": null,
      "metadata": {
        "id": "TOteJnRZ7snw"
      },
      "outputs": [],
      "source": [
        "import pandas as pd\n",
        "from sklearn.model_selection import train_test_split\n",
        "from sklearn.neural_network import MLPClassifier\n",
        "from sklearn.metrics import accuracy_score, precision_score, recall_score, f1_score, classification_report\n",
        "import joblib"
      ]
    },
    {
      "cell_type": "code",
      "execution_count": null,
      "metadata": {
        "colab": {
          "base_uri": "https://localhost:8080/"
        },
        "id": "Z0MULx-c708c",
        "outputId": "301c380a-c9f7-49e9-be45-ea327c3cbf99"
      },
      "outputs": [
        {
          "output_type": "stream",
          "name": "stdout",
          "text": [
            "Mounted at /content/drive\n"
          ]
        }
      ],
      "source": [
"path = \"../../data_processed/\""
      ]
    },
    {
      "cell_type": "code",
      "execution_count": null,
      "metadata": {
        "colab": {
          "base_uri": "https://localhost:8080/"
        },
        "id": "xSnl5S6Z72hj",
        "outputId": "bfd6d2c3-ffe0-4231-9a7f-795a55a4ddc5"
      },
      "outputs": [
        {
          "output_type": "stream",
          "name": "stdout",
          "text": [
            "<class 'pandas.core.frame.DataFrame'>\n",
            "RangeIndex: 1215890 entries, 0 to 1215889\n",
            "Data columns (total 24 columns):\n",
            " #   Column       Non-Null Count    Dtype  \n",
            "---  ------       --------------    -----  \n",
            " 0   Unnamed: 0   1215890 non-null  float64\n",
            " 1   Seq          1215890 non-null  float64\n",
            " 2   Dur          1215890 non-null  float64\n",
            " 3   RunTime      1215890 non-null  float64\n",
            " 4   Mean         1215890 non-null  float64\n",
            " 5   Sum          1215890 non-null  float64\n",
            " 6   Min          1215890 non-null  float64\n",
            " 7   Max          1215890 non-null  float64\n",
            " 8   TotPkts      1215890 non-null  float64\n",
            " 9   SrcPkts      1215890 non-null  float64\n",
            " 10  DstPkts      1215890 non-null  float64\n",
            " 11  TotBytes     1215890 non-null  float64\n",
            " 12  SrcBytes     1215890 non-null  float64\n",
            " 13  DstBytes     1215890 non-null  float64\n",
            " 14  Offset       1215890 non-null  float64\n",
            " 15  sMeanPktSz   1215890 non-null  float64\n",
            " 16  dMeanPktSz   1215890 non-null  float64\n",
            " 17  Load         1215890 non-null  float64\n",
            " 18  SrcLoad      1215890 non-null  float64\n",
            " 19  Rate         1215890 non-null  float64\n",
            " 20  SrcRate      1215890 non-null  float64\n",
            " 21  Label        1215890 non-null  object \n",
            " 22  Attack Type  1215890 non-null  object \n",
            " 23  Attack Tool  1215890 non-null  object \n",
            "dtypes: float64(21), object(3)\n",
            "memory usage: 222.6+ MB\n"
          ]
        }
      ],
      "source": [
        "combinedDf = pd.read_csv(path + 'updated_Combined.csv')\n",
        "\n",
        "combinedDf.info()"
      ]
    },
    {
      "cell_type": "code",
      "execution_count": null,
      "metadata": {
        "id": "XfZbXEG_7-Mh"
      },
      "outputs": [],
      "source": [
        "features = ['Seq', 'Dur', 'RunTime', 'Mean', 'Sum', 'Min', 'Max',\n",
        "            'TotPkts', 'SrcPkts', 'DstPkts', 'TotBytes', 'SrcBytes',\n",
        "            'DstBytes', 'Offset', 'sMeanPktSz', 'dMeanPktSz',\n",
        "            'Load', 'SrcLoad', 'Rate', 'SrcRate']\n",
        "target = 'Attack Type'"
      ]
    },
    {
      "cell_type": "code",
      "execution_count": null,
      "metadata": {
        "id": "1FFAPsvH7-oE"
      },
      "outputs": [],
      "source": [
        "# Split the data into training and testing sets\n",
        "X_train, X_test, y_train, y_test = train_test_split(combinedDf[features], combinedDf[target], test_size=0.2, random_state=42)"
      ]
    },
    {
      "cell_type": "code",
      "execution_count": null,
      "metadata": {
        "id": "ZDWfF9Hx8BaS"
      },
      "outputs": [],
      "source": [
        "# Initialize and train the MLP classifier\n",
        "mlp_model = MLPClassifier(hidden_layer_sizes=(100, 50), activation='relu', solver='adam', random_state=42)\n",
        "mlp_model.fit(X_train, y_train)\n",
        "joblib.dump(mlp_model, path + 'models/mlp_model_multi.pkl')\n",
        "\n",
        "# Predict on the test set\n",
        "y_pred = mlp_model.predict(X_test)"
      ]
    },
    {
      "cell_type": "code",
      "execution_count": null,
      "metadata": {
        "id": "CW8Arf1u8VC9",
        "colab": {
          "base_uri": "https://localhost:8080/"
        },
        "outputId": "855dee2c-d57c-4b73-bafa-f8712c6d9f1c"
      },
      "outputs": [
        {
          "output_type": "stream",
          "name": "stdout",
          "text": [
            "Accuracy: 0.9967883607892162\n"
          ]
        }
      ],
      "source": [
        "# Evaluate model performance\n",
        "accuracy = accuracy_score(y_test, y_pred)\n",
        "# precision_benign = precision_score(y_test, y_pred, pos_label='Benign')\n",
        "# recall_benign = recall_score(y_test, y_pred, pos_label='Benign')\n",
        "# f1_benign = f1_score(y_test, y_pred, pos_label='Benign')\n",
        "# precision_malicious = precision_score(y_test, y_pred, pos_label='Malicious')\n",
        "# recall_malicious = recall_score(y_test, y_pred, pos_label='Malicious')\n",
        "# f1_malicious = f1_score(y_test, y_pred, pos_label='Malicious')\n",
        "\n",
        "# Print evaluation metrics\n",
        "print(\"Accuracy:\", accuracy)\n",
        "# print(\"precision_benign:\", precision_benign)\n",
        "# print(\"recall_benign:\", recall_benign)\n",
        "# print(\"f1_benign:\", f1_benign)\n",
        "# print(\"precision_malicious:\", precision_benign)\n",
        "# print(\"recall_malicious:\", recall_benign)\n",
        "# print(\"f1_malicious:\", f1_malicious)\n"
      ]
    },
    {
      "cell_type": "code",
      "execution_count": null,
      "metadata": {
        "id": "3yqmf0H38Vsp",
        "colab": {
          "base_uri": "https://localhost:8080/"
        },
        "outputId": "1b9db066-e40a-44f6-a2eb-5cd2acb27092"
      },
      "outputs": [
        {
          "output_type": "stream",
          "name": "stdout",
          "text": [
            "Classification Report:\n",
            "                 precision    recall  f1-score   support\n",
            "\n",
            "        Benign  0.99888179 0.99778692 0.99833406     95794\n",
            "     HTTPFlood  0.99638912 0.99939637 0.99789048     28163\n",
            "     ICMPFlood  0.99166667 1.00000000 0.99581590       238\n",
            "      SYNFlood  1.00000000 1.00000000 1.00000000      1919\n",
            "       SYNScan  0.99845877 0.99820236 0.99833055      3894\n",
            "   SlowrateDoS  0.99779082 0.99655244 0.99717124     14503\n",
            "TCPConnectScan  0.96814371 0.99728596 0.98249878      4053\n",
            "      UDPFlood  0.99936327 0.99574496 0.99755083     91421\n",
            "       UDPScan  0.90084327 0.97024742 0.93425814      3193\n",
            "\n",
            "      accuracy                      0.99678836    243178\n",
            "     macro avg  0.98350416 0.99502405 0.98909444    243178\n",
            "  weighted avg  0.99690446 0.99678836 0.99682425    243178\n",
            "\n"
          ]
        }
      ],
      "source": [
        "classification_rep = classification_report(y_test, y_pred,digits = 8)\n",
        "print(\"Classification Report:\\n\", classification_rep)\n"
      ]
    },
    {
      "cell_type": "code",
      "source": [],
      "metadata": {
        "id": "0o13krJipPJL"
      },
      "execution_count": null,
      "outputs": []
    }
  ],
  "metadata": {
    "colab": {
      "provenance": []
    },
    "kernelspec": {
      "display_name": "Python 3",
      "name": "python3"
    },
    "language_info": {
      "name": "python"
    }
  },
  "nbformat": 4,
  "nbformat_minor": 0
}