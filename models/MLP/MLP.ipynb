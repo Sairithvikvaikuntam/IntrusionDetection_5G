{
  "nbformat": 4,
  "nbformat_minor": 0,
  "metadata": {
    "colab": {
      "provenance": []
    },
    "kernelspec": {
      "name": "python3",
      "display_name": "Python 3"
    },
    "language_info": {
      "name": "python"
    }
  },
  "cells": [
    {
      "cell_type": "code",
      "execution_count": null,
      "metadata": {
        "id": "TOteJnRZ7snw"
      },
      "outputs": [],
      "source": [
        "import pandas as pd\n",
        "from sklearn.model_selection import train_test_split\n",
        "from sklearn.neural_network import MLPClassifier\n",
        "from sklearn.metrics import accuracy_score, precision_score, recall_score, f1_score, classification_report\n",
        "import joblib"
      ]
    },
    {
      "cell_type": "code",
      "source": [
        "#mount google drive\n",
        "\n",
        "from google.colab import drive\n",
        "\n",
        "drive.mount('/content/drive')\n",
        "\n",
        "path = \"/content/drive/MyDrive/\"\n"
      ],
      "metadata": {
        "colab": {
          "base_uri": "https://localhost:8080/"
        },
        "id": "Z0MULx-c708c",
        "outputId": "9451d7f7-3e0f-4c52-91b5-81276285ca9f"
      },
      "execution_count": null,
      "outputs": [
        {
          "output_type": "stream",
          "name": "stdout",
          "text": [
            "Mounted at /content/drive\n"
          ]
        }
      ]
    },
    {
      "cell_type": "code",
      "source": [
        "combinedDf = pd.read_csv(path + 'updated_Combined.csv')\n",
        "\n",
        "combinedDf.info()"
      ],
      "metadata": {
        "colab": {
          "base_uri": "https://localhost:8080/"
        },
        "id": "xSnl5S6Z72hj",
        "outputId": "ad31aff9-ce9f-444b-d1f2-daa0009b926a"
      },
      "execution_count": null,
      "outputs": [
        {
          "output_type": "stream",
          "name": "stdout",
          "text": [
            "<class 'pandas.core.frame.DataFrame'>\n",
            "RangeIndex: 1215890 entries, 0 to 1215889\n",
            "Data columns (total 24 columns):\n",
            " #   Column       Non-Null Count    Dtype  \n",
            "---  ------       --------------    -----  \n",
            " 0   Unnamed: 0   1215890 non-null  float64\n",
            " 1   Seq          1215890 non-null  float64\n",
            " 2   Dur          1215890 non-null  float64\n",
            " 3   RunTime      1215890 non-null  float64\n",
            " 4   Mean         1215890 non-null  float64\n",
            " 5   Sum          1215890 non-null  float64\n",
            " 6   Min          1215890 non-null  float64\n",
            " 7   Max          1215890 non-null  float64\n",
            " 8   TotPkts      1215890 non-null  float64\n",
            " 9   SrcPkts      1215890 non-null  float64\n",
            " 10  DstPkts      1215890 non-null  float64\n",
            " 11  TotBytes     1215890 non-null  float64\n",
            " 12  SrcBytes     1215890 non-null  float64\n",
            " 13  DstBytes     1215890 non-null  float64\n",
            " 14  Offset       1215890 non-null  float64\n",
            " 15  sMeanPktSz   1215890 non-null  float64\n",
            " 16  dMeanPktSz   1215890 non-null  float64\n",
            " 17  Load         1215890 non-null  float64\n",
            " 18  SrcLoad      1215890 non-null  float64\n",
            " 19  Rate         1215890 non-null  float64\n",
            " 20  SrcRate      1215890 non-null  float64\n",
            " 21  Label        1215890 non-null  object \n",
            " 22  Attack Type  1215890 non-null  object \n",
            " 23  Attack Tool  1215890 non-null  object \n",
            "dtypes: float64(21), object(3)\n",
            "memory usage: 222.6+ MB\n"
          ]
        }
      ]
    },
    {
      "cell_type": "code",
      "source": [
        "features = ['Seq', 'Dur', 'RunTime', 'Mean', 'Sum', 'Min', 'Max',\n",
        "            'TotPkts', 'SrcPkts', 'DstPkts', 'TotBytes', 'SrcBytes',\n",
        "            'DstBytes', 'Offset', 'sMeanPktSz', 'dMeanPktSz',\n",
        "            'Load', 'SrcLoad', 'Rate', 'SrcRate']\n",
        "target = 'Label'"
      ],
      "metadata": {
        "id": "XfZbXEG_7-Mh"
      },
      "execution_count": null,
      "outputs": []
    },
    {
      "cell_type": "code",
      "source": [
        "# Split the data into training and testing sets\n",
        "X_train, X_test, y_train, y_test = train_test_split(combinedDf[features], combinedDf[target], test_size=0.2, random_state=42)"
      ],
      "metadata": {
        "id": "1FFAPsvH7-oE"
      },
      "execution_count": null,
      "outputs": []
    },
    {
      "cell_type": "code",
      "source": [
        "# Initialize and train the MLP classifier\n",
        "mlp_model = MLPClassifier(hidden_layer_sizes=(100, 50), activation='relu', solver='adam', random_state=42)\n",
        "mlp_model.fit(X_train, y_train)\n",
        "joblib.dump(mlp_model, path + 'models/mlp_model.pkl')",
        "\n",
        "# Predict on the test set\n",
        "y_pred = mlp_model.predict(X_test)"
      ],
      "metadata": {
        "id": "ZDWfF9Hx8BaS"
      },
      "execution_count": null,
      "outputs": []
    },
    {
      "cell_type": "code",
      "source": [
        "# Evaluate model performance\n",
        "accuracy = accuracy_score(y_test, y_pred)\n",
        "precision_benign = precision_score(y_test, y_pred, pos_label='Benign')\n",
        "recall_benign = recall_score(y_test, y_pred, pos_label='Benign')\n",
        "f1_benign = f1_score(y_test, y_pred, pos_label='Benign')\n",
        "precision_malicious = precision_score(y_test, y_pred, pos_label='Malicious')\n",
        "recall_malicious = recall_score(y_test, y_pred, pos_label='Malicious')\n",
        "f1_malicious = f1_score(y_test, y_pred, pos_label='Malicious')\n",
        "\n",
        "# Print evaluation metrics\n",
        "print(\"Accuracy:\", accuracy)\n",
        "print(\"precision_benign:\", precision_benign)\n",
        "print(\"recall_benign:\", recall_benign)\n",
        "print(\"f1_benign:\", f1_benign)\n",
        "print(\"precision_malicious:\", precision_benign)\n",
        "print(\"recall_malicious:\", recall_benign)\n",
        "print(\"f1_malicious:\", f1_malicious)\n"
      ],
      "metadata": {
        "colab": {
          "base_uri": "https://localhost:8080/"
        },
        "id": "CW8Arf1u8VC9",
        "outputId": "f7194cbb-b73c-4ed7-c1ea-71a4cec62b7b"
      },
      "execution_count": null,
      "outputs": [
        {
          "output_type": "stream",
          "name": "stdout",
          "text": [
            "Accuracy: 0.9983468899324774\n",
            "precision_benign: 0.9991627595445411\n",
            "recall_benign: 0.9966386203728835\n",
            "f1_benign: 0.9978990937882161\n",
            "precision_malicious: 0.9991627595445411\n",
            "recall_malicious: 0.9966386203728835\n",
            "f1_malicious: 0.99863733432765\n"
          ]
        }
      ]
    },
    {
      "cell_type": "code",
      "source": [],
      "metadata": {
        "id": "3yqmf0H38Vsp"
      },
      "execution_count": null,
      "outputs": []
    }
  ]
}
