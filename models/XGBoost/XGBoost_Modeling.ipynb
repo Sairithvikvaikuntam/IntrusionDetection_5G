{
  "cells": [
    {
      "cell_type": "code",
      "execution_count": 8,
      "metadata": {},
      "outputs": [
        {
          "name": "stdout",
          "output_type": "stream",
          "text": [
            "['Seq', 'sTos', 'sTtl', 'Offset', 'sMeanPktSz', 'dMeanPktSz', 'AckDat', 'icmp', 'tcp', 'udp', 'ECO', 'FIN', 'INT', 'RST', 'Start']\n"
          ]
        }
      ],
      "source": [
        "%run ../../src/feature_selection_scripts/Feature_Selection_Bin_Cla_SRV.ipynb"
      ]
    },
    {
      "cell_type": "code",
      "execution_count": 9,
      "metadata": {
        "id": "ZZGp4_b8qz2M"
      },
      "outputs": [],
      "source": [
        "import pickle\n",
        "\n",
        "from xgboost import XGBClassifier\n",
        "from sklearn.metrics import accuracy_score, precision_score, recall_score, f1_score, classification_report"
      ]
    },
    {
      "cell_type": "code",
      "execution_count": 10,
      "metadata": {},
      "outputs": [],
      "source": [
        "X = df[selected_feature_labels].values\n",
        "X_train, X_test, y_train, y_test = train_test_split(X, y, random_state=0)"
      ]
    },
    {
      "cell_type": "code",
      "execution_count": 11,
      "metadata": {
        "id": "aPwxAKrFqoAl"
      },
      "outputs": [],
      "source": [
        "xgb_clf = XGBClassifier(random_state=0)\n",
        "\n",
        "xgb_clf.fit(X_train, y_train)\n",
        "\n",
        "y_pred = xgb_clf.predict(X_test)"
      ]
    },
    {
      "cell_type": "code",
      "execution_count": 12,
      "metadata": {
        "colab": {
          "base_uri": "https://localhost:8080/"
        },
        "id": "JqktkVwnraD3",
        "outputId": "d5b8c408-6e3b-404a-ba74-bc11bd0e0f1e"
      },
      "outputs": [
        {
          "name": "stdout",
          "output_type": "stream",
          "text": [
            "Accuracy: 0.9996611541156616\n",
            "precision_benign: 0.9993647290903923\n",
            "recall_benign: 0.9997742191746456\n",
            "f1_benign: 0.9995694321939311\n",
            "precision_malicious: 0.9993647290903923\n",
            "recall_malicious: 0.9997742191746456\n",
            "f1_malicious: 0.9997206605428949\n"
          ]
        }
      ],
      "source": [
        "accuracy = accuracy_score(y_test, y_pred)\n",
        "precision_benign = precision_score(y_test, y_pred, pos_label=0)\n",
        "recall_benign = recall_score(y_test, y_pred, pos_label=0)\n",
        "f1_benign = f1_score(y_test, y_pred, pos_label=0)\n",
        "precision_malicious = precision_score(y_test, y_pred, pos_label=1)\n",
        "recall_malicious = recall_score(y_test, y_pred, pos_label=1)\n",
        "f1_malicious = f1_score(y_test, y_pred, pos_label=1)\n",
        "\n",
        "# Print evaluation metrics\n",
        "print(\"Accuracy:\", accuracy)\n",
        "print(\"precision_benign:\", precision_benign)\n",
        "print(\"recall_benign:\", recall_benign)\n",
        "print(\"f1_benign:\", f1_benign)\n",
        "print(\"precision_malicious:\", precision_benign)\n",
        "print(\"recall_malicious:\", recall_benign)\n",
        "print(\"f1_malicious:\", f1_malicious)"
      ]
    },
    {
      "cell_type": "code",
      "execution_count": 13,
      "metadata": {},
      "outputs": [],
      "source": [
        "with open('xgb_clf.pkl', 'wb') as f:\n",
        "    pickle.dump(xgb_clf, f)"
      ]
    }
  ],
  "metadata": {
    "accelerator": "GPU",
    "colab": {
      "gpuType": "T4",
      "provenance": []
    },
    "kernelspec": {
      "display_name": "Python 3",
      "name": "python3"
    },
    "language_info": {
      "codemirror_mode": {
        "name": "ipython",
        "version": 3
      },
      "file_extension": ".py",
      "mimetype": "text/x-python",
      "name": "python",
      "nbconvert_exporter": "python",
      "pygments_lexer": "ipython3",
      "version": "3.11.5"
    }
  },
  "nbformat": 4,
  "nbformat_minor": 0
}
