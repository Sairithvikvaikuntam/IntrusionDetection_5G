{
  "nbformat": 4,
  "nbformat_minor": 0,
  "metadata": {
    "colab": {
      "provenance": [],
      "gpuType": "T4"
    },
    "kernelspec": {
      "name": "python3",
      "display_name": "Python 3"
    },
    "language_info": {
      "name": "python"
    },
    "accelerator": "GPU"
  },
  "cells": [
    {
      "cell_type": "code",
      "source": [
        "import pandas as pd\n",
        "import numpy as np\n",
        "\n",
        "from sklearn.feature_selection import SelectKBest\n",
        "from sklearn.feature_selection import chi2\n",
        "\n",
        "from xgboost import XGBClassifier\n",
        "from sklearn.model_selection import train_test_split\n",
        "from sklearn.metrics import accuracy_score, precision_score, recall_score, f1_score, classification_report"
      ],
      "metadata": {
        "id": "ZZGp4_b8qz2M"
      },
      "execution_count": 1,
      "outputs": []
    },
    {
      "cell_type": "code",
      "source": [
        "df = pd.read_csv('/content/drive/MyDrive/Data_Processed_SRV.csv')"
      ],
      "metadata": {
        "id": "wuHlsWhjhevS"
      },
      "execution_count": 2,
      "outputs": []
    },
    {
      "cell_type": "code",
      "source": [
        "X = df.values[:, :-2]\n",
        "y = df.values[:, -2]\n",
        "y = y.astype(int)"
      ],
      "metadata": {
        "id": "CjbwjroorE6p"
      },
      "execution_count": 3,
      "outputs": []
    },
    {
      "cell_type": "code",
      "source": [
        "test = SelectKBest(score_func=chi2, k=15)\n",
        "fit = test.fit(X, y)\n",
        "np.set_printoptions(precision=3)\n",
        "features = fit.transform(X)"
      ],
      "metadata": {
        "id": "j6Hr8Uw5rJja"
      },
      "execution_count": 4,
      "outputs": []
    },
    {
      "cell_type": "code",
      "source": [
        "selected_features_mask = fit.get_support()\n",
        "your_feature_labels = df.columns.tolist()\n",
        "\n",
        "selected_feature_indices = np.where(selected_features_mask)[0]\n",
        "selected_feature_labels = [your_feature_labels[i] for i in selected_feature_indices]\n"
      ],
      "metadata": {
        "id": "c36ZupR4rJ_x"
      },
      "execution_count": 5,
      "outputs": []
    },
    {
      "cell_type": "code",
      "source": [
        "# Assuming you have your feature matrix X and target vector y defined\n",
        "\n",
        "# Split the data into training and testing sets\n",
        "X_train, X_test, y_train, y_test = train_test_split(X, y, random_state=0)\n",
        "\n",
        "# Initialize XGBoost classifier\n",
        "xgb_clf = XGBClassifier(random_state=0)\n",
        "\n",
        "# Train the classifier on the training data\n",
        "xgb_clf.fit(X_train, y_train)\n",
        "\n",
        "# Predict on the testing data\n",
        "y_pred = xgb_clf.predict(X_test)\n"
      ],
      "metadata": {
        "id": "aPwxAKrFqoAl"
      },
      "execution_count": 6,
      "outputs": []
    },
    {
      "cell_type": "code",
      "source": [
        "accuracy = accuracy_score(y_test, y_pred)\n",
        "precision_benign = precision_score(y_test, y_pred, pos_label=0)\n",
        "recall_benign = recall_score(y_test, y_pred, pos_label=0)\n",
        "f1_benign = f1_score(y_test, y_pred, pos_label=0)\n",
        "precision_malicious = precision_score(y_test, y_pred, pos_label=1)\n",
        "recall_malicious = recall_score(y_test, y_pred, pos_label=1)\n",
        "f1_malicious = f1_score(y_test, y_pred, pos_label=1)\n",
        "\n",
        "# Print evaluation metrics\n",
        "print(\"Accuracy:\", accuracy)\n",
        "print(\"precision_benign:\", precision_benign)\n",
        "print(\"recall_benign:\", recall_benign)\n",
        "print(\"f1_benign:\", f1_benign)\n",
        "print(\"precision_malicious:\", precision_benign)\n",
        "print(\"recall_malicious:\", recall_benign)\n",
        "print(\"f1_malicious:\", f1_malicious)"
      ],
      "metadata": {
        "colab": {
          "base_uri": "https://localhost:8080/"
        },
        "id": "JqktkVwnraD3",
        "outputId": "d5b8c408-6e3b-404a-ba74-bc11bd0e0f1e"
      },
      "execution_count": 7,
      "outputs": [
        {
          "output_type": "stream",
          "name": "stdout",
          "text": [
            "Accuracy: 0.9997170801354067\n",
            "precision_benign: 0.9994900560938297\n",
            "recall_benign: 0.9997909436802275\n",
            "f1_benign: 0.9996404772455542\n",
            "precision_malicious: 0.9994900560938297\n",
            "recall_malicious: 0.9997909436802275\n",
            "f1_malicious: 0.9997667733362261\n"
          ]
        }
      ]
    }
  ]
}