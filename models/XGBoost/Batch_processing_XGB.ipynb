{
 "cells": [
  {
   "cell_type": "code",
   "execution_count": 28,
   "metadata": {},
   "outputs": [
    {
     "name": "stdout",
     "output_type": "stream",
     "text": [
      "['Seq', 'sTos', 'sTtl', 'Offset', 'sMeanPktSz', 'dMeanPktSz', 'AckDat', 'icmp', 'tcp', 'udp', 'ECO', 'FIN', 'INT', 'RST', 'Start']\n"
     ]
    }
   ],
   "source": [
    "%run ../../src/feature_selection_scripts/Feature_Selection_Bin_Cla_SRV.ipynb"
   ]
  },
  {
   "cell_type": "code",
   "execution_count": 29,
   "metadata": {},
   "outputs": [],
   "source": [
    "import pickle\n",
    "\n",
    "from xgboost import XGBClassifier\n",
    "from sklearn.metrics import accuracy_score, precision_score, recall_score, f1_score, classification_report"
   ]
  },
  {
   "cell_type": "code",
   "execution_count": 30,
   "metadata": {},
   "outputs": [],
   "source": [
    "X = df[selected_feature_labels].values\n",
    "X_train, X_test, y_train, y_test = train_test_split(X, y, random_state=0)"
   ]
  },
  {
   "cell_type": "code",
   "execution_count": 31,
   "metadata": {},
   "outputs": [],
   "source": [
    "xgb_clf = XGBClassifier(random_state=0)"
   ]
  },
  {
   "cell_type": "code",
   "execution_count": 32,
   "metadata": {},
   "outputs": [],
   "source": [
    "batch_size = 100000\n",
    "num_batches = len(X_train) // batch_size"
   ]
  },
  {
   "cell_type": "code",
   "execution_count": 33,
   "metadata": {},
   "outputs": [],
   "source": [
    "for i in range(num_batches):\n",
    "    start_idx = i * batch_size\n",
    "    end_idx = (i + 1) * batch_size\n",
    "    X_batch = X_train[start_idx:end_idx]\n",
    "    y_batch = y_train[start_idx:end_idx]\n",
    "    xgb_clf.fit(X_batch, y_batch)\n",
    "\n",
    "if len(X_train) % batch_size != 0:\n",
    "    start_idx = num_batches * batch_size\n",
    "    X_batch = X_train[start_idx:]\n",
    "    y_batch = y_train[start_idx:]\n",
    "    xgb_clf.fit(X_batch, y_batch)"
   ]
  },
  {
   "cell_type": "code",
   "execution_count": 34,
   "metadata": {},
   "outputs": [],
   "source": [
    "y_pred = xgb_clf.predict(X_test)"
   ]
  },
  {
   "cell_type": "code",
   "execution_count": 35,
   "metadata": {},
   "outputs": [
    {
     "name": "stdout",
     "output_type": "stream",
     "text": [
      "Accuracy: 0.9987104117799936\n",
      "precision_benign: 0.9986862694235484\n",
      "recall_benign: 0.9980348705941381\n",
      "f1_benign: 0.998360463754538\n",
      "precision_malicious: 0.9986862694235484\n",
      "recall_malicious: 0.9980348705941381\n",
      "f1_malicious: 0.9989372488843825\n"
     ]
    }
   ],
   "source": [
    "accuracy = accuracy_score(y_test, y_pred)\n",
    "precision_benign = precision_score(y_test, y_pred, pos_label=0)\n",
    "recall_benign = recall_score(y_test, y_pred, pos_label=0)\n",
    "f1_benign = f1_score(y_test, y_pred, pos_label=0)\n",
    "precision_malicious = precision_score(y_test, y_pred, pos_label=1)\n",
    "recall_malicious = recall_score(y_test, y_pred, pos_label=1)\n",
    "f1_malicious = f1_score(y_test, y_pred, pos_label=1)\n",
    "\n",
    "# Print evaluation metrics\n",
    "print(\"Accuracy:\", accuracy)\n",
    "print(\"precision_benign:\", precision_benign)\n",
    "print(\"recall_benign:\", recall_benign)\n",
    "print(\"f1_benign:\", f1_benign)\n",
    "print(\"precision_malicious:\", precision_benign)\n",
    "print(\"recall_malicious:\", recall_benign)\n",
    "print(\"f1_malicious:\", f1_malicious)"
   ]
  }
 ],
 "metadata": {
  "language_info": {
   "name": "python"
  }
 },
 "nbformat": 4,
 "nbformat_minor": 2
}
