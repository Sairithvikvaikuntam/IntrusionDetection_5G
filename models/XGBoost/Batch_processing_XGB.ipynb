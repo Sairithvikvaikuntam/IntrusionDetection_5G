{
 "cells": [
  {
   "cell_type": "code",
   "execution_count": null,
   "metadata": {},
   "outputs": [],
   "source": [
    "%run ../../src/feature_selection_scripts/Feature_Selection_Bin_Cla_SRV.ipynb"
   ]
  },
  {
   "cell_type": "code",
   "execution_count": null,
   "metadata": {},
   "outputs": [],
   "source": [
    "import pickle\n",
    "\n",
    "from xgboost import XGBClassifier\n",
    "from sklearn.metrics import accuracy_score, precision_score, recall_score, f1_score, classification_report"
   ]
  },
  {
   "cell_type": "code",
   "execution_count": null,
   "metadata": {},
   "outputs": [],
   "source": [
    "X = df[selected_feature_labels].values\n",
    "X_train, X_test, y_train, y_test = train_test_split(X, y, random_state=0)"
   ]
  },
  {
   "cell_type": "code",
   "execution_count": null,
   "metadata": {},
   "outputs": [],
   "source": [
    "xgb_clf = XGBClassifier(random_state=0)"
   ]
  },
  {
   "cell_type": "code",
   "execution_count": null,
   "metadata": {},
   "outputs": [],
   "source": [
    "batch_size = 100000\n",
    "num_batches = len(X_train) // batch_size"
   ]
  },
  {
   "cell_type": "code",
   "execution_count": null,
   "metadata": {},
   "outputs": [],
   "source": [
    "for i in range(num_batches):\n",
    "    start_idx = i * batch_size\n",
    "    end_idx = (i + 1) * batch_size\n",
    "    X_batch = X_train[start_idx:end_idx]\n",
    "    y_batch = y_train[start_idx:end_idx]\n",
    "    xgb_clf.fit(X_batch, y_batch)\n",
    "\n",
    "if len(X_train) % batch_size != 0:\n",
    "    start_idx = num_batches * batch_size\n",
    "    X_batch = X_train[start_idx:]\n",
    "    y_batch = y_train[start_idx:]\n",
    "    xgb_clf.fit(X_batch, y_batch)"
   ]
  },
  {
   "cell_type": "code",
   "execution_count": null,
   "metadata": {},
   "outputs": [],
   "source": [
    "y_pred = xgb_clf.predict(X_test)"
   ]
  },
  {
   "cell_type": "code",
   "execution_count": null,
   "metadata": {},
   "outputs": [],
   "source": [
    "accuracy = accuracy_score(y_test, y_pred)\n",
    "precision_benign = precision_score(y_test, y_pred, pos_label=0)\n",
    "recall_benign = recall_score(y_test, y_pred, pos_label=0)\n",
    "f1_benign = f1_score(y_test, y_pred, pos_label=0)\n",
    "precision_malicious = precision_score(y_test, y_pred, pos_label=1)\n",
    "recall_malicious = recall_score(y_test, y_pred, pos_label=1)\n",
    "f1_malicious = f1_score(y_test, y_pred, pos_label=1)\n",
    "\n",
    "# Print evaluation metrics\n",
    "print(\"Accuracy:\", accuracy)\n",
    "print(\"precision_benign:\", precision_benign)\n",
    "print(\"recall_benign:\", recall_benign)\n",
    "print(\"f1_benign:\", f1_benign)\n",
    "print(\"precision_malicious:\", precision_benign)\n",
    "print(\"recall_malicious:\", recall_benign)\n",
    "print(\"f1_malicious:\", f1_malicious)"
   ]
  }
 ],
 "metadata": {
  "language_info": {
   "name": "python"
  }
 },
 "nbformat": 4,
 "nbformat_minor": 2
}
