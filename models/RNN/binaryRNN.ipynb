{
  "cells": [
    {
      "cell_type": "code",
      "execution_count": 1,
      "metadata": {
        "colab": {
          "base_uri": "https://localhost:8080/"
        },
        "id": "F6pKBs0VRddT",
        "outputId": "2af834c9-1004-4386-9e76-67fa61b40289"
      },
      "outputs": [
        {
          "name": "stdout",
          "output_type": "stream",
          "text": [
            "Mounted at /content/drive/\n"
          ]
        }
      ],
      "source": [
        "import pandas as pd\n",
        "import numpy as np\n",
        "import matplotlib.pyplot as plt\n",
        "import seaborn as sns\n",
        "from sklearn.preprocessing import StandardScaler\n",
        "#to ignore warnings\n",
        "#import warnings\n",
        "#warnings.filterwarnings('ignore')\n",
        "#from google.colab import drive\n",
        "#drive.mount('/content/drive/')"
      ]
    },
    {
      "cell_type": "code",
      "execution_count": 2,
      "metadata": {
        "id": "aKcLMsviS_mN"
      },
      "outputs": [],
      "source": [
        "def data_preprocessing_binary(path):\n",
        "  df = pd.read_csv(path)\n",
        "  df_encoded = pd.get_dummies(df[['Proto','State']], columns=['Proto', 'State'])\n",
        "\n",
        "  select_features_df = df[[ 'AckDat', 'sHops', 'Seq','TcpRtt', 'dMeanPktSz', 'Offset', 'sTtl',  'Mean', 'SrcTCPBase', 'sMeanPktSz', 'DstLoss', 'Loss', 'dTtl', 'SrcBytes', 'TotBytes']]\n",
        "  select_features_df['sHops'].fillna(df['sHops'].mean(), inplace = True)\n",
        "  select_features_df['sTtl'].fillna(df['sTtl'].mean(), inplace = True)\n",
        "  select_features_df['SrcTCPBase'].fillna(df['SrcTCPBase'].mean(), inplace = True)\n",
        "  select_features_df['dTtl'].fillna(df['dTtl'].mean(), inplace = True)\n",
        "  df_merged = pd.concat([select_features_df, df_encoded], axis=1)\n",
        "\n",
        "  df_output_encoded = df['Label']\n",
        "  df_output_encoded_1 = df_output_encoded.replace(['Benign', 'Malicious'],\n",
        "                        [0, 1], inplace=False)\n",
        "\n",
        "\n",
        "  #returns input and output dataframe\n",
        "  return df_merged, df_output_encoded_1\n",
        "\n"
      ]
    },
    {
      "cell_type": "code",
      "execution_count": 3,
      "metadata": {
        "id": "uuS12s0PTJxP"
      },
      "outputs": [],
      "source": [
        "def standardize(input_df):\n",
        "  scaler = StandardScaler()\n",
        "  df_standardized = scaler.fit_transform(input_df)\n",
        "  df_standardized = pd.DataFrame(df_standardized, columns=input_df.columns)\n",
        "  return df_standardized\n"
      ]
    },
    {
      "cell_type": "code",
      "execution_count": 4,
      "metadata": {
        "id": "iKTu5puxRkPt"
      },
      "outputs": [],
      "source": [
        "# create rnn binary model method.\n",
        "from tensorflow.keras.models import Sequential\n",
        "from tensorflow.keras.layers import LSTM, Dense\n",
        "\n",
        "def create_rnn_model(input_shape):\n",
        "    model = Sequential([\n",
        "        LSTM(64, input_shape=input_shape),\n",
        "        Dense(1, activation='sigmoid')\n",
        "    ])\n",
        "    model.compile(optimizer='adam', loss='binary_crossentropy', metrics=['accuracy'])\n",
        "    return model"
      ]
    },
    {
      "cell_type": "code",
      "execution_count": 5,
      "metadata": {
        "id": "y5LbkIz-SbWf"
      },
      "outputs": [],
      "source": [
        "# Import necessary libraries\n",
        "from sklearn.base import BaseEstimator, TransformerMixin\n",
        "\n",
        "# Define a custom transformer to incorporate RNN model into the pipeline\n",
        "class RNNWrapper(BaseEstimator, TransformerMixin):\n",
        "    def __init__(self, rnn_model):\n",
        "        self.rnn_model = rnn_model\n",
        "\n",
        "    def fit(self, X, y=None):\n",
        "        self.rnn_model.fit(X, y, epochs=10, batch_size=32)  # Train the RNN model\n",
        "        return self\n",
        "\n",
        "    def transform(self, X):\n",
        "        return self.rnn_model.predict(X)\n"
      ]
    },
    {
      "cell_type": "code",
      "execution_count": 6,
      "metadata": {
        "id": "lbJ8zxmPSdy9"
      },
      "outputs": [],
      "source": [
        "#Method calls for Binary RNN model....\n",
        "path = '../../data_processed/'\n",
        "input, output = data_preprocessing_binary(path)"
      ]
    },
    {
      "cell_type": "code",
      "execution_count": 7,
      "metadata": {
        "id": "aFAOrUz_SnD6"
      },
      "outputs": [],
      "source": [
        "#uses the standardize methods for EDA.\n",
        "input_standardized = standardize(input)"
      ]
    },
    {
      "cell_type": "code",
      "execution_count": 8,
      "metadata": {
        "id": "T8ZZA0QASu97"
      },
      "outputs": [],
      "source": [
        "from sklearn.model_selection import train_test_split\n",
        "import numpy as np\n",
        "\n",
        "# Assuming X_train and X_test are your input features\n",
        "X = input_standardized.values  # Convert DataFrame to numpy array\n",
        "y = output.values  # Convert DataFrame to numpy array\n",
        "\n",
        "X_train, X_test, y_train, y_test = train_test_split(X, y, test_size=0.2, random_state=42)\n",
        "\n",
        "# Reshape the input data for the RNN model\n",
        "X_train_rnn = X_train.reshape((X_train.shape[0], 1, X_train.shape[1]))\n",
        "X_test_rnn = X_test.reshape((X_test.shape[0], 1, X_test.shape[1]))"
      ]
    },
    {
      "cell_type": "code",
      "execution_count": 9,
      "metadata": {
        "colab": {
          "base_uri": "https://localhost:8080/"
        },
        "id": "loSGGgeJSvw7",
        "outputId": "a7de73c0-7d0a-43b8-a507-99a37079a10c"
      },
      "outputs": [
        {
          "name": "stdout",
          "output_type": "stream",
          "text": [
            "Epoch 1/10\n",
            "30398/30398 [==============================] - 119s 4ms/step - loss: 0.0126 - accuracy: 0.9968 - val_loss: 0.0027 - val_accuracy: 0.9993\n",
            "Epoch 2/10\n",
            "30398/30398 [==============================] - 115s 4ms/step - loss: 0.0020 - accuracy: 0.9994 - val_loss: 0.0015 - val_accuracy: 0.9996\n",
            "Epoch 3/10\n",
            "30398/30398 [==============================] - 105s 3ms/step - loss: 0.0014 - accuracy: 0.9995 - val_loss: 0.0012 - val_accuracy: 0.9997\n",
            "Epoch 4/10\n",
            "30398/30398 [==============================] - 113s 4ms/step - loss: 0.0012 - accuracy: 0.9996 - val_loss: 0.0016 - val_accuracy: 0.9994\n",
            "Epoch 5/10\n",
            "30398/30398 [==============================] - 109s 4ms/step - loss: 0.0011 - accuracy: 0.9996 - val_loss: 0.0013 - val_accuracy: 0.9995\n",
            "Epoch 6/10\n",
            "30398/30398 [==============================] - 114s 4ms/step - loss: 0.0010 - accuracy: 0.9996 - val_loss: 0.0012 - val_accuracy: 0.9994\n",
            "Epoch 7/10\n",
            "30398/30398 [==============================] - 117s 4ms/step - loss: 9.3530e-04 - accuracy: 0.9996 - val_loss: 9.3231e-04 - val_accuracy: 0.9997\n",
            "Epoch 8/10\n",
            "30398/30398 [==============================] - 116s 4ms/step - loss: 8.9932e-04 - accuracy: 0.9997 - val_loss: 0.0011 - val_accuracy: 0.9997\n",
            "Epoch 9/10\n",
            "30398/30398 [==============================] - 117s 4ms/step - loss: 8.7093e-04 - accuracy: 0.9997 - val_loss: 7.9873e-04 - val_accuracy: 0.9997\n",
            "Epoch 10/10\n",
            "30398/30398 [==============================] - 105s 3ms/step - loss: 8.6055e-04 - accuracy: 0.9997 - val_loss: 9.1030e-04 - val_accuracy: 0.9997\n"
          ]
        },
        {
          "data": {
            "text/plain": [
              "<keras.src.callbacks.History at 0x78ab9c4678e0>"
            ]
          },
          "execution_count": 9,
          "metadata": {},
          "output_type": "execute_result"
        }
      ],
      "source": [
        "# Define and compile the RNN model\n",
        "rnn_model = create_rnn_model(input_shape=(1, X_train.shape[1]))\n",
        "rnn_model.compile(optimizer='adam', loss='binary_crossentropy', metrics=['accuracy'])\n",
        "\n",
        "# Train the RNN model\n",
        "rnn_model.fit(X_train_rnn, y_train, epochs=10, batch_size=32, validation_data=(X_test_rnn, y_test))\n"
      ]
    },
    {
      "cell_type": "code",
      "execution_count": 10,
      "metadata": {
        "colab": {
          "base_uri": "https://localhost:8080/"
        },
        "id": "r1N9O4ieSyFo",
        "outputId": "206a076a-4ef1-45a5-b364-e9dd7e257b93"
      },
      "outputs": [
        {
          "name": "stdout",
          "output_type": "stream",
          "text": [
            "7600/7600 [==============================] - 14s 2ms/step\n"
          ]
        }
      ],
      "source": [
        "# Predict on test data using the trained RNN model\n",
        "y_pred = rnn_model.predict(X_test_rnn)\n",
        "\n",
        "# Threshold the predictions\n",
        "threshold = 0.5\n",
        "y_pred_binary = (y_pred > threshold).astype(int)\n",
        "\n",
        "# Print the first few binary predictions\n",
        "# print(\"Sample of binary predictions:\")\n",
        "# print(y_pred_binary[:10])\n"
      ]
    },
    {
      "cell_type": "code",
      "execution_count": 11,
      "metadata": {
        "colab": {
          "base_uri": "https://localhost:8080/"
        },
        "id": "q3S5OaT7S0UW",
        "outputId": "64462320-8ef2-40d9-da8a-e09862a1ad68"
      },
      "outputs": [
        {
          "name": "stdout",
          "output_type": "stream",
          "text": [
            "Evaluation Metrics:\n",
            "Accuracy: 0.9997080327990197\n",
            "Precision: 0.9999321265432727\n",
            "Recall: 0.9995861151821093\n",
            "F1 Score: 0.9997590909245139\n"
          ]
        }
      ],
      "source": [
        "from sklearn.metrics import accuracy_score, precision_score, recall_score, f1_score\n",
        "\n",
        "# Evaluate the predictions\n",
        "accuracy = accuracy_score(y_test, y_pred_binary)\n",
        "precision = precision_score(y_test, y_pred_binary)\n",
        "recall = recall_score(y_test, y_pred_binary)\n",
        "f1 = f1_score(y_test, y_pred_binary)\n",
        "\n",
        "# Print the evaluation metrics\n",
        "print(\"Evaluation Metrics:\")\n",
        "print(\"Accuracy:\", accuracy)\n",
        "print(\"Precision:\", precision)\n",
        "print(\"Recall:\", recall)\n",
        "print(\"F1 Score:\", f1)\n"
      ]
    }
  ],
  "metadata": {
    "colab": {
      "provenance": []
    },
    "kernelspec": {
      "display_name": "Python 3",
      "name": "python3"
    },
    "language_info": {
      "name": "python"
    }
  },
  "nbformat": 4,
  "nbformat_minor": 0
}
