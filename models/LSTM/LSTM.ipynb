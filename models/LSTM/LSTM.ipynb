{
 "cells": [
  {
   "cell_type": "code",
   "execution_count": 1,
   "metadata": {},
   "outputs": [
    {
     "name": "stdout",
     "output_type": "stream",
     "text": [
      "['Seq', 'sTos', 'sTtl', 'Offset', 'sMeanPktSz', 'dMeanPktSz', 'AckDat', 'icmp', 'tcp', 'udp', 'ECO', 'FIN', 'INT', 'RST', 'Start']\n",
      "(911917, 15)\n"
     ]
    }
   ],
   "source": [
    "%run ../../src/feature_selection_scripts/Feature_Selection_Bin_Cla_SRV.ipynb"
   ]
  },
  {
   "cell_type": "code",
   "execution_count": 2,
   "metadata": {},
   "outputs": [],
   "source": [
    "import pickle\n",
    "from sklearn.ensemble import VotingClassifier\n",
    "from sklearn.base import BaseEstimator, ClassifierMixin\n",
    "from sklearn.metrics import accuracy_score, precision_score, recall_score, f1_score, classification_report\n"
   ]
  },
  {
   "cell_type": "code",
   "execution_count": 4,
   "metadata": {},
   "outputs": [
    {
     "name": "stdout",
     "output_type": "stream",
     "text": [
      "(911917, 15)\n"
     ]
    }
   ],
   "source": [
    "import pandas as pd\n",
    "from sklearn.model_selection import train_test_split\n",
    "\n",
    "X = df[selected_feature_labels].values\n",
    "X_train, X_test, y_binary_train, y_binary_test, y_attack_type_train, y_attack_type_test = train_test_split(X, y_binary, y_attack_type, test_size=0.25, random_state=42)\n",
    "print(X_train.shape)\n"
   ]
  },
  {
   "cell_type": "code",
   "execution_count": 5,
   "metadata": {},
   "outputs": [],
   "source": [
    "from tensorflow.keras.utils import to_categorical\n",
    "from sklearn.preprocessing import LabelEncoder\n",
    "\n",
    "encoder = LabelEncoder()\n",
    "\n",
    "y_attack_type_train_encoded = encoder.fit_transform(y_attack_type_train)\n",
    "y_attack_type_train_encoded = to_categorical(y_attack_type_train_encoded)"
   ]
  },
  {
   "cell_type": "code",
   "execution_count": 6,
   "metadata": {},
   "outputs": [],
   "source": [
    "from tensorflow.keras.models import Sequential\n",
    "from tensorflow.keras.layers import LSTM, Dense, Input\n",
    "\n",
    "num_classes = y_attack_type_train_encoded.shape[1]\n",
    "num_features = X_train.shape[1]\n",
    "sequence_length = 1\n",
    "\n"
   ]
  },
  {
   "cell_type": "code",
   "execution_count": 7,
   "metadata": {},
   "outputs": [],
   "source": [
    "X_train_reshaped = X_train.reshape((X_train.shape[0], 1, X_train.shape[1]))\n",
    "X_test_reshaped = X_test.reshape((X_test.shape[0], 1, X_test.shape[1]))"
   ]
  },
  {
   "cell_type": "code",
   "execution_count": 8,
   "metadata": {},
   "outputs": [
    {
     "name": "stdout",
     "output_type": "stream",
     "text": [
      "Epoch 1/20\n"
     ]
    },
    {
     "name": "stderr",
     "output_type": "stream",
     "text": [
      "/opt/homebrew/lib/python3.11/site-packages/keras/src/layers/rnn/rnn.py:204: UserWarning: Do not pass an `input_shape`/`input_dim` argument to a layer. When using Sequential models, prefer using an `Input(shape)` object as the first layer in the model instead.\n",
      "  super().__init__(**kwargs)\n"
     ]
    },
    {
     "name": "stdout",
     "output_type": "stream",
     "text": [
      "\u001b[1m28498/28498\u001b[0m \u001b[32m━━━━━━━━━━━━━━━━━━━━\u001b[0m\u001b[37m\u001b[0m \u001b[1m17s\u001b[0m 577us/step - accuracy: 0.9348 - loss: 0.2241\n",
      "Epoch 2/20\n",
      "\u001b[1m28498/28498\u001b[0m \u001b[32m━━━━━━━━━━━━━━━━━━━━\u001b[0m\u001b[37m\u001b[0m \u001b[1m17s\u001b[0m 585us/step - accuracy: 0.9892 - loss: 0.0402\n",
      "Epoch 3/20\n",
      "\u001b[1m28498/28498\u001b[0m \u001b[32m━━━━━━━━━━━━━━━━━━━━\u001b[0m\u001b[37m\u001b[0m \u001b[1m16s\u001b[0m 575us/step - accuracy: 0.9919 - loss: 0.0283\n",
      "Epoch 4/20\n",
      "\u001b[1m28498/28498\u001b[0m \u001b[32m━━━━━━━━━━━━━━━━━━━━\u001b[0m\u001b[37m\u001b[0m \u001b[1m16s\u001b[0m 561us/step - accuracy: 0.9937 - loss: 0.0224\n",
      "Epoch 5/20\n",
      "\u001b[1m28498/28498\u001b[0m \u001b[32m━━━━━━━━━━━━━━━━━━━━\u001b[0m\u001b[37m\u001b[0m \u001b[1m16s\u001b[0m 560us/step - accuracy: 0.9948 - loss: 0.0187\n",
      "Epoch 6/20\n",
      "\u001b[1m28498/28498\u001b[0m \u001b[32m━━━━━━━━━━━━━━━━━━━━\u001b[0m\u001b[37m\u001b[0m \u001b[1m16s\u001b[0m 571us/step - accuracy: 0.9953 - loss: 0.0166\n",
      "Epoch 7/20\n",
      "\u001b[1m28498/28498\u001b[0m \u001b[32m━━━━━━━━━━━━━━━━━━━━\u001b[0m\u001b[37m\u001b[0m \u001b[1m16s\u001b[0m 562us/step - accuracy: 0.9957 - loss: 0.0155\n",
      "Epoch 8/20\n",
      "\u001b[1m28498/28498\u001b[0m \u001b[32m━━━━━━━━━━━━━━━━━━━━\u001b[0m\u001b[37m\u001b[0m \u001b[1m16s\u001b[0m 552us/step - accuracy: 0.9960 - loss: 0.0139\n",
      "Epoch 9/20\n",
      "\u001b[1m28498/28498\u001b[0m \u001b[32m━━━━━━━━━━━━━━━━━━━━\u001b[0m\u001b[37m\u001b[0m \u001b[1m16s\u001b[0m 567us/step - accuracy: 0.9961 - loss: 0.0129\n",
      "Epoch 10/20\n",
      "\u001b[1m28498/28498\u001b[0m \u001b[32m━━━━━━━━━━━━━━━━━━━━\u001b[0m\u001b[37m\u001b[0m \u001b[1m16s\u001b[0m 561us/step - accuracy: 0.9963 - loss: 0.0127\n",
      "Epoch 11/20\n",
      "\u001b[1m28498/28498\u001b[0m \u001b[32m━━━━━━━━━━━━━━━━━━━━\u001b[0m\u001b[37m\u001b[0m \u001b[1m16s\u001b[0m 550us/step - accuracy: 0.9966 - loss: 0.0119\n",
      "Epoch 12/20\n",
      "\u001b[1m28498/28498\u001b[0m \u001b[32m━━━━━━━━━━━━━━━━━━━━\u001b[0m\u001b[37m\u001b[0m \u001b[1m17s\u001b[0m 595us/step - accuracy: 0.9967 - loss: 0.0111\n",
      "Epoch 13/20\n",
      "\u001b[1m28498/28498\u001b[0m \u001b[32m━━━━━━━━━━━━━━━━━━━━\u001b[0m\u001b[37m\u001b[0m \u001b[1m18s\u001b[0m 615us/step - accuracy: 0.9967 - loss: 0.0107\n",
      "Epoch 14/20\n",
      "\u001b[1m28498/28498\u001b[0m \u001b[32m━━━━━━━━━━━━━━━━━━━━\u001b[0m\u001b[37m\u001b[0m \u001b[1m18s\u001b[0m 623us/step - accuracy: 0.9969 - loss: 0.0100\n",
      "Epoch 15/20\n",
      "\u001b[1m28498/28498\u001b[0m \u001b[32m━━━━━━━━━━━━━━━━━━━━\u001b[0m\u001b[37m\u001b[0m \u001b[1m18s\u001b[0m 623us/step - accuracy: 0.9969 - loss: 0.0101\n",
      "Epoch 16/20\n",
      "\u001b[1m28498/28498\u001b[0m \u001b[32m━━━━━━━━━━━━━━━━━━━━\u001b[0m\u001b[37m\u001b[0m \u001b[1m17s\u001b[0m 612us/step - accuracy: 0.9971 - loss: 0.0095\n",
      "Epoch 17/20\n",
      "\u001b[1m28498/28498\u001b[0m \u001b[32m━━━━━━━━━━━━━━━━━━━━\u001b[0m\u001b[37m\u001b[0m \u001b[1m18s\u001b[0m 633us/step - accuracy: 0.9972 - loss: 0.0095\n",
      "Epoch 18/20\n",
      "\u001b[1m28498/28498\u001b[0m \u001b[32m━━━━━━━━━━━━━━━━━━━━\u001b[0m\u001b[37m\u001b[0m \u001b[1m16s\u001b[0m 558us/step - accuracy: 0.9973 - loss: 0.0091\n",
      "Epoch 19/20\n",
      "\u001b[1m28498/28498\u001b[0m \u001b[32m━━━━━━━━━━━━━━━━━━━━\u001b[0m\u001b[37m\u001b[0m \u001b[1m15s\u001b[0m 540us/step - accuracy: 0.9973 - loss: 0.0091\n",
      "Epoch 20/20\n",
      "\u001b[1m28498/28498\u001b[0m \u001b[32m━━━━━━━━━━━━━━━━━━━━\u001b[0m\u001b[37m\u001b[0m \u001b[1m16s\u001b[0m 548us/step - accuracy: 0.9972 - loss: 0.0091\n"
     ]
    },
    {
     "data": {
      "text/plain": [
       "<keras.src.callbacks.history.History at 0x315c32c10>"
      ]
     },
     "execution_count": 8,
     "metadata": {},
     "output_type": "execute_result"
    }
   ],
   "source": [
    "model = Sequential([\n",
    "    LSTM(50, input_shape=(1, X_train.shape[1])),\n",
    "    Dense(num_classes, activation='softmax')\n",
    "])\n",
    "\n",
    "model.compile(optimizer='adam', loss='categorical_crossentropy', metrics=['accuracy'])\n",
    "\n",
    "# Attempt to train again\n",
    "model.fit(X_train_reshaped, y_attack_type_train_encoded, epochs=20, batch_size=32)"
   ]
  }
 ],
 "metadata": {
  "kernelspec": {
   "display_name": "Python 3",
   "language": "python",
   "name": "python3"
  },
  "language_info": {
   "codemirror_mode": {
    "name": "ipython",
    "version": 3
   },
   "file_extension": ".py",
   "mimetype": "text/x-python",
   "name": "python",
   "nbconvert_exporter": "python",
   "pygments_lexer": "ipython3",
   "version": "3.11.5"
  }
 },
 "nbformat": 4,
 "nbformat_minor": 2
}
