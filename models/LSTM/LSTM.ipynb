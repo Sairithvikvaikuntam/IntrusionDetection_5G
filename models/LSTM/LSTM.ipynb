{
 "cells": [
  {
   "cell_type": "code",
   "execution_count": 4,
   "metadata": {},
   "outputs": [
    {
     "name": "stdout",
     "output_type": "stream",
     "text": [
      "['Seq', 'sTos', 'sTtl', 'Offset', 'sMeanPktSz', 'dMeanPktSz', 'AckDat', 'icmp', 'tcp', 'udp', 'ECO', 'FIN', 'INT', 'RST', 'Start']\n",
      "(911917, 15)\n"
     ]
    }
   ],
   "source": [
    "%run ../../src/feature_selection_scripts/Feature_Selection_Bin_Cla_SRV.ipynb"
   ]
  },
  {
   "cell_type": "code",
   "execution_count": 5,
   "metadata": {},
   "outputs": [],
   "source": [
    "from sklearn.ensemble import VotingClassifier\n",
    "from sklearn.base import BaseEstimator, ClassifierMixin\n",
    "from sklearn.metrics import accuracy_score, precision_score, recall_score, f1_score, classification_report\n"
   ]
  },
  {
   "cell_type": "code",
   "execution_count": 6,
   "metadata": {},
   "outputs": [],
   "source": [
    "from tensorflow.keras.utils import to_categorical\n",
    "from sklearn.preprocessing import LabelEncoder\n",
    "\n",
    "encoder = LabelEncoder()\n",
    "\n",
    "y_attack_type_train_encoded = encoder.fit_transform(y_attack_type_train)\n",
    "y_attack_type_train_encoded = to_categorical(y_attack_type_train_encoded)"
   ]
  },
  {
   "cell_type": "code",
   "execution_count": 7,
   "metadata": {},
   "outputs": [],
   "source": [
    "from tensorflow.keras.models import Sequential\n",
    "from tensorflow.keras.layers import LSTM, Dense, Input\n",
    "\n",
    "num_classes = y_attack_type_train_encoded.shape[1]\n",
    "num_features = X_train.shape[1]\n",
    "sequence_length = 1\n",
    "\n"
   ]
  },
  {
   "cell_type": "code",
   "execution_count": 8,
   "metadata": {},
   "outputs": [],
   "source": [
    "X_train_reshaped = X_train.reshape((X_train.shape[0], 1, X_train.shape[1]))\n",
    "X_test_reshaped = X_test.reshape((X_test.shape[0], 1, X_test.shape[1]))"
   ]
  },
  {
   "cell_type": "code",
   "execution_count": 9,
   "metadata": {},
   "outputs": [
    {
     "name": "stdout",
     "output_type": "stream",
     "text": [
      "Epoch 1/20\n"
     ]
    },
    {
     "name": "stderr",
     "output_type": "stream",
     "text": [
      "/opt/homebrew/lib/python3.11/site-packages/keras/src/layers/rnn/rnn.py:204: UserWarning: Do not pass an `input_shape`/`input_dim` argument to a layer. When using Sequential models, prefer using an `Input(shape)` object as the first layer in the model instead.\n",
      "  super().__init__(**kwargs)\n"
     ]
    },
    {
     "name": "stdout",
     "output_type": "stream",
     "text": [
      "\u001b[1m28498/28498\u001b[0m \u001b[32m━━━━━━━━━━━━━━━━━━━━\u001b[0m\u001b[37m\u001b[0m \u001b[1m18s\u001b[0m 603us/step - accuracy: 0.9368 - loss: 0.2202\n",
      "Epoch 2/20\n",
      "\u001b[1m28498/28498\u001b[0m \u001b[32m━━━━━━━━━━━━━━━━━━━━\u001b[0m\u001b[37m\u001b[0m \u001b[1m17s\u001b[0m 603us/step - accuracy: 0.9896 - loss: 0.0403\n",
      "Epoch 3/20\n",
      "\u001b[1m28498/28498\u001b[0m \u001b[32m━━━━━━━━━━━━━━━━━━━━\u001b[0m\u001b[37m\u001b[0m \u001b[1m18s\u001b[0m 627us/step - accuracy: 0.9925 - loss: 0.0273\n",
      "Epoch 4/20\n",
      "\u001b[1m28498/28498\u001b[0m \u001b[32m━━━━━━━━━━━━━━━━━━━━\u001b[0m\u001b[37m\u001b[0m \u001b[1m20s\u001b[0m 708us/step - accuracy: 0.9937 - loss: 0.0219\n",
      "Epoch 5/20\n",
      "\u001b[1m28498/28498\u001b[0m \u001b[32m━━━━━━━━━━━━━━━━━━━━\u001b[0m\u001b[37m\u001b[0m \u001b[1m17s\u001b[0m 611us/step - accuracy: 0.9944 - loss: 0.0188\n",
      "Epoch 6/20\n",
      "\u001b[1m28498/28498\u001b[0m \u001b[32m━━━━━━━━━━━━━━━━━━━━\u001b[0m\u001b[37m\u001b[0m \u001b[1m17s\u001b[0m 583us/step - accuracy: 0.9949 - loss: 0.0172\n",
      "Epoch 7/20\n",
      "\u001b[1m28498/28498\u001b[0m \u001b[32m━━━━━━━━━━━━━━━━━━━━\u001b[0m\u001b[37m\u001b[0m \u001b[1m18s\u001b[0m 628us/step - accuracy: 0.9955 - loss: 0.0152\n",
      "Epoch 8/20\n",
      "\u001b[1m28498/28498\u001b[0m \u001b[32m━━━━━━━━━━━━━━━━━━━━\u001b[0m\u001b[37m\u001b[0m \u001b[1m18s\u001b[0m 621us/step - accuracy: 0.9959 - loss: 0.0142\n",
      "Epoch 9/20\n",
      "\u001b[1m28498/28498\u001b[0m \u001b[32m━━━━━━━━━━━━━━━━━━━━\u001b[0m\u001b[37m\u001b[0m \u001b[1m17s\u001b[0m 600us/step - accuracy: 0.9960 - loss: 0.0132\n",
      "Epoch 10/20\n",
      "\u001b[1m28498/28498\u001b[0m \u001b[32m━━━━━━━━━━━━━━━━━━━━\u001b[0m\u001b[37m\u001b[0m \u001b[1m17s\u001b[0m 608us/step - accuracy: 0.9963 - loss: 0.0121\n",
      "Epoch 11/20\n",
      "\u001b[1m28498/28498\u001b[0m \u001b[32m━━━━━━━━━━━━━━━━━━━━\u001b[0m\u001b[37m\u001b[0m \u001b[1m18s\u001b[0m 633us/step - accuracy: 0.9964 - loss: 0.0120\n",
      "Epoch 12/20\n",
      "\u001b[1m28498/28498\u001b[0m \u001b[32m━━━━━━━━━━━━━━━━━━━━\u001b[0m\u001b[37m\u001b[0m \u001b[1m19s\u001b[0m 654us/step - accuracy: 0.9965 - loss: 0.0116\n",
      "Epoch 13/20\n",
      "\u001b[1m28498/28498\u001b[0m \u001b[32m━━━━━━━━━━━━━━━━━━━━\u001b[0m\u001b[37m\u001b[0m \u001b[1m20s\u001b[0m 713us/step - accuracy: 0.9965 - loss: 0.0113\n",
      "Epoch 14/20\n",
      "\u001b[1m28498/28498\u001b[0m \u001b[32m━━━━━━━━━━━━━━━━━━━━\u001b[0m\u001b[37m\u001b[0m \u001b[1m17s\u001b[0m 612us/step - accuracy: 0.9969 - loss: 0.0106\n",
      "Epoch 15/20\n",
      "\u001b[1m28498/28498\u001b[0m \u001b[32m━━━━━━━━━━━━━━━━━━━━\u001b[0m\u001b[37m\u001b[0m \u001b[1m21s\u001b[0m 723us/step - accuracy: 0.9969 - loss: 0.0100\n",
      "Epoch 16/20\n",
      "\u001b[1m28498/28498\u001b[0m \u001b[32m━━━━━━━━━━━━━━━━━━━━\u001b[0m\u001b[37m\u001b[0m \u001b[1m20s\u001b[0m 698us/step - accuracy: 0.9971 - loss: 0.0096\n",
      "Epoch 17/20\n",
      "\u001b[1m28498/28498\u001b[0m \u001b[32m━━━━━━━━━━━━━━━━━━━━\u001b[0m\u001b[37m\u001b[0m \u001b[1m20s\u001b[0m 693us/step - accuracy: 0.9971 - loss: 0.0098\n",
      "Epoch 18/20\n",
      "\u001b[1m28498/28498\u001b[0m \u001b[32m━━━━━━━━━━━━━━━━━━━━\u001b[0m\u001b[37m\u001b[0m \u001b[1m18s\u001b[0m 645us/step - accuracy: 0.9970 - loss: 0.0097\n",
      "Epoch 19/20\n",
      "\u001b[1m28498/28498\u001b[0m \u001b[32m━━━━━━━━━━━━━━━━━━━━\u001b[0m\u001b[37m\u001b[0m \u001b[1m18s\u001b[0m 634us/step - accuracy: 0.9972 - loss: 0.0094\n",
      "Epoch 20/20\n",
      "\u001b[1m28498/28498\u001b[0m \u001b[32m━━━━━━━━━━━━━━━━━━━━\u001b[0m\u001b[37m\u001b[0m \u001b[1m17s\u001b[0m 598us/step - accuracy: 0.9973 - loss: 0.0090\n"
     ]
    },
    {
     "data": {
      "text/plain": [
       "<keras.src.callbacks.history.History at 0x317adbe10>"
      ]
     },
     "execution_count": 9,
     "metadata": {},
     "output_type": "execute_result"
    }
   ],
   "source": [
    "model = Sequential([\n",
    "    LSTM(50, input_shape=(1, X_train.shape[1])),\n",
    "    Dense(num_classes, activation='softmax')\n",
    "])\n",
    "\n",
    "model.compile(optimizer='adam', loss='categorical_crossentropy', metrics=['accuracy'])\n",
    "\n",
    "# Attempt to train again\n",
    "model.fit(X_train_reshaped, y_attack_type_train_encoded, epochs=20, batch_size=32)"
   ]
  },
  {
   "cell_type": "code",
   "execution_count": 10,
   "metadata": {},
   "outputs": [],
   "source": [
    "import pickle\n",
    "with open('../VotingClassifier/voting_clf.pkl', 'rb') as f:\n",
    "    voting_clf = pickle.load(f)"
   ]
  },
  {
   "cell_type": "code",
   "execution_count": 11,
   "metadata": {},
   "outputs": [],
   "source": [
    "y_pred_binary = voting_clf.predict(X_test)"
   ]
  },
  {
   "cell_type": "code",
   "execution_count": 12,
   "metadata": {},
   "outputs": [],
   "source": [
    "X_malicious_test = X_test[y_pred_binary == 1]\n",
    "\n",
    "y_attack_type_test_malicious = y_attack_type_test[y_pred_binary == 1]\n",
    "y_attack_type_test_malicious_encoded = encoder.transform(y_attack_type_test_malicious)\n",
    "y_attack_type_test_malicious_encoded = to_categorical(y_attack_type_test_malicious_encoded, num_classes=num_classes)"
   ]
  },
  {
   "cell_type": "code",
   "execution_count": 13,
   "metadata": {},
   "outputs": [],
   "source": [
    "X_malicious_test_reshaped = X_malicious_test.reshape((X_malicious_test.shape[0], 1, X_malicious_test.shape[1]))"
   ]
  },
  {
   "cell_type": "code",
   "execution_count": 14,
   "metadata": {},
   "outputs": [
    {
     "name": "stdout",
     "output_type": "stream",
     "text": [
      "\u001b[1m5755/5755\u001b[0m \u001b[32m━━━━━━━━━━━━━━━━━━━━\u001b[0m\u001b[37m\u001b[0m \u001b[1m2s\u001b[0m 306us/step\n",
      "\u001b[1m5755/5755\u001b[0m \u001b[32m━━━━━━━━━━━━━━━━━━━━\u001b[0m\u001b[37m\u001b[0m \u001b[1m2s\u001b[0m 325us/step - accuracy: 0.9969 - loss: 0.0089\n",
      "Model accuracy on malicious test data: 99.69%\n"
     ]
    }
   ],
   "source": [
    "y_pred_attack_type = model.predict(X_malicious_test_reshaped)\n",
    "\n",
    "_, accuracy = model.evaluate(X_malicious_test_reshaped, y_attack_type_test_malicious_encoded)\n",
    "print(f'Model accuracy on malicious test data: {accuracy*100:.2f}%')"
   ]
  },
  {
   "cell_type": "code",
   "execution_count": 20,
   "metadata": {},
   "outputs": [],
   "source": [
    "import keras\n",
    "keras.saving.save_model(model, 'LSTM_model.keras')"
   ]
  }
 ],
 "metadata": {
  "kernelspec": {
   "display_name": "Python 3",
   "language": "python",
   "name": "python3"
  },
  "language_info": {
   "codemirror_mode": {
    "name": "ipython",
    "version": 3
   },
   "file_extension": ".py",
   "mimetype": "text/x-python",
   "name": "python",
   "nbconvert_exporter": "python",
   "pygments_lexer": "ipython3",
   "version": "3.11.5"
  }
 },
 "nbformat": 4,
 "nbformat_minor": 2
}
