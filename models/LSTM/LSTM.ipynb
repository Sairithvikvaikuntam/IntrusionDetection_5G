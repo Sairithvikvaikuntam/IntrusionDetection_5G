{
 "cells": [
  {
   "cell_type": "code",
   "execution_count": 19,
   "metadata": {},
   "outputs": [
    {
     "name": "stdout",
     "output_type": "stream",
     "text": [
      "['Seq', 'sTos', 'sTtl', 'Offset', 'sMeanPktSz', 'dMeanPktSz', 'AckDat', 'icmp', 'tcp', 'udp', 'ECO', 'FIN', 'INT', 'RST', 'Start']\n",
      "(911917, 15)\n"
     ]
    }
   ],
   "source": [
    "%run ../../src/feature_selection_scripts/Feature_Selection_Bin_Cla_SRV.ipynb"
   ]
  },
  {
   "cell_type": "code",
   "execution_count": 20,
   "metadata": {},
   "outputs": [],
   "source": [
    "from sklearn.ensemble import VotingClassifier\n",
    "from sklearn.base import BaseEstimator, ClassifierMixin\n",
    "from tensorflow.keras.metrics import Precision, Recall\n"
   ]
  },
  {
   "cell_type": "code",
   "execution_count": 21,
   "metadata": {},
   "outputs": [],
   "source": [
    "from tensorflow.keras.utils import to_categorical\n",
    "from sklearn.preprocessing import LabelEncoder\n",
    "\n",
    "encoder = LabelEncoder()\n",
    "\n",
    "y_attack_type_train_encoded = encoder.fit_transform(y_attack_type_train)\n",
    "y_attack_type_train_encoded = to_categorical(y_attack_type_train_encoded)"
   ]
  },
  {
   "cell_type": "code",
   "execution_count": 22,
   "metadata": {},
   "outputs": [],
   "source": [
    "from tensorflow.keras.models import Sequential\n",
    "from tensorflow.keras.layers import LSTM, Dense, Input\n",
    "\n",
    "num_classes = y_attack_type_train_encoded.shape[1]\n",
    "num_features = X_train.shape[1]\n",
    "sequence_length = 1\n",
    "\n"
   ]
  },
  {
   "cell_type": "code",
   "execution_count": 23,
   "metadata": {},
   "outputs": [],
   "source": [
    "X_train_reshaped = X_train.reshape((X_train.shape[0], 1, X_train.shape[1]))\n",
    "X_test_reshaped = X_test.reshape((X_test.shape[0], 1, X_test.shape[1]))"
   ]
  },
  {
   "cell_type": "code",
   "execution_count": 24,
   "metadata": {},
   "outputs": [
    {
     "name": "stdout",
     "output_type": "stream",
     "text": [
      "Epoch 1/20\n"
     ]
    },
    {
     "name": "stderr",
     "output_type": "stream",
     "text": [
      "/opt/homebrew/lib/python3.11/site-packages/keras/src/layers/rnn/rnn.py:204: UserWarning: Do not pass an `input_shape`/`input_dim` argument to a layer. When using Sequential models, prefer using an `Input(shape)` object as the first layer in the model instead.\n",
      "  super().__init__(**kwargs)\n"
     ]
    },
    {
     "name": "stdout",
     "output_type": "stream",
     "text": [
      "\u001b[1m28498/28498\u001b[0m \u001b[32m━━━━━━━━━━━━━━━━━━━━\u001b[0m\u001b[37m\u001b[0m \u001b[1m19s\u001b[0m 636us/step - accuracy: 0.9424 - loss: 0.2219 - precision: 0.9638 - recall: 0.9061\n",
      "Epoch 2/20\n",
      "\u001b[1m28498/28498\u001b[0m \u001b[32m━━━━━━━━━━━━━━━━━━━━\u001b[0m\u001b[37m\u001b[0m \u001b[1m17s\u001b[0m 611us/step - accuracy: 0.9895 - loss: 0.0393 - precision: 0.9901 - recall: 0.9892\n",
      "Epoch 3/20\n",
      "\u001b[1m28498/28498\u001b[0m \u001b[32m━━━━━━━━━━━━━━━━━━━━\u001b[0m\u001b[37m\u001b[0m \u001b[1m17s\u001b[0m 613us/step - accuracy: 0.9926 - loss: 0.0269 - precision: 0.9931 - recall: 0.9922\n",
      "Epoch 4/20\n",
      "\u001b[1m28498/28498\u001b[0m \u001b[32m━━━━━━━━━━━━━━━━━━━━\u001b[0m\u001b[37m\u001b[0m \u001b[1m17s\u001b[0m 610us/step - accuracy: 0.9937 - loss: 0.0223 - precision: 0.9941 - recall: 0.9934\n",
      "Epoch 5/20\n",
      "\u001b[1m28498/28498\u001b[0m \u001b[32m━━━━━━━━━━━━━━━━━━━━\u001b[0m\u001b[37m\u001b[0m \u001b[1m17s\u001b[0m 607us/step - accuracy: 0.9943 - loss: 0.0195 - precision: 0.9947 - recall: 0.9941\n",
      "Epoch 6/20\n",
      "\u001b[1m28498/28498\u001b[0m \u001b[32m━━━━━━━━━━━━━━━━━━━━\u001b[0m\u001b[37m\u001b[0m \u001b[1m17s\u001b[0m 612us/step - accuracy: 0.9947 - loss: 0.0177 - precision: 0.9950 - recall: 0.9944\n",
      "Epoch 7/20\n",
      "\u001b[1m28498/28498\u001b[0m \u001b[32m━━━━━━━━━━━━━━━━━━━━\u001b[0m\u001b[37m\u001b[0m \u001b[1m17s\u001b[0m 608us/step - accuracy: 0.9950 - loss: 0.0163 - precision: 0.9953 - recall: 0.9948\n",
      "Epoch 8/20\n",
      "\u001b[1m28498/28498\u001b[0m \u001b[32m━━━━━━━━━━━━━━━━━━━━\u001b[0m\u001b[37m\u001b[0m \u001b[1m18s\u001b[0m 615us/step - accuracy: 0.9954 - loss: 0.0154 - precision: 0.9957 - recall: 0.9952\n",
      "Epoch 9/20\n",
      "\u001b[1m28498/28498\u001b[0m \u001b[32m━━━━━━━━━━━━━━━━━━━━\u001b[0m\u001b[37m\u001b[0m \u001b[1m17s\u001b[0m 611us/step - accuracy: 0.9958 - loss: 0.0142 - precision: 0.9960 - recall: 0.9956\n",
      "Epoch 10/20\n",
      "\u001b[1m28498/28498\u001b[0m \u001b[32m━━━━━━━━━━━━━━━━━━━━\u001b[0m\u001b[37m\u001b[0m \u001b[1m17s\u001b[0m 611us/step - accuracy: 0.9961 - loss: 0.0130 - precision: 0.9963 - recall: 0.9960\n",
      "Epoch 11/20\n",
      "\u001b[1m28498/28498\u001b[0m \u001b[32m━━━━━━━━━━━━━━━━━━━━\u001b[0m\u001b[37m\u001b[0m \u001b[1m17s\u001b[0m 607us/step - accuracy: 0.9964 - loss: 0.0122 - precision: 0.9965 - recall: 0.9962\n",
      "Epoch 12/20\n",
      "\u001b[1m28498/28498\u001b[0m \u001b[32m━━━━━━━━━━━━━━━━━━━━\u001b[0m\u001b[37m\u001b[0m \u001b[1m17s\u001b[0m 607us/step - accuracy: 0.9964 - loss: 0.0118 - precision: 0.9965 - recall: 0.9963\n",
      "Epoch 13/20\n",
      "\u001b[1m28498/28498\u001b[0m \u001b[32m━━━━━━━━━━━━━━━━━━━━\u001b[0m\u001b[37m\u001b[0m \u001b[1m17s\u001b[0m 606us/step - accuracy: 0.9964 - loss: 0.0117 - precision: 0.9966 - recall: 0.9963\n",
      "Epoch 14/20\n",
      "\u001b[1m28498/28498\u001b[0m \u001b[32m━━━━━━━━━━━━━━━━━━━━\u001b[0m\u001b[37m\u001b[0m \u001b[1m18s\u001b[0m 615us/step - accuracy: 0.9967 - loss: 0.0110 - precision: 0.9968 - recall: 0.9966\n",
      "Epoch 15/20\n",
      "\u001b[1m28498/28498\u001b[0m \u001b[32m━━━━━━━━━━━━━━━━━━━━\u001b[0m\u001b[37m\u001b[0m \u001b[1m17s\u001b[0m 610us/step - accuracy: 0.9968 - loss: 0.0107 - precision: 0.9969 - recall: 0.9967\n",
      "Epoch 16/20\n",
      "\u001b[1m28498/28498\u001b[0m \u001b[32m━━━━━━━━━━━━━━━━━━━━\u001b[0m\u001b[37m\u001b[0m \u001b[1m17s\u001b[0m 608us/step - accuracy: 0.9970 - loss: 0.0102 - precision: 0.9971 - recall: 0.9969\n",
      "Epoch 17/20\n",
      "\u001b[1m28498/28498\u001b[0m \u001b[32m━━━━━━━━━━━━━━━━━━━━\u001b[0m\u001b[37m\u001b[0m \u001b[1m18s\u001b[0m 614us/step - accuracy: 0.9969 - loss: 0.0101 - precision: 0.9970 - recall: 0.9969\n",
      "Epoch 18/20\n",
      "\u001b[1m28498/28498\u001b[0m \u001b[32m━━━━━━━━━━━━━━━━━━━━\u001b[0m\u001b[37m\u001b[0m \u001b[1m18s\u001b[0m 616us/step - accuracy: 0.9971 - loss: 0.0097 - precision: 0.9972 - recall: 0.9970\n",
      "Epoch 19/20\n",
      "\u001b[1m28498/28498\u001b[0m \u001b[32m━━━━━━━━━━━━━━━━━━━━\u001b[0m\u001b[37m\u001b[0m \u001b[1m17s\u001b[0m 612us/step - accuracy: 0.9971 - loss: 0.0095 - precision: 0.9973 - recall: 0.9971\n",
      "Epoch 20/20\n",
      "\u001b[1m28498/28498\u001b[0m \u001b[32m━━━━━━━━━━━━━━━━━━━━\u001b[0m\u001b[37m\u001b[0m \u001b[1m18s\u001b[0m 617us/step - accuracy: 0.9973 - loss: 0.0089 - precision: 0.9974 - recall: 0.9973\n"
     ]
    },
    {
     "data": {
      "text/plain": [
       "<keras.src.callbacks.history.History at 0x3c2cdff50>"
      ]
     },
     "execution_count": 24,
     "metadata": {},
     "output_type": "execute_result"
    }
   ],
   "source": [
    "model = Sequential([\n",
    "    LSTM(50, input_shape=(1, X_train.shape[1])),\n",
    "    Dense(num_classes, activation='softmax')\n",
    "])\n",
    "\n",
    "model.compile(optimizer='adam', loss='categorical_crossentropy', metrics=['accuracy', Precision(), Recall()])\n",
    "\n",
    "# Attempt to train again\n",
    "model.fit(X_train_reshaped, y_attack_type_train_encoded, epochs=20, batch_size=32)"
   ]
  },
  {
   "cell_type": "code",
   "execution_count": 25,
   "metadata": {},
   "outputs": [],
   "source": [
    "import pickle\n",
    "with open('../GradientBoosting/gradient_boosting.pkl', 'rb') as f:\n",
    "    gb_clf = pickle.load(f)"
   ]
  },
  {
   "cell_type": "code",
   "execution_count": 26,
   "metadata": {},
   "outputs": [],
   "source": [
    "y_pred_binary = gb_clf.predict(X_test)"
   ]
  },
  {
   "cell_type": "code",
   "execution_count": 27,
   "metadata": {},
   "outputs": [],
   "source": [
    "X_malicious_test = X_test[y_pred_binary == 1]\n",
    "\n",
    "y_attack_type_test_malicious = y_attack_type_test[y_pred_binary == 1]\n",
    "y_attack_type_test_malicious_encoded = encoder.transform(y_attack_type_test_malicious)\n",
    "y_attack_type_test_malicious_encoded = to_categorical(y_attack_type_test_malicious_encoded, num_classes=num_classes)"
   ]
  },
  {
   "cell_type": "code",
   "execution_count": 28,
   "metadata": {},
   "outputs": [],
   "source": [
    "X_malicious_test_reshaped = X_malicious_test.reshape((X_malicious_test.shape[0], 1, X_malicious_test.shape[1]))"
   ]
  },
  {
   "cell_type": "code",
   "execution_count": 29,
   "metadata": {},
   "outputs": [
    {
     "name": "stdout",
     "output_type": "stream",
     "text": [
      "\u001b[1m5755/5755\u001b[0m \u001b[32m━━━━━━━━━━━━━━━━━━━━\u001b[0m\u001b[37m\u001b[0m \u001b[1m2s\u001b[0m 354us/step\n",
      "\u001b[1m5755/5755\u001b[0m \u001b[32m━━━━━━━━━━━━━━━━━━━━\u001b[0m\u001b[37m\u001b[0m \u001b[1m2s\u001b[0m 356us/step - accuracy: 0.9973 - loss: 0.0098 - precision: 0.9974 - recall: 0.9972\n",
      "Model accuracy on malicious test data: 99.73%\n",
      "Precision: 99.75%\n",
      "Recall: 99.72%\n",
      "F1 Score: 99.73%\n"
     ]
    }
   ],
   "source": [
    "y_pred_attack_type = model.predict(X_malicious_test_reshaped)\n",
    "\n",
    "loss, accuracy, precision, recall = model.evaluate(X_malicious_test_reshaped, y_attack_type_test_malicious_encoded)\n",
    "print(f'Model accuracy on malicious test data: {accuracy*100:.2f}%')\n",
    "print(f'Precision: {precision*100:.2f}%')\n",
    "print(f'Recall: {recall*100:.2f}%')\n",
    "\n",
    "# If you need the F1-score, you can calculate it from the precision and recall:\n",
    "f1_score = 2 * (precision * recall) / (precision + recall)\n",
    "print(f'F1 Score: {f1_score*100:.2f}%')"
   ]
  },
  {
   "cell_type": "code",
   "execution_count": 30,
   "metadata": {},
   "outputs": [],
   "source": [
    "import keras\n",
    "keras.saving.save_model(model, 'LSTM_model.keras')"
   ]
  }
 ],
 "metadata": {
  "kernelspec": {
   "display_name": "Python 3",
   "language": "python",
   "name": "python3"
  },
  "language_info": {
   "codemirror_mode": {
    "name": "ipython",
    "version": 3
   },
   "file_extension": ".py",
   "mimetype": "text/x-python",
   "name": "python",
   "nbconvert_exporter": "python",
   "pygments_lexer": "ipython3",
   "version": "3.11.5"
  }
 },
 "nbformat": 4,
 "nbformat_minor": 2
}
