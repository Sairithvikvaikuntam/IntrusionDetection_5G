{
 "cells": [
  {
   "cell_type": "code",
   "execution_count": 22,
   "metadata": {},
   "outputs": [
    {
     "name": "stdout",
     "output_type": "stream",
     "text": [
      "['Seq', 'sTos', 'sTtl', 'Offset', 'sMeanPktSz', 'dMeanPktSz', 'AckDat', 'icmp', 'tcp', 'udp', 'ECO', 'FIN', 'INT', 'RST', 'Start']\n"
     ]
    }
   ],
   "source": [
    "%run ../../src/feature_selection_scripts/Feature_Selection_Bin_Cla_SRV.ipynb"
   ]
  },
  {
   "cell_type": "code",
   "execution_count": 23,
   "metadata": {},
   "outputs": [],
   "source": [
    "import pickle\n",
    "from sklearn.ensemble import VotingClassifier\n",
    "from sklearn.base import BaseEstimator, ClassifierMixin\n",
    "from sklearn.metrics import accuracy_score, precision_score, recall_score, f1_score, classification_report\n"
   ]
  },
  {
   "cell_type": "code",
   "execution_count": 24,
   "metadata": {},
   "outputs": [],
   "source": [
    "with open('../AdaBoost/adaboost_clf.pkl', 'rb') as f:\n",
    "    adaboost_clf = pickle.load(f)\n",
    "\n",
    "with open('../Light_GBM/lgb_clf.pkl', 'rb') as f:\n",
    "    lgb_clf = pickle.load(f)\n",
    "\n",
    "with open('../XGBoost/xgb_clf.pkl', 'rb') as f:\n",
    "    xgb_clf = pickle.load(f)"
   ]
  },
  {
   "cell_type": "code",
   "execution_count": 25,
   "metadata": {},
   "outputs": [],
   "source": [
    "X = df[selected_feature_labels].values\n",
    "X_train, X_test, y_train, y_test = train_test_split(X, y, random_state=0)"
   ]
  },
  {
   "cell_type": "code",
   "execution_count": 26,
   "metadata": {},
   "outputs": [
    {
     "name": "stderr",
     "output_type": "stream",
     "text": [
      "/opt/homebrew/lib/python3.11/site-packages/sklearn/ensemble/_weight_boosting.py:519: FutureWarning: The SAMME.R algorithm (the default) is deprecated and will be removed in 1.6. Use the SAMME algorithm to circumvent this warning.\n",
      "  warnings.warn(\n"
     ]
    },
    {
     "name": "stdout",
     "output_type": "stream",
     "text": [
      "[LightGBM] [Info] Number of positive: 553765, number of negative: 358152\n",
      "[LightGBM] [Info] Auto-choosing row-wise multi-threading, the overhead of testing was 0.023596 seconds.\n",
      "You can set `force_row_wise=true` to remove the overhead.\n",
      "And if memory is not enough, you can set `force_col_wise=true`.\n",
      "[LightGBM] [Info] Total Bins 1338\n",
      "[LightGBM] [Info] Number of data points in the train set: 911917, number of used features: 15\n",
      "[LightGBM] [Info] [binary:BoostFromScore]: pavg=0.607254 -> initscore=0.435783\n",
      "[LightGBM] [Info] Start training from score 0.435783\n"
     ]
    }
   ],
   "source": [
    "classifiers = [('AdaBoost', adaboost_clf), \n",
    "               ('XGBoost', xgb_clf), \n",
    "               ('LightGBM', lgb_clf)]\n",
    "\n",
    "voting_clf = VotingClassifier(estimators=classifiers, voting='hard')\n",
    "\n",
    "voting_clf.fit(X_train, y_train)\n",
    "\n",
    "y_pred = voting_clf.predict(X_test)"
   ]
  },
  {
   "cell_type": "code",
   "execution_count": 27,
   "metadata": {},
   "outputs": [
    {
     "name": "stdout",
     "output_type": "stream",
     "text": [
      "Accuracy: 0.9996578643497942\n",
      "precision_benign: 0.9993062926776267\n",
      "recall_benign: 0.999824392691391\n",
      "f1_benign: 0.9995652755484216\n",
      "precision_malicious: 0.9993062926776267\n",
      "recall_malicious: 0.999824392691391\n",
      "f1_malicious: 0.9997179385648497\n"
     ]
    }
   ],
   "source": [
    "accuracy = accuracy_score(y_test, y_pred)\n",
    "precision_benign = precision_score(y_test, y_pred, pos_label=0)\n",
    "recall_benign = recall_score(y_test, y_pred, pos_label=0)\n",
    "f1_benign = f1_score(y_test, y_pred, pos_label=0)\n",
    "precision_malicious = precision_score(y_test, y_pred, pos_label=1)\n",
    "recall_malicious = recall_score(y_test, y_pred, pos_label=1)\n",
    "f1_malicious = f1_score(y_test, y_pred, pos_label=1)\n",
    "\n",
    "# Print evaluation metrics\n",
    "print(\"Accuracy:\", accuracy)\n",
    "print(\"precision_benign:\", precision_benign)\n",
    "print(\"recall_benign:\", recall_benign)\n",
    "print(\"f1_benign:\", f1_benign)\n",
    "print(\"precision_malicious:\", precision_benign)\n",
    "print(\"recall_malicious:\", recall_benign)\n",
    "print(\"f1_malicious:\", f1_malicious)"
   ]
  }
 ],
 "metadata": {
  "kernelspec": {
   "display_name": "Python 3",
   "language": "python",
   "name": "python3"
  },
  "language_info": {
   "codemirror_mode": {
    "name": "ipython",
    "version": 3
   },
   "file_extension": ".py",
   "mimetype": "text/x-python",
   "name": "python",
   "nbconvert_exporter": "python",
   "pygments_lexer": "ipython3",
   "version": "3.11.5"
  }
 },
 "nbformat": 4,
 "nbformat_minor": 2
}
