{
 "cells": [
  {
   "cell_type": "code",
   "execution_count": 23,
   "metadata": {},
   "outputs": [
    {
     "name": "stdout",
     "output_type": "stream",
     "text": [
      "['Seq', 'sTos', 'sTtl', 'Offset', 'sMeanPktSz', 'dMeanPktSz', 'AckDat', 'icmp', 'tcp', 'udp', 'ECO', 'FIN', 'INT', 'RST', 'Start']\n"
     ]
    }
   ],
   "source": [
    "%run ../../src/feature_selection_scripts/Feature_Selection_Bin_Cla_SRV.ipynb"
   ]
  },
  {
   "cell_type": "code",
   "execution_count": 24,
   "metadata": {},
   "outputs": [],
   "source": [
    "from sklearn.ensemble import AdaBoostClassifier\n",
    "from sklearn.metrics import accuracy_score, precision_score, recall_score, f1_score, classification_report\n",
    "\n",
    "import pickle"
   ]
  },
  {
   "cell_type": "code",
   "execution_count": 25,
   "metadata": {},
   "outputs": [],
   "source": [
    "X = df[selected_feature_labels].values\n",
    "X_train, X_test, y_train, y_test = train_test_split(X, y, random_state=10)"
   ]
  },
  {
   "cell_type": "code",
   "execution_count": 26,
   "metadata": {},
   "outputs": [],
   "source": [
    "batch_size = 100000\n",
    "num_batches = len(X_train) // batch_size"
   ]
  },
  {
   "cell_type": "code",
   "execution_count": 27,
   "metadata": {},
   "outputs": [],
   "source": [
    "\n",
    "adaboost_clf = AdaBoostClassifier(random_state=0)"
   ]
  },
  {
   "cell_type": "code",
   "execution_count": 28,
   "metadata": {},
   "outputs": [],
   "source": [
    "for i in range(num_batches):\n",
    "    start_idx = i * batch_size\n",
    "    end_idx = (i + 1) * batch_size\n",
    "    X_batch = X_train[start_idx:end_idx]\n",
    "    y_batch = y_train[start_idx:end_idx]\n",
    "    adaboost_clf.fit(X_batch, y_batch)\n",
    "\n",
    "if len(X_train) % batch_size != 0:\n",
    "    start_idx = num_batches * batch_size\n",
    "    X_batch = X_train[start_idx:]\n",
    "    y_batch = y_train[start_idx:]\n",
    "    adaboost_clf.fit(X_batch, y_batch)"
   ]
  },
  {
   "cell_type": "code",
   "execution_count": 29,
   "metadata": {},
   "outputs": [],
   "source": [
    "y_pred = adaboost_clf.predict(X_test)"
   ]
  },
  {
   "cell_type": "code",
   "execution_count": 30,
   "metadata": {},
   "outputs": [
    {
     "name": "stdout",
     "output_type": "stream",
     "text": [
      "Accuracy: 0.9990262293032605\n",
      "precision_benign: 0.9986070085929108\n",
      "recall_benign: 0.9989087734613706\n",
      "f1_benign: 0.9987578682333194\n",
      "precision_malicious: 0.9986070085929108\n",
      "recall_malicious: 0.9989087734613706\n",
      "f1_malicious: 0.9991992338615864\n"
     ]
    }
   ],
   "source": [
    "accuracy = accuracy_score(y_test, y_pred)\n",
    "precision_benign = precision_score(y_test, y_pred, pos_label=0)\n",
    "recall_benign = recall_score(y_test, y_pred, pos_label=0)\n",
    "f1_benign = f1_score(y_test, y_pred, pos_label=0)\n",
    "precision_malicious = precision_score(y_test, y_pred, pos_label=1)\n",
    "recall_malicious = recall_score(y_test, y_pred, pos_label=1)\n",
    "f1_malicious = f1_score(y_test, y_pred, pos_label=1)\n",
    "\n",
    "# Print evaluation metrics\n",
    "print(\"Accuracy:\", accuracy)\n",
    "print(\"precision_benign:\", precision_benign)\n",
    "print(\"recall_benign:\", recall_benign)\n",
    "print(\"f1_benign:\", f1_benign)\n",
    "print(\"precision_malicious:\", precision_benign)\n",
    "print(\"recall_malicious:\", recall_benign)\n",
    "print(\"f1_malicious:\", f1_malicious)"
   ]
  },
  {
   "cell_type": "code",
   "execution_count": 31,
   "metadata": {},
   "outputs": [
    {
     "name": "stdout",
     "output_type": "stream",
     "text": [
      "\n",
      "Classification Report:\n",
      "              precision    recall  f1-score   support\n",
      "\n",
      "           0       1.00      1.00      1.00    119132\n",
      "           1       1.00      1.00      1.00    184841\n",
      "\n",
      "    accuracy                           1.00    303973\n",
      "   macro avg       1.00      1.00      1.00    303973\n",
      "weighted avg       1.00      1.00      1.00    303973\n",
      "\n"
     ]
    }
   ],
   "source": [
    "print(\"\\nClassification Report:\")\n",
    "print(classification_report(y_test, y_pred))"
   ]
  }
 ],
 "metadata": {
  "kernelspec": {
   "display_name": "base",
   "language": "python",
   "name": "python3"
  },
  "language_info": {
   "codemirror_mode": {
    "name": "ipython",
    "version": 3
   },
   "file_extension": ".py",
   "mimetype": "text/x-python",
   "name": "python",
   "nbconvert_exporter": "python",
   "pygments_lexer": "ipython3",
   "version": "3.11.4"
  }
 },
 "nbformat": 4,
 "nbformat_minor": 2
}
