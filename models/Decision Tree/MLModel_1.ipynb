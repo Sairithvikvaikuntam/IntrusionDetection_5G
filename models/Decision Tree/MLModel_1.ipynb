{
  "nbformat": 4,
  "nbformat_minor": 0,
  "metadata": {
    "colab": {
      "provenance": []
    },
    "kernelspec": {
      "name": "python3",
      "display_name": "Python 3"
    },
    "language_info": {
      "name": "python"
    }
  },
  "cells": [
    {
      "cell_type": "code",
      "execution_count": 1,
      "metadata": {
        "id": "VLo0W8NAPfTy"
      },
      "outputs": [],
      "source": [
        "import pandas as pd\n",
        "from sklearn.tree import DecisionTreeClassifier\n",
        "from sklearn.model_selection import train_test_split\n",
        "from sklearn.metrics import accuracy_score, precision_score, recall_score, f1_score, classification_report"
      ]
    },
    {
      "cell_type": "code",
      "source": [
        "#mount google drive\n",
        "\n",
        "from google.colab import drive\n",
        "\n",
        "drive.mount('/content/drive')\n",
        "\n",
        "path = \"/content/drive/MyDrive/\""
      ],
      "metadata": {
        "colab": {
          "base_uri": "https://localhost:8080/"
        },
        "id": "l7yqGyPNPhoo",
        "outputId": "9d036ddc-7ee1-4d58-ce94-f447ef768fa0"
      },
      "execution_count": 2,
      "outputs": [
        {
          "output_type": "stream",
          "name": "stdout",
          "text": [
            "Mounted at /content/drive\n"
          ]
        }
      ]
    },
    {
      "cell_type": "code",
      "source": [
        "df = pd.read_csv(path + 'updated_Combined.csv')\n",
        "\n",
        "df.info()"
      ],
      "metadata": {
        "colab": {
          "base_uri": "https://localhost:8080/"
        },
        "id": "3W5-UOn3PkjR",
        "outputId": "5e0602bc-a233-4d9a-8f7b-af6d55f8694e"
      },
      "execution_count": 3,
      "outputs": [
        {
          "output_type": "stream",
          "name": "stdout",
          "text": [
            "<class 'pandas.core.frame.DataFrame'>\n",
            "RangeIndex: 1215890 entries, 0 to 1215889\n",
            "Data columns (total 24 columns):\n",
            " #   Column       Non-Null Count    Dtype  \n",
            "---  ------       --------------    -----  \n",
            " 0   Unnamed: 0   1215890 non-null  float64\n",
            " 1   Seq          1215890 non-null  float64\n",
            " 2   Dur          1215890 non-null  float64\n",
            " 3   RunTime      1215890 non-null  float64\n",
            " 4   Mean         1215890 non-null  float64\n",
            " 5   Sum          1215890 non-null  float64\n",
            " 6   Min          1215890 non-null  float64\n",
            " 7   Max          1215890 non-null  float64\n",
            " 8   TotPkts      1215890 non-null  float64\n",
            " 9   SrcPkts      1215890 non-null  float64\n",
            " 10  DstPkts      1215890 non-null  float64\n",
            " 11  TotBytes     1215890 non-null  float64\n",
            " 12  SrcBytes     1215890 non-null  float64\n",
            " 13  DstBytes     1215890 non-null  float64\n",
            " 14  Offset       1215890 non-null  float64\n",
            " 15  sMeanPktSz   1215890 non-null  float64\n",
            " 16  dMeanPktSz   1215890 non-null  float64\n",
            " 17  Load         1215890 non-null  float64\n",
            " 18  SrcLoad      1215890 non-null  float64\n",
            " 19  Rate         1215890 non-null  float64\n",
            " 20  SrcRate      1215890 non-null  float64\n",
            " 21  Label        1215890 non-null  object \n",
            " 22  Attack Type  1215890 non-null  object \n",
            " 23  Attack Tool  1215890 non-null  object \n",
            "dtypes: float64(21), object(3)\n",
            "memory usage: 222.6+ MB\n"
          ]
        }
      ]
    },
    {
      "cell_type": "code",
      "source": [
        "# Select features and target variable\n",
        "features = ['Seq', 'Dur', 'RunTime', 'Mean', 'Sum', 'Min', 'Max', 'TotPkts', 'SrcPkts', 'DstPkts', 'TotBytes', 'SrcBytes', 'DstBytes', 'Offset', 'sMeanPktSz', 'dMeanPktSz', 'Load', 'SrcLoad', 'Rate', 'SrcRate']\n",
        "target = 'Label'\n",
        "\n",
        "# Create feature matrix (X) and target vector (y)\n",
        "X = df[features]\n",
        "y = df[target]"
      ],
      "metadata": {
        "id": "lCQW69qJPpw5"
      },
      "execution_count": 4,
      "outputs": []
    },
    {
      "cell_type": "code",
      "source": [
        "# Split data into training and testing sets\n",
        "X_train, X_test, y_train, y_test = train_test_split(X, y, test_size=0.2, random_state=42)"
      ],
      "metadata": {
        "id": "5jyr_KCQPrsY"
      },
      "execution_count": 5,
      "outputs": []
    }
  ]
}