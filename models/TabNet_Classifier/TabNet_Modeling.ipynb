{
  "cells": [
    {
      "cell_type": "code",
      "execution_count": 5,
      "metadata": {},
      "outputs": [
        {
          "name": "stdout",
          "output_type": "stream",
          "text": [
            "['Seq', 'sTos', 'sTtl', 'Offset', 'sMeanPktSz', 'dMeanPktSz', 'AckDat', 'icmp', 'tcp', 'udp', 'ECO', 'FIN', 'INT', 'RST', 'Start']\n"
          ]
        }
      ],
      "source": [
        "%run ../../src/feature_selection_scripts/Feature_Selection_Bin_Cla_SRV.ipynb"
      ]
    },
    {
      "cell_type": "code",
      "execution_count": 6,
      "metadata": {
        "id": "ZZGp4_b8qz2M"
      },
      "outputs": [],
      "source": [
        "from pytorch_tabnet.tab_model import TabNetClassifier\n",
        "from sklearn.metrics import accuracy_score, precision_score, recall_score, f1_score, classification_report"
      ]
    },
    {
      "cell_type": "code",
      "execution_count": 7,
      "metadata": {},
      "outputs": [],
      "source": [
        "X = df[selected_feature_labels].values\n",
        "X_train, X_test, y_train, y_test = train_test_split(X, y, random_state=0)"
      ]
    },
    {
      "cell_type": "code",
      "execution_count": 8,
      "metadata": {
        "colab": {
          "base_uri": "https://localhost:8080/"
        },
        "id": "aPwxAKrFqoAl",
        "outputId": "7643bda6-39e6-4034-c578-b878d3469e90"
      },
      "outputs": [
        {
          "name": "stderr",
          "output_type": "stream",
          "text": [
            "/opt/homebrew/lib/python3.11/site-packages/pytorch_tabnet/abstract_model.py:82: UserWarning: Device used : cpu\n",
            "  warnings.warn(f\"Device used : {self.device}\")\n"
          ]
        },
        {
          "name": "stdout",
          "output_type": "stream",
          "text": [
            "epoch 0  | loss: 0.04357 | val_0_auc: 0.99919 |  0:00:32s\n",
            "epoch 1  | loss: 0.03095 | val_0_auc: 0.99955 |  0:01:02s\n",
            "epoch 2  | loss: 0.02681 | val_0_auc: 0.99835 |  0:01:31s\n",
            "epoch 3  | loss: 0.0229  | val_0_auc: 0.99932 |  0:02:01s\n",
            "epoch 4  | loss: 0.02071 | val_0_auc: 0.99956 |  0:02:31s\n",
            "epoch 5  | loss: 0.0241  | val_0_auc: 0.99961 |  0:03:00s\n",
            "epoch 6  | loss: 0.02252 | val_0_auc: 0.99923 |  0:03:32s\n",
            "epoch 7  | loss: 0.02024 | val_0_auc: 0.99939 |  0:04:03s\n",
            "epoch 8  | loss: 0.02214 | val_0_auc: 0.99937 |  0:04:34s\n",
            "epoch 9  | loss: 0.01965 | val_0_auc: 0.99975 |  0:05:05s\n",
            "Stop training because you reached max_epochs = 10 with best_epoch = 9 and best_val_0_auc = 0.99975\n"
          ]
        },
        {
          "name": "stderr",
          "output_type": "stream",
          "text": [
            "/opt/homebrew/lib/python3.11/site-packages/pytorch_tabnet/callbacks.py:172: UserWarning: Best weights from best epoch are automatically used!\n",
            "  warnings.warn(wrn_msg)\n"
          ]
        }
      ],
      "source": [
        "tabnet_clf = TabNetClassifier()\n",
        "\n",
        "tabnet_clf.fit(X_train, y_train, eval_set=[(X_test, y_test)], max_epochs=10)\n",
        "\n",
        "y_pred = tabnet_clf.predict(X_test)"
      ]
    },
    {
      "cell_type": "code",
      "execution_count": 9,
      "metadata": {
        "colab": {
          "base_uri": "https://localhost:8080/"
        },
        "id": "JqktkVwnraD3",
        "outputId": "481b6b1f-9b15-471b-a50c-6e1ffeb6513c"
      },
      "outputs": [
        {
          "name": "stdout",
          "output_type": "stream",
          "text": [
            "Accuracy: 0.996368098482431\n",
            "precision_benign: 0.9977816803771143\n",
            "recall_benign: 0.9929757076556425\n",
            "f1_benign: 0.9953728928640284\n",
            "precision_malicious: 0.9977816803771143\n",
            "recall_malicious: 0.9929757076556425\n",
            "f1_malicious: 0.9970109813944421\n"
          ]
        }
      ],
      "source": [
        "accuracy = accuracy_score(y_test, y_pred)\n",
        "precision_benign = precision_score(y_test, y_pred, pos_label=0)\n",
        "recall_benign = recall_score(y_test, y_pred, pos_label=0)\n",
        "f1_benign = f1_score(y_test, y_pred, pos_label=0)\n",
        "precision_malicious = precision_score(y_test, y_pred, pos_label=1)\n",
        "recall_malicious = recall_score(y_test, y_pred, pos_label=1)\n",
        "f1_malicious = f1_score(y_test, y_pred, pos_label=1)\n",
        "\n",
        "# Print evaluation metrics\n",
        "print(\"Accuracy:\", accuracy)\n",
        "print(\"precision_benign:\", precision_benign)\n",
        "print(\"recall_benign:\", recall_benign)\n",
        "print(\"f1_benign:\", f1_benign)\n",
        "print(\"precision_malicious:\", precision_benign)\n",
        "print(\"recall_malicious:\", recall_benign)\n",
        "print(\"f1_malicious:\", f1_malicious)"
      ]
    }
  ],
  "metadata": {
    "accelerator": "GPU",
    "colab": {
      "gpuType": "T4",
      "provenance": []
    },
    "kernelspec": {
      "display_name": "Python 3",
      "name": "python3"
    },
    "language_info": {
      "codemirror_mode": {
        "name": "ipython",
        "version": 3
      },
      "file_extension": ".py",
      "mimetype": "text/x-python",
      "name": "python",
      "nbconvert_exporter": "python",
      "pygments_lexer": "ipython3",
      "version": "3.11.5"
    }
  },
  "nbformat": 4,
  "nbformat_minor": 0
}
