{
  "nbformat": 4,
  "nbformat_minor": 0,
  "metadata": {
    "colab": {
      "provenance": [],
      "gpuType": "T4"
    },
    "kernelspec": {
      "name": "python3",
      "display_name": "Python 3"
    },
    "language_info": {
      "name": "python"
    },
    "accelerator": "GPU"
  },
  "cells": [
    {
      "cell_type": "code",
      "source": [
        "!pip install pytorch-tabnet"
      ],
      "metadata": {
        "colab": {
          "base_uri": "https://localhost:8080/"
        },
        "id": "GIv9ZaY3qfdF",
        "outputId": "6227038e-1b2c-412b-9b9b-ae27d345f24f"
      },
      "execution_count": 3,
      "outputs": [
        {
          "output_type": "stream",
          "name": "stdout",
          "text": [
            "Collecting pytorch-tabnet\n",
            "  Downloading pytorch_tabnet-4.1.0-py3-none-any.whl (44 kB)\n",
            "\u001b[2K     \u001b[90m━━━━━━━━━━━━━━━━━━━━━━━━━━━━━━━━━━━━━━━━\u001b[0m \u001b[32m44.5/44.5 kB\u001b[0m \u001b[31m534.9 kB/s\u001b[0m eta \u001b[36m0:00:00\u001b[0m\n",
            "\u001b[?25hRequirement already satisfied: numpy>=1.17 in /usr/local/lib/python3.10/dist-packages (from pytorch-tabnet) (1.25.2)\n",
            "Requirement already satisfied: scikit_learn>0.21 in /usr/local/lib/python3.10/dist-packages (from pytorch-tabnet) (1.2.2)\n",
            "Requirement already satisfied: scipy>1.4 in /usr/local/lib/python3.10/dist-packages (from pytorch-tabnet) (1.11.4)\n",
            "Requirement already satisfied: torch>=1.3 in /usr/local/lib/python3.10/dist-packages (from pytorch-tabnet) (2.1.0+cu121)\n",
            "Requirement already satisfied: tqdm>=4.36 in /usr/local/lib/python3.10/dist-packages (from pytorch-tabnet) (4.66.2)\n",
            "Requirement already satisfied: joblib>=1.1.1 in /usr/local/lib/python3.10/dist-packages (from scikit_learn>0.21->pytorch-tabnet) (1.3.2)\n",
            "Requirement already satisfied: threadpoolctl>=2.0.0 in /usr/local/lib/python3.10/dist-packages (from scikit_learn>0.21->pytorch-tabnet) (3.3.0)\n",
            "Requirement already satisfied: filelock in /usr/local/lib/python3.10/dist-packages (from torch>=1.3->pytorch-tabnet) (3.13.1)\n",
            "Requirement already satisfied: typing-extensions in /usr/local/lib/python3.10/dist-packages (from torch>=1.3->pytorch-tabnet) (4.9.0)\n",
            "Requirement already satisfied: sympy in /usr/local/lib/python3.10/dist-packages (from torch>=1.3->pytorch-tabnet) (1.12)\n",
            "Requirement already satisfied: networkx in /usr/local/lib/python3.10/dist-packages (from torch>=1.3->pytorch-tabnet) (3.2.1)\n",
            "Requirement already satisfied: jinja2 in /usr/local/lib/python3.10/dist-packages (from torch>=1.3->pytorch-tabnet) (3.1.3)\n",
            "Requirement already satisfied: fsspec in /usr/local/lib/python3.10/dist-packages (from torch>=1.3->pytorch-tabnet) (2023.6.0)\n",
            "Requirement already satisfied: triton==2.1.0 in /usr/local/lib/python3.10/dist-packages (from torch>=1.3->pytorch-tabnet) (2.1.0)\n",
            "Requirement already satisfied: MarkupSafe>=2.0 in /usr/local/lib/python3.10/dist-packages (from jinja2->torch>=1.3->pytorch-tabnet) (2.1.5)\n",
            "Requirement already satisfied: mpmath>=0.19 in /usr/local/lib/python3.10/dist-packages (from sympy->torch>=1.3->pytorch-tabnet) (1.3.0)\n",
            "Installing collected packages: pytorch-tabnet\n",
            "Successfully installed pytorch-tabnet-4.1.0\n"
          ]
        }
      ]
    },
    {
      "cell_type": "code",
      "source": [
        "import pandas as pd\n",
        "import numpy as np\n",
        "\n",
        "from sklearn.feature_selection import SelectKBest\n",
        "from sklearn.feature_selection import chi2\n",
        "\n",
        "from sklearn.preprocessing import LabelEncoder\n",
        "from pytorch_tabnet.tab_model import TabNetClassifier\n",
        "from sklearn.model_selection import train_test_split\n",
        "from sklearn.metrics import accuracy_score, precision_score, recall_score, f1_score, classification_report"
      ],
      "metadata": {
        "id": "ZZGp4_b8qz2M"
      },
      "execution_count": 4,
      "outputs": []
    },
    {
      "cell_type": "code",
      "source": [
        "df = pd.read_csv('/content/drive/MyDrive/Data_Processed_SRV.csv')"
      ],
      "metadata": {
        "id": "wuHlsWhjhevS"
      },
      "execution_count": 5,
      "outputs": []
    },
    {
      "cell_type": "code",
      "source": [
        "X = df.values[:, :-2]\n",
        "y = df.values[:, -2]\n",
        "y = y.astype(int)"
      ],
      "metadata": {
        "id": "CjbwjroorE6p"
      },
      "execution_count": 6,
      "outputs": []
    },
    {
      "cell_type": "code",
      "source": [
        "test = SelectKBest(score_func=chi2, k=15)\n",
        "fit = test.fit(X, y)\n",
        "np.set_printoptions(precision=3)\n",
        "features = fit.transform(X)"
      ],
      "metadata": {
        "id": "j6Hr8Uw5rJja"
      },
      "execution_count": 7,
      "outputs": []
    },
    {
      "cell_type": "code",
      "source": [
        "selected_features_mask = fit.get_support()\n",
        "your_feature_labels = df.columns.tolist()\n",
        "\n",
        "selected_feature_indices = np.where(selected_features_mask)[0]\n",
        "selected_feature_labels = [your_feature_labels[i] for i in selected_feature_indices]\n"
      ],
      "metadata": {
        "id": "c36ZupR4rJ_x"
      },
      "execution_count": 8,
      "outputs": []
    },
    {
      "cell_type": "code",
      "source": [
        "X_train, X_test, y_train, y_test = train_test_split(X, y, random_state=0)\n",
        "\n",
        "tabnet_clf = TabNetClassifier()\n",
        "\n",
        "tabnet_clf.fit(X_train, y_train, eval_set=[(X_test, y_test)], max_epochs=10)\n",
        "\n",
        "y_pred = tabnet_clf.predict(X_test)"
      ],
      "metadata": {
        "colab": {
          "base_uri": "https://localhost:8080/"
        },
        "id": "aPwxAKrFqoAl",
        "outputId": "7643bda6-39e6-4034-c578-b878d3469e90"
      },
      "execution_count": 11,
      "outputs": [
        {
          "output_type": "stream",
          "name": "stderr",
          "text": [
            "/usr/local/lib/python3.10/dist-packages/pytorch_tabnet/abstract_model.py:82: UserWarning: Device used : cuda\n",
            "  warnings.warn(f\"Device used : {self.device}\")\n"
          ]
        },
        {
          "output_type": "stream",
          "name": "stdout",
          "text": [
            "epoch 0  | loss: 0.03557 | val_0_auc: 0.99955 |  0:00:48s\n",
            "epoch 1  | loss: 0.00978 | val_0_auc: 0.99987 |  0:01:32s\n",
            "epoch 2  | loss: 0.00742 | val_0_auc: 0.9999  |  0:02:16s\n",
            "epoch 3  | loss: 0.00617 | val_0_auc: 0.99996 |  0:02:59s\n",
            "epoch 4  | loss: 0.00602 | val_0_auc: 0.99997 |  0:03:42s\n",
            "epoch 5  | loss: 0.00583 | val_0_auc: 0.99998 |  0:04:26s\n",
            "epoch 6  | loss: 0.00517 | val_0_auc: 0.99999 |  0:05:10s\n",
            "epoch 7  | loss: 0.00484 | val_0_auc: 0.99999 |  0:05:53s\n",
            "epoch 8  | loss: 0.00517 | val_0_auc: 0.99997 |  0:06:36s\n",
            "epoch 9  | loss: 0.00575 | val_0_auc: 0.99999 |  0:07:21s\n",
            "Stop training because you reached max_epochs = 10 with best_epoch = 6 and best_val_0_auc = 0.99999\n"
          ]
        },
        {
          "output_type": "stream",
          "name": "stderr",
          "text": [
            "/usr/local/lib/python3.10/dist-packages/pytorch_tabnet/callbacks.py:172: UserWarning: Best weights from best epoch are automatically used!\n",
            "  warnings.warn(wrn_msg)\n"
          ]
        }
      ]
    },
    {
      "cell_type": "code",
      "source": [
        "accuracy = accuracy_score(y_test, y_pred)\n",
        "precision_benign = precision_score(y_test, y_pred, pos_label=0)\n",
        "recall_benign = recall_score(y_test, y_pred, pos_label=0)\n",
        "f1_benign = f1_score(y_test, y_pred, pos_label=0)\n",
        "precision_malicious = precision_score(y_test, y_pred, pos_label=1)\n",
        "recall_malicious = recall_score(y_test, y_pred, pos_label=1)\n",
        "f1_malicious = f1_score(y_test, y_pred, pos_label=1)\n",
        "\n",
        "# Print evaluation metrics\n",
        "print(\"Accuracy:\", accuracy)\n",
        "print(\"precision_benign:\", precision_benign)\n",
        "print(\"recall_benign:\", recall_benign)\n",
        "print(\"f1_benign:\", f1_benign)\n",
        "print(\"precision_malicious:\", precision_benign)\n",
        "print(\"recall_malicious:\", recall_benign)\n",
        "print(\"f1_malicious:\", f1_malicious)"
      ],
      "metadata": {
        "colab": {
          "base_uri": "https://localhost:8080/"
        },
        "id": "JqktkVwnraD3",
        "outputId": "481b6b1f-9b15-471b-a50c-6e1ffeb6513c"
      },
      "execution_count": 12,
      "outputs": [
        {
          "output_type": "stream",
          "name": "stdout",
          "text": [
            "Accuracy: 0.9986643550578506\n",
            "precision_benign: 0.9992125126710062\n",
            "recall_benign: 0.9973909771292386\n",
            "f1_benign: 0.9983009139910944\n",
            "precision_malicious: 0.9992125126710062\n",
            "recall_malicious: 0.9973909771292386\n",
            "f1_malicious: 0.9988997111064136\n"
          ]
        }
      ]
    },
    {
      "cell_type": "code",
      "source": [],
      "metadata": {
        "id": "NLHkSHgUwEEB"
      },
      "execution_count": null,
      "outputs": []
    }
  ]
}