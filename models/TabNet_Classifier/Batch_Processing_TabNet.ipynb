{
 "cells": [
  {
   "cell_type": "code",
   "execution_count": 16,
   "metadata": {},
   "outputs": [
    {
     "name": "stdout",
     "output_type": "stream",
     "text": [
      "['Seq', 'sTos', 'sTtl', 'Offset', 'sMeanPktSz', 'dMeanPktSz', 'AckDat', 'icmp', 'tcp', 'udp', 'ECO', 'FIN', 'INT', 'RST', 'Start']\n"
     ]
    }
   ],
   "source": [
    "%run ../../src/feature_selection_scripts/Feature_Selection_Bin_Cla_SRV.ipynb"
   ]
  },
  {
   "cell_type": "code",
   "execution_count": 17,
   "metadata": {},
   "outputs": [],
   "source": [
    "import pickle\n",
    "\n",
    "from pytorch_tabnet.tab_model import TabNetClassifier\n",
    "from sklearn.metrics import accuracy_score, precision_score, recall_score, f1_score, classification_report"
   ]
  },
  {
   "cell_type": "code",
   "execution_count": 18,
   "metadata": {},
   "outputs": [],
   "source": [
    "X = df[selected_feature_labels].values\n",
    "X_train, X_test, y_train, y_test = train_test_split(X, y, random_state=0)"
   ]
  },
  {
   "cell_type": "code",
   "execution_count": 19,
   "metadata": {},
   "outputs": [],
   "source": [
    "batch_size = 200000\n",
    "num_batches = len(X_train) // batch_size"
   ]
  },
  {
   "cell_type": "code",
   "execution_count": 20,
   "metadata": {},
   "outputs": [
    {
     "name": "stderr",
     "output_type": "stream",
     "text": [
      "/opt/homebrew/lib/python3.11/site-packages/pytorch_tabnet/abstract_model.py:82: UserWarning: Device used : cpu\n",
      "  warnings.warn(f\"Device used : {self.device}\")\n"
     ]
    }
   ],
   "source": [
    "tabnet_clf = TabNetClassifier()"
   ]
  },
  {
   "cell_type": "code",
   "execution_count": 21,
   "metadata": {},
   "outputs": [
    {
     "name": "stdout",
     "output_type": "stream",
     "text": [
      "epoch 0  | loss: 0.08521 | val_0_auc: 0.9929  |  0:00:12s\n",
      "epoch 1  | loss: 0.04053 | val_0_auc: 0.99763 |  0:00:25s\n",
      "epoch 2  | loss: 0.03674 | val_0_auc: 0.99802 |  0:00:37s\n",
      "epoch 3  | loss: 0.03516 | val_0_auc: 0.99898 |  0:00:50s\n",
      "epoch 4  | loss: 0.03316 | val_0_auc: 0.99916 |  0:01:03s\n",
      "epoch 5  | loss: 0.03696 | val_0_auc: 0.99915 |  0:01:15s\n",
      "epoch 6  | loss: 0.03094 | val_0_auc: 0.99928 |  0:01:27s\n",
      "epoch 7  | loss: 0.03021 | val_0_auc: 0.99929 |  0:01:40s\n",
      "epoch 8  | loss: 0.02768 | val_0_auc: 0.99929 |  0:01:59s\n",
      "epoch 9  | loss: 0.03036 | val_0_auc: 0.99931 |  0:02:16s\n",
      "Stop training because you reached max_epochs = 10 with best_epoch = 9 and best_val_0_auc = 0.99931\n"
     ]
    },
    {
     "name": "stderr",
     "output_type": "stream",
     "text": [
      "/opt/homebrew/lib/python3.11/site-packages/pytorch_tabnet/callbacks.py:172: UserWarning: Best weights from best epoch are automatically used!\n",
      "  warnings.warn(wrn_msg)\n"
     ]
    },
    {
     "name": "stdout",
     "output_type": "stream",
     "text": [
      "epoch 0  | loss: 0.09349 | val_0_auc: 0.98277 |  0:00:18s\n",
      "epoch 1  | loss: 0.04344 | val_0_auc: 0.99756 |  0:00:36s\n",
      "epoch 2  | loss: 0.04407 | val_0_auc: 0.99814 |  0:00:54s\n",
      "epoch 3  | loss: 0.03599 | val_0_auc: 0.99866 |  0:01:13s\n",
      "epoch 4  | loss: 0.03204 | val_0_auc: 0.99873 |  0:01:30s\n",
      "epoch 5  | loss: 0.03033 | val_0_auc: 0.99898 |  0:01:48s\n",
      "epoch 6  | loss: 0.02799 | val_0_auc: 0.99944 |  0:02:05s\n",
      "epoch 7  | loss: 0.02998 | val_0_auc: 0.9993  |  0:02:22s\n",
      "epoch 8  | loss: 0.02727 | val_0_auc: 0.99972 |  0:02:39s\n",
      "epoch 9  | loss: 0.01469 | val_0_auc: 0.99909 |  0:02:57s\n",
      "Stop training because you reached max_epochs = 10 with best_epoch = 8 and best_val_0_auc = 0.99972\n"
     ]
    },
    {
     "name": "stderr",
     "output_type": "stream",
     "text": [
      "/opt/homebrew/lib/python3.11/site-packages/pytorch_tabnet/callbacks.py:172: UserWarning: Best weights from best epoch are automatically used!\n",
      "  warnings.warn(wrn_msg)\n"
     ]
    },
    {
     "name": "stdout",
     "output_type": "stream",
     "text": [
      "epoch 0  | loss: 0.08428 | val_0_auc: 0.99332 |  0:00:19s\n",
      "epoch 1  | loss: 0.03909 | val_0_auc: 0.99836 |  0:00:37s\n",
      "epoch 2  | loss: 0.03379 | val_0_auc: 0.99875 |  0:00:55s\n",
      "epoch 3  | loss: 0.03203 | val_0_auc: 0.99873 |  0:01:14s\n",
      "epoch 4  | loss: 0.02462 | val_0_auc: 0.99379 |  0:01:33s\n",
      "epoch 5  | loss: 0.01669 | val_0_auc: 0.99921 |  0:01:51s\n",
      "epoch 6  | loss: 0.0111  | val_0_auc: 0.99979 |  0:02:08s\n",
      "epoch 7  | loss: 0.01221 | val_0_auc: 0.99199 |  0:02:26s\n",
      "epoch 8  | loss: 0.01175 | val_0_auc: 0.99985 |  0:02:43s\n",
      "epoch 9  | loss: 0.00882 | val_0_auc: 0.99995 |  0:03:01s\n",
      "Stop training because you reached max_epochs = 10 with best_epoch = 9 and best_val_0_auc = 0.99995\n"
     ]
    },
    {
     "name": "stderr",
     "output_type": "stream",
     "text": [
      "/opt/homebrew/lib/python3.11/site-packages/pytorch_tabnet/callbacks.py:172: UserWarning: Best weights from best epoch are automatically used!\n",
      "  warnings.warn(wrn_msg)\n"
     ]
    },
    {
     "name": "stdout",
     "output_type": "stream",
     "text": [
      "epoch 0  | loss: 0.08728 | val_0_auc: 0.98482 |  0:00:17s\n",
      "epoch 1  | loss: 0.04922 | val_0_auc: 0.99755 |  0:00:35s\n",
      "epoch 2  | loss: 0.04569 | val_0_auc: 0.99866 |  0:00:53s\n",
      "epoch 3  | loss: 0.03724 | val_0_auc: 0.99861 |  0:04:14s\n",
      "epoch 4  | loss: 0.03645 | val_0_auc: 0.99868 |  0:04:38s\n",
      "epoch 5  | loss: 0.0329  | val_0_auc: 0.99933 |  0:04:56s\n",
      "epoch 6  | loss: 0.03419 | val_0_auc: 0.99868 |  0:05:12s\n",
      "epoch 7  | loss: 0.034   | val_0_auc: 0.99776 |  0:05:29s\n",
      "epoch 8  | loss: 0.02363 | val_0_auc: 0.9988  |  0:05:45s\n",
      "epoch 9  | loss: 0.02467 | val_0_auc: 0.99987 |  0:06:01s\n",
      "Stop training because you reached max_epochs = 10 with best_epoch = 9 and best_val_0_auc = 0.99987\n"
     ]
    },
    {
     "name": "stderr",
     "output_type": "stream",
     "text": [
      "/opt/homebrew/lib/python3.11/site-packages/pytorch_tabnet/callbacks.py:172: UserWarning: Best weights from best epoch are automatically used!\n",
      "  warnings.warn(wrn_msg)\n"
     ]
    },
    {
     "name": "stdout",
     "output_type": "stream",
     "text": [
      "epoch 0  | loss: 0.11871 | val_0_auc: 0.94312 |  0:00:09s\n",
      "epoch 1  | loss: 0.04974 | val_0_auc: 0.9919  |  0:00:19s\n",
      "epoch 2  | loss: 0.04037 | val_0_auc: 0.99449 |  0:00:28s\n",
      "epoch 3  | loss: 0.03631 | val_0_auc: 0.99719 |  0:00:37s\n",
      "epoch 4  | loss: 0.03558 | val_0_auc: 0.99908 |  0:00:47s\n",
      "epoch 5  | loss: 0.03083 | val_0_auc: 0.99913 |  0:00:56s\n",
      "epoch 6  | loss: 0.02971 | val_0_auc: 0.99911 |  0:01:05s\n",
      "epoch 7  | loss: 0.02611 | val_0_auc: 0.99934 |  0:01:14s\n",
      "epoch 8  | loss: 0.02747 | val_0_auc: 0.99928 |  0:01:23s\n",
      "epoch 9  | loss: 0.03124 | val_0_auc: 0.99872 |  0:01:32s\n",
      "Stop training because you reached max_epochs = 10 with best_epoch = 7 and best_val_0_auc = 0.99934\n"
     ]
    },
    {
     "name": "stderr",
     "output_type": "stream",
     "text": [
      "/opt/homebrew/lib/python3.11/site-packages/pytorch_tabnet/callbacks.py:172: UserWarning: Best weights from best epoch are automatically used!\n",
      "  warnings.warn(wrn_msg)\n"
     ]
    }
   ],
   "source": [
    "for i in range(num_batches):\n",
    "    start_idx = i * batch_size\n",
    "    end_idx = (i + 1) * batch_size\n",
    "    X_batch = X_train[start_idx:end_idx]\n",
    "    y_batch = y_train[start_idx:end_idx]\n",
    "    tabnet_clf.fit(X_batch, y_batch, eval_set=[(X_batch, y_batch)], max_epochs=10)\n",
    "\n",
    "if len(X_train) % batch_size != 0:\n",
    "    start_idx = num_batches * batch_size\n",
    "    X_batch = X_train[start_idx:]\n",
    "    y_batch = y_train[start_idx:]\n",
    "    tabnet_clf.fit(X_batch, y_batch, eval_set=[(X_batch, y_batch)], max_epochs=10)"
   ]
  },
  {
   "cell_type": "code",
   "execution_count": 22,
   "metadata": {},
   "outputs": [],
   "source": [
    "y_pred = tabnet_clf.predict(X_test)"
   ]
  },
  {
   "cell_type": "code",
   "execution_count": 23,
   "metadata": {},
   "outputs": [
    {
     "name": "stdout",
     "output_type": "stream",
     "text": [
      "Accuracy: 0.9953680096587526\n",
      "precision_benign: 0.9982040926452114\n",
      "recall_benign: 0.9900071079148722\n",
      "f1_benign: 0.9940887030412952\n",
      "precision_malicious: 0.9982040926452114\n",
      "recall_malicious: 0.9900071079148722\n",
      "f1_malicious: 0.9961921040247946\n"
     ]
    }
   ],
   "source": [
    "accuracy = accuracy_score(y_test, y_pred)\n",
    "precision_benign = precision_score(y_test, y_pred, pos_label=0)\n",
    "recall_benign = recall_score(y_test, y_pred, pos_label=0)\n",
    "f1_benign = f1_score(y_test, y_pred, pos_label=0)\n",
    "precision_malicious = precision_score(y_test, y_pred, pos_label=1)\n",
    "recall_malicious = recall_score(y_test, y_pred, pos_label=1)\n",
    "f1_malicious = f1_score(y_test, y_pred, pos_label=1)\n",
    "\n",
    "# Print evaluation metrics\n",
    "print(\"Accuracy:\", accuracy)\n",
    "print(\"precision_benign:\", precision_benign)\n",
    "print(\"recall_benign:\", recall_benign)\n",
    "print(\"f1_benign:\", f1_benign)\n",
    "print(\"precision_malicious:\", precision_benign)\n",
    "print(\"recall_malicious:\", recall_benign)\n",
    "print(\"f1_malicious:\", f1_malicious)"
   ]
  },
  {
   "cell_type": "code",
   "execution_count": 24,
   "metadata": {},
   "outputs": [
    {
     "name": "stdout",
     "output_type": "stream",
     "text": [
      "\n",
      "Classification Report:\n",
      "              precision    recall  f1-score   support\n",
      "\n",
      "           0       1.00      0.99      0.99    119585\n",
      "           1       0.99      1.00      1.00    184388\n",
      "\n",
      "    accuracy                           1.00    303973\n",
      "   macro avg       1.00      0.99      1.00    303973\n",
      "weighted avg       1.00      1.00      1.00    303973\n",
      "\n"
     ]
    }
   ],
   "source": [
    "print(\"\\nClassification Report:\")\n",
    "print(classification_report(y_test, y_pred))"
   ]
  }
 ],
 "metadata": {
  "kernelspec": {
   "display_name": "Python 3",
   "language": "python",
   "name": "python3"
  },
  "language_info": {
   "codemirror_mode": {
    "name": "ipython",
    "version": 3
   },
   "file_extension": ".py",
   "mimetype": "text/x-python",
   "name": "python",
   "nbconvert_exporter": "python",
   "pygments_lexer": "ipython3",
   "version": "3.11.5"
  }
 },
 "nbformat": 4,
 "nbformat_minor": 2
}
